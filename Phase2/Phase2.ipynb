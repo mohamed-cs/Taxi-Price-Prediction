{
 "cells": [
  {
   "cell_type": "markdown",
   "metadata": {},
   "source": [
    "## Importing The libraries"
   ]
  },
  {
   "cell_type": "code",
   "execution_count": 1,
   "metadata": {},
   "outputs": [],
   "source": [
    "import pandas as pd\n",
    "import matplotlib.pyplot as plt \n",
    "%matplotlib inline\n",
    "import seaborn as sns\n",
    "from scipy import stats\n",
    "from datetime import datetime \n",
    "from sklearn.preprocessing import OrdinalEncoder\n",
    "from sklearn.preprocessing import MinMaxScaler\n",
    "from sklearn.impute import KNNImputer\n",
    "import category_encoders as ce\n",
    "from sklearn.preprocessing import StandardScaler\n",
    "from sklearn import linear_model\n",
    "from sklearn import metrics\n",
    "from sklearn.model_selection import train_test_split\n",
    "from sklearn.preprocessing import PolynomialFeatures\n",
    "from sklearn import svm\n",
    "from sklearn import metrics\n",
    "from sklearn.model_selection import GridSearchCV\n",
    "import time"
   ]
  },
  {
   "cell_type": "markdown",
   "metadata": {},
   "source": [
    "## Importing The Data"
   ]
  },
  {
   "cell_type": "code",
   "execution_count": 2,
   "metadata": {},
   "outputs": [],
   "source": [
    "df = pd.read_csv(\"taxi-rides-classification.csv\")\n",
    "w = pd.read_csv(\"weather.csv\")"
   ]
  },
  {
   "cell_type": "markdown",
   "metadata": {},
   "source": [
    "## General Properties"
   ]
  },
  {
   "cell_type": "code",
   "execution_count": 3,
   "metadata": {
    "scrolled": true
   },
   "outputs": [
    {
     "data": {
      "text/html": [
       "<div>\n",
       "<style scoped>\n",
       "    .dataframe tbody tr th:only-of-type {\n",
       "        vertical-align: middle;\n",
       "    }\n",
       "\n",
       "    .dataframe tbody tr th {\n",
       "        vertical-align: top;\n",
       "    }\n",
       "\n",
       "    .dataframe thead th {\n",
       "        text-align: right;\n",
       "    }\n",
       "</style>\n",
       "<table border=\"1\" class=\"dataframe\">\n",
       "  <thead>\n",
       "    <tr style=\"text-align: right;\">\n",
       "      <th></th>\n",
       "      <th>distance</th>\n",
       "      <th>cab_type</th>\n",
       "      <th>time_stamp</th>\n",
       "      <th>destination</th>\n",
       "      <th>source</th>\n",
       "      <th>surge_multiplier</th>\n",
       "      <th>id</th>\n",
       "      <th>product_id</th>\n",
       "      <th>name</th>\n",
       "      <th>RideCategory</th>\n",
       "    </tr>\n",
       "  </thead>\n",
       "  <tbody>\n",
       "    <tr>\n",
       "      <th>0</th>\n",
       "      <td>0.62</td>\n",
       "      <td>Uber</td>\n",
       "      <td>1.544770e+12</td>\n",
       "      <td>West End</td>\n",
       "      <td>Haymarket Square</td>\n",
       "      <td>1.0</td>\n",
       "      <td>c1b4a572-24b2-484d-aac5-b4f97b790480</td>\n",
       "      <td>8cf7e821-f0d3-49c6-8eba-e679c0ebcf6a</td>\n",
       "      <td>Taxi</td>\n",
       "      <td>unknown</td>\n",
       "    </tr>\n",
       "    <tr>\n",
       "      <th>1</th>\n",
       "      <td>2.27</td>\n",
       "      <td>Uber</td>\n",
       "      <td>1.543400e+12</td>\n",
       "      <td>Boston University</td>\n",
       "      <td>Beacon Hill</td>\n",
       "      <td>1.0</td>\n",
       "      <td>f9e7e7e6-b309-479b-9f90-bf26a1870c81</td>\n",
       "      <td>997acbb5-e102-41e1-b155-9df7de0a73f2</td>\n",
       "      <td>UberPool</td>\n",
       "      <td>cheap</td>\n",
       "    </tr>\n",
       "    <tr>\n",
       "      <th>2</th>\n",
       "      <td>2.00</td>\n",
       "      <td>Lyft</td>\n",
       "      <td>1.544920e+12</td>\n",
       "      <td>Back Bay</td>\n",
       "      <td>Haymarket Square</td>\n",
       "      <td>1.0</td>\n",
       "      <td>154e8438-46f5-4e5f-9872-15cc95e85eed</td>\n",
       "      <td>lyft</td>\n",
       "      <td>Lyft</td>\n",
       "      <td>moderate</td>\n",
       "    </tr>\n",
       "    <tr>\n",
       "      <th>3</th>\n",
       "      <td>3.98</td>\n",
       "      <td>Lyft</td>\n",
       "      <td>1.543620e+12</td>\n",
       "      <td>Financial District</td>\n",
       "      <td>Northeastern University</td>\n",
       "      <td>1.0</td>\n",
       "      <td>6bdc30a6-9a80-487b-914e-8d9b82ee4acb</td>\n",
       "      <td>lyft_plus</td>\n",
       "      <td>Lyft XL</td>\n",
       "      <td>expensive</td>\n",
       "    </tr>\n",
       "    <tr>\n",
       "      <th>4</th>\n",
       "      <td>1.49</td>\n",
       "      <td>Lyft</td>\n",
       "      <td>1.543580e+12</td>\n",
       "      <td>Back Bay</td>\n",
       "      <td>Northeastern University</td>\n",
       "      <td>1.0</td>\n",
       "      <td>0cb12fe9-cd72-4feb-b341-4a566b2e6643</td>\n",
       "      <td>lyft</td>\n",
       "      <td>Lyft</td>\n",
       "      <td>cheap</td>\n",
       "    </tr>\n",
       "  </tbody>\n",
       "</table>\n",
       "</div>"
      ],
      "text/plain": [
       "   distance cab_type    time_stamp         destination  \\\n",
       "0      0.62     Uber  1.544770e+12            West End   \n",
       "1      2.27     Uber  1.543400e+12   Boston University   \n",
       "2      2.00     Lyft  1.544920e+12            Back Bay   \n",
       "3      3.98     Lyft  1.543620e+12  Financial District   \n",
       "4      1.49     Lyft  1.543580e+12            Back Bay   \n",
       "\n",
       "                    source  surge_multiplier  \\\n",
       "0         Haymarket Square               1.0   \n",
       "1              Beacon Hill               1.0   \n",
       "2         Haymarket Square               1.0   \n",
       "3  Northeastern University               1.0   \n",
       "4  Northeastern University               1.0   \n",
       "\n",
       "                                     id                            product_id  \\\n",
       "0  c1b4a572-24b2-484d-aac5-b4f97b790480  8cf7e821-f0d3-49c6-8eba-e679c0ebcf6a   \n",
       "1  f9e7e7e6-b309-479b-9f90-bf26a1870c81  997acbb5-e102-41e1-b155-9df7de0a73f2   \n",
       "2  154e8438-46f5-4e5f-9872-15cc95e85eed                                  lyft   \n",
       "3  6bdc30a6-9a80-487b-914e-8d9b82ee4acb                             lyft_plus   \n",
       "4  0cb12fe9-cd72-4feb-b341-4a566b2e6643                                  lyft   \n",
       "\n",
       "       name RideCategory  \n",
       "0      Taxi      unknown  \n",
       "1  UberPool        cheap  \n",
       "2      Lyft     moderate  \n",
       "3   Lyft XL    expensive  \n",
       "4      Lyft        cheap  "
      ]
     },
     "execution_count": 3,
     "metadata": {},
     "output_type": "execute_result"
    }
   ],
   "source": [
    "df.head()"
   ]
  },
  {
   "cell_type": "code",
   "execution_count": 4,
   "metadata": {},
   "outputs": [
    {
     "data": {
      "text/plain": [
       "moderate          92645\n",
       "cheap             88008\n",
       "expensive         62958\n",
       "unknown           44135\n",
       "very expensive    20723\n",
       "Name: RideCategory, dtype: int64"
      ]
     },
     "execution_count": 4,
     "metadata": {},
     "output_type": "execute_result"
    }
   ],
   "source": [
    "df[df.cab_type=='Uber'].RideCategory.value_counts()"
   ]
  },
  {
   "cell_type": "code",
   "execution_count": 5,
   "metadata": {},
   "outputs": [
    {
     "data": {
      "text/plain": [
       "moderate          85299\n",
       "expensive         66134\n",
       "cheap             63706\n",
       "very expensive    30848\n",
       "Name: RideCategory, dtype: int64"
      ]
     },
     "execution_count": 5,
     "metadata": {},
     "output_type": "execute_result"
    }
   ],
   "source": [
    "df[df.cab_type=='Lyft'].RideCategory.value_counts()"
   ]
  },
  {
   "cell_type": "code",
   "execution_count": 6,
   "metadata": {},
   "outputs": [
    {
     "data": {
      "text/plain": [
       "(554456, 10)"
      ]
     },
     "execution_count": 6,
     "metadata": {},
     "output_type": "execute_result"
    }
   ],
   "source": [
    "df.shape"
   ]
  },
  {
   "cell_type": "code",
   "execution_count": 7,
   "metadata": {},
   "outputs": [
    {
     "data": {
      "text/plain": [
       "distance            float64\n",
       "cab_type             object\n",
       "time_stamp          float64\n",
       "destination          object\n",
       "source               object\n",
       "surge_multiplier    float64\n",
       "id                   object\n",
       "product_id           object\n",
       "name                 object\n",
       "RideCategory         object\n",
       "dtype: object"
      ]
     },
     "execution_count": 7,
     "metadata": {},
     "output_type": "execute_result"
    }
   ],
   "source": [
    "df.dtypes"
   ]
  },
  {
   "cell_type": "code",
   "execution_count": 8,
   "metadata": {},
   "outputs": [
    {
     "name": "stdout",
     "output_type": "stream",
     "text": [
      "<class 'pandas.core.frame.DataFrame'>\n",
      "RangeIndex: 554456 entries, 0 to 554455\n",
      "Data columns (total 10 columns):\n",
      " #   Column            Non-Null Count   Dtype  \n",
      "---  ------            --------------   -----  \n",
      " 0   distance          554456 non-null  float64\n",
      " 1   cab_type          554456 non-null  object \n",
      " 2   time_stamp        554456 non-null  float64\n",
      " 3   destination       554456 non-null  object \n",
      " 4   source            554456 non-null  object \n",
      " 5   surge_multiplier  554456 non-null  float64\n",
      " 6   id                554456 non-null  object \n",
      " 7   product_id        554456 non-null  object \n",
      " 8   name              554456 non-null  object \n",
      " 9   RideCategory      554456 non-null  object \n",
      "dtypes: float64(3), object(7)\n",
      "memory usage: 42.3+ MB\n"
     ]
    }
   ],
   "source": [
    "df.info()"
   ]
  },
  {
   "cell_type": "markdown",
   "metadata": {},
   "source": [
    "#### cab_type : is coming as object. Since cabtype is a either uber or lyft we can apply one hot encoding method to it. \n",
    "#### time_stamp : is coming as float64. Since timestamp indcates date so we can convert it into datetime.\n",
    "#### there is null values in price (we will handle it later after some invstigation)"
   ]
  },
  {
   "cell_type": "code",
   "execution_count": 9,
   "metadata": {},
   "outputs": [],
   "source": [
    "# appling one hot encoding on cap_type column \n",
    "df = pd.get_dummies(df, columns=[\"cab_type\"])"
   ]
  },
  {
   "cell_type": "markdown",
   "metadata": {},
   "source": [
    "#### we replaced timestamp with date coulmn and hour so we are going to drop time stamp coulmn"
   ]
  },
  {
   "cell_type": "code",
   "execution_count": 10,
   "metadata": {},
   "outputs": [],
   "source": [
    "# convert timestamp to datetime\n",
    "df['time_stamp']=df['time_stamp'].astype('Int64')/1000\n",
    "df['date'] = [datetime.fromtimestamp(x)for x in df['time_stamp']]"
   ]
  },
  {
   "cell_type": "code",
   "execution_count": 11,
   "metadata": {
    "scrolled": true
   },
   "outputs": [
    {
     "data": {
      "text/html": [
       "<div>\n",
       "<style scoped>\n",
       "    .dataframe tbody tr th:only-of-type {\n",
       "        vertical-align: middle;\n",
       "    }\n",
       "\n",
       "    .dataframe tbody tr th {\n",
       "        vertical-align: top;\n",
       "    }\n",
       "\n",
       "    .dataframe thead th {\n",
       "        text-align: right;\n",
       "    }\n",
       "</style>\n",
       "<table border=\"1\" class=\"dataframe\">\n",
       "  <thead>\n",
       "    <tr style=\"text-align: right;\">\n",
       "      <th></th>\n",
       "      <th>distance</th>\n",
       "      <th>time_stamp</th>\n",
       "      <th>destination</th>\n",
       "      <th>source</th>\n",
       "      <th>surge_multiplier</th>\n",
       "      <th>id</th>\n",
       "      <th>product_id</th>\n",
       "      <th>name</th>\n",
       "      <th>RideCategory</th>\n",
       "      <th>cab_type_Lyft</th>\n",
       "      <th>cab_type_Uber</th>\n",
       "      <th>date</th>\n",
       "    </tr>\n",
       "  </thead>\n",
       "  <tbody>\n",
       "    <tr>\n",
       "      <th>0</th>\n",
       "      <td>0.62</td>\n",
       "      <td>1.544770e+09</td>\n",
       "      <td>West End</td>\n",
       "      <td>Haymarket Square</td>\n",
       "      <td>1.0</td>\n",
       "      <td>c1b4a572-24b2-484d-aac5-b4f97b790480</td>\n",
       "      <td>8cf7e821-f0d3-49c6-8eba-e679c0ebcf6a</td>\n",
       "      <td>Taxi</td>\n",
       "      <td>unknown</td>\n",
       "      <td>0</td>\n",
       "      <td>1</td>\n",
       "      <td>2018-12-14 08:46:40</td>\n",
       "    </tr>\n",
       "    <tr>\n",
       "      <th>1</th>\n",
       "      <td>2.27</td>\n",
       "      <td>1.543400e+09</td>\n",
       "      <td>Boston University</td>\n",
       "      <td>Beacon Hill</td>\n",
       "      <td>1.0</td>\n",
       "      <td>f9e7e7e6-b309-479b-9f90-bf26a1870c81</td>\n",
       "      <td>997acbb5-e102-41e1-b155-9df7de0a73f2</td>\n",
       "      <td>UberPool</td>\n",
       "      <td>cheap</td>\n",
       "      <td>0</td>\n",
       "      <td>1</td>\n",
       "      <td>2018-11-28 12:13:20</td>\n",
       "    </tr>\n",
       "    <tr>\n",
       "      <th>2</th>\n",
       "      <td>2.00</td>\n",
       "      <td>1.544920e+09</td>\n",
       "      <td>Back Bay</td>\n",
       "      <td>Haymarket Square</td>\n",
       "      <td>1.0</td>\n",
       "      <td>154e8438-46f5-4e5f-9872-15cc95e85eed</td>\n",
       "      <td>lyft</td>\n",
       "      <td>Lyft</td>\n",
       "      <td>moderate</td>\n",
       "      <td>1</td>\n",
       "      <td>0</td>\n",
       "      <td>2018-12-16 02:26:40</td>\n",
       "    </tr>\n",
       "  </tbody>\n",
       "</table>\n",
       "</div>"
      ],
      "text/plain": [
       "   distance    time_stamp        destination            source  \\\n",
       "0      0.62  1.544770e+09           West End  Haymarket Square   \n",
       "1      2.27  1.543400e+09  Boston University       Beacon Hill   \n",
       "2      2.00  1.544920e+09           Back Bay  Haymarket Square   \n",
       "\n",
       "   surge_multiplier                                    id  \\\n",
       "0               1.0  c1b4a572-24b2-484d-aac5-b4f97b790480   \n",
       "1               1.0  f9e7e7e6-b309-479b-9f90-bf26a1870c81   \n",
       "2               1.0  154e8438-46f5-4e5f-9872-15cc95e85eed   \n",
       "\n",
       "                             product_id      name RideCategory  cab_type_Lyft  \\\n",
       "0  8cf7e821-f0d3-49c6-8eba-e679c0ebcf6a      Taxi      unknown              0   \n",
       "1  997acbb5-e102-41e1-b155-9df7de0a73f2  UberPool        cheap              0   \n",
       "2                                  lyft      Lyft     moderate              1   \n",
       "\n",
       "   cab_type_Uber                date  \n",
       "0              1 2018-12-14 08:46:40  \n",
       "1              1 2018-11-28 12:13:20  \n",
       "2              0 2018-12-16 02:26:40  "
      ]
     },
     "execution_count": 11,
     "metadata": {},
     "output_type": "execute_result"
    }
   ],
   "source": [
    "df.head(3)"
   ]
  },
  {
   "cell_type": "code",
   "execution_count": 12,
   "metadata": {},
   "outputs": [],
   "source": [
    "df = df.drop(['time_stamp'], axis = 1)"
   ]
  },
  {
   "cell_type": "markdown",
   "metadata": {},
   "source": [
    "#### we made hour coulmn "
   ]
  },
  {
   "cell_type": "code",
   "execution_count": 13,
   "metadata": {},
   "outputs": [],
   "source": [
    "df['hour']=df.date.dt.hour"
   ]
  },
  {
   "cell_type": "markdown",
   "metadata": {},
   "source": [
    "#### updated date coulmn "
   ]
  },
  {
   "cell_type": "code",
   "execution_count": 14,
   "metadata": {},
   "outputs": [],
   "source": [
    "df.date = df.date.dt.date\n",
    "df['date'] = df['date'].astype('datetime64[ns]')"
   ]
  },
  {
   "cell_type": "code",
   "execution_count": 15,
   "metadata": {
    "scrolled": false
   },
   "outputs": [
    {
     "data": {
      "text/html": [
       "<div>\n",
       "<style scoped>\n",
       "    .dataframe tbody tr th:only-of-type {\n",
       "        vertical-align: middle;\n",
       "    }\n",
       "\n",
       "    .dataframe tbody tr th {\n",
       "        vertical-align: top;\n",
       "    }\n",
       "\n",
       "    .dataframe thead th {\n",
       "        text-align: right;\n",
       "    }\n",
       "</style>\n",
       "<table border=\"1\" class=\"dataframe\">\n",
       "  <thead>\n",
       "    <tr style=\"text-align: right;\">\n",
       "      <th></th>\n",
       "      <th>distance</th>\n",
       "      <th>destination</th>\n",
       "      <th>source</th>\n",
       "      <th>surge_multiplier</th>\n",
       "      <th>id</th>\n",
       "      <th>product_id</th>\n",
       "      <th>name</th>\n",
       "      <th>RideCategory</th>\n",
       "      <th>cab_type_Lyft</th>\n",
       "      <th>cab_type_Uber</th>\n",
       "      <th>date</th>\n",
       "      <th>hour</th>\n",
       "    </tr>\n",
       "  </thead>\n",
       "  <tbody>\n",
       "    <tr>\n",
       "      <th>0</th>\n",
       "      <td>0.62</td>\n",
       "      <td>West End</td>\n",
       "      <td>Haymarket Square</td>\n",
       "      <td>1.0</td>\n",
       "      <td>c1b4a572-24b2-484d-aac5-b4f97b790480</td>\n",
       "      <td>8cf7e821-f0d3-49c6-8eba-e679c0ebcf6a</td>\n",
       "      <td>Taxi</td>\n",
       "      <td>unknown</td>\n",
       "      <td>0</td>\n",
       "      <td>1</td>\n",
       "      <td>2018-12-14</td>\n",
       "      <td>8</td>\n",
       "    </tr>\n",
       "    <tr>\n",
       "      <th>1</th>\n",
       "      <td>2.27</td>\n",
       "      <td>Boston University</td>\n",
       "      <td>Beacon Hill</td>\n",
       "      <td>1.0</td>\n",
       "      <td>f9e7e7e6-b309-479b-9f90-bf26a1870c81</td>\n",
       "      <td>997acbb5-e102-41e1-b155-9df7de0a73f2</td>\n",
       "      <td>UberPool</td>\n",
       "      <td>cheap</td>\n",
       "      <td>0</td>\n",
       "      <td>1</td>\n",
       "      <td>2018-11-28</td>\n",
       "      <td>12</td>\n",
       "    </tr>\n",
       "    <tr>\n",
       "      <th>2</th>\n",
       "      <td>2.00</td>\n",
       "      <td>Back Bay</td>\n",
       "      <td>Haymarket Square</td>\n",
       "      <td>1.0</td>\n",
       "      <td>154e8438-46f5-4e5f-9872-15cc95e85eed</td>\n",
       "      <td>lyft</td>\n",
       "      <td>Lyft</td>\n",
       "      <td>moderate</td>\n",
       "      <td>1</td>\n",
       "      <td>0</td>\n",
       "      <td>2018-12-16</td>\n",
       "      <td>2</td>\n",
       "    </tr>\n",
       "  </tbody>\n",
       "</table>\n",
       "</div>"
      ],
      "text/plain": [
       "   distance        destination            source  surge_multiplier  \\\n",
       "0      0.62           West End  Haymarket Square               1.0   \n",
       "1      2.27  Boston University       Beacon Hill               1.0   \n",
       "2      2.00           Back Bay  Haymarket Square               1.0   \n",
       "\n",
       "                                     id                            product_id  \\\n",
       "0  c1b4a572-24b2-484d-aac5-b4f97b790480  8cf7e821-f0d3-49c6-8eba-e679c0ebcf6a   \n",
       "1  f9e7e7e6-b309-479b-9f90-bf26a1870c81  997acbb5-e102-41e1-b155-9df7de0a73f2   \n",
       "2  154e8438-46f5-4e5f-9872-15cc95e85eed                                  lyft   \n",
       "\n",
       "       name RideCategory  cab_type_Lyft  cab_type_Uber       date  hour  \n",
       "0      Taxi      unknown              0              1 2018-12-14     8  \n",
       "1  UberPool        cheap              0              1 2018-11-28    12  \n",
       "2      Lyft     moderate              1              0 2018-12-16     2  "
      ]
     },
     "execution_count": 15,
     "metadata": {},
     "output_type": "execute_result"
    }
   ],
   "source": [
    "df.head(3)"
   ]
  },
  {
   "cell_type": "markdown",
   "metadata": {},
   "source": [
    "## handing null values"
   ]
  },
  {
   "cell_type": "markdown",
   "metadata": {},
   "source": [
    "#### we can that there is no null values of RideCategory come with our data"
   ]
  },
  {
   "cell_type": "code",
   "execution_count": 16,
   "metadata": {
    "scrolled": true
   },
   "outputs": [
    {
     "data": {
      "text/html": [
       "<div>\n",
       "<style scoped>\n",
       "    .dataframe tbody tr th:only-of-type {\n",
       "        vertical-align: middle;\n",
       "    }\n",
       "\n",
       "    .dataframe tbody tr th {\n",
       "        vertical-align: top;\n",
       "    }\n",
       "\n",
       "    .dataframe thead th {\n",
       "        text-align: right;\n",
       "    }\n",
       "</style>\n",
       "<table border=\"1\" class=\"dataframe\">\n",
       "  <thead>\n",
       "    <tr style=\"text-align: right;\">\n",
       "      <th></th>\n",
       "      <th>distance</th>\n",
       "      <th>destination</th>\n",
       "      <th>source</th>\n",
       "      <th>surge_multiplier</th>\n",
       "      <th>id</th>\n",
       "      <th>product_id</th>\n",
       "      <th>name</th>\n",
       "      <th>RideCategory</th>\n",
       "      <th>cab_type_Lyft</th>\n",
       "      <th>cab_type_Uber</th>\n",
       "      <th>date</th>\n",
       "      <th>hour</th>\n",
       "    </tr>\n",
       "  </thead>\n",
       "  <tbody>\n",
       "  </tbody>\n",
       "</table>\n",
       "</div>"
      ],
      "text/plain": [
       "Empty DataFrame\n",
       "Columns: [distance, destination, source, surge_multiplier, id, product_id, name, RideCategory, cab_type_Lyft, cab_type_Uber, date, hour]\n",
       "Index: []"
      ]
     },
     "execution_count": 16,
     "metadata": {},
     "output_type": "execute_result"
    }
   ],
   "source": [
    "df[df.RideCategory.isnull()].head()"
   ]
  },
  {
   "cell_type": "markdown",
   "metadata": {},
   "source": [
    "## we don't need product id as name can replace it "
   ]
  },
  {
   "cell_type": "code",
   "execution_count": 17,
   "metadata": {},
   "outputs": [],
   "source": [
    "df = df.drop(['product_id'], axis = 1)"
   ]
  },
  {
   "cell_type": "code",
   "execution_count": 18,
   "metadata": {},
   "outputs": [
    {
     "data": {
      "text/html": [
       "<div>\n",
       "<style scoped>\n",
       "    .dataframe tbody tr th:only-of-type {\n",
       "        vertical-align: middle;\n",
       "    }\n",
       "\n",
       "    .dataframe tbody tr th {\n",
       "        vertical-align: top;\n",
       "    }\n",
       "\n",
       "    .dataframe thead th {\n",
       "        text-align: right;\n",
       "    }\n",
       "</style>\n",
       "<table border=\"1\" class=\"dataframe\">\n",
       "  <thead>\n",
       "    <tr style=\"text-align: right;\">\n",
       "      <th></th>\n",
       "      <th>distance</th>\n",
       "      <th>destination</th>\n",
       "      <th>source</th>\n",
       "      <th>surge_multiplier</th>\n",
       "      <th>id</th>\n",
       "      <th>name</th>\n",
       "      <th>RideCategory</th>\n",
       "      <th>cab_type_Lyft</th>\n",
       "      <th>cab_type_Uber</th>\n",
       "      <th>date</th>\n",
       "      <th>hour</th>\n",
       "    </tr>\n",
       "  </thead>\n",
       "  <tbody>\n",
       "    <tr>\n",
       "      <th>0</th>\n",
       "      <td>0.62</td>\n",
       "      <td>West End</td>\n",
       "      <td>Haymarket Square</td>\n",
       "      <td>1.0</td>\n",
       "      <td>c1b4a572-24b2-484d-aac5-b4f97b790480</td>\n",
       "      <td>Taxi</td>\n",
       "      <td>unknown</td>\n",
       "      <td>0</td>\n",
       "      <td>1</td>\n",
       "      <td>2018-12-14</td>\n",
       "      <td>8</td>\n",
       "    </tr>\n",
       "    <tr>\n",
       "      <th>1</th>\n",
       "      <td>2.27</td>\n",
       "      <td>Boston University</td>\n",
       "      <td>Beacon Hill</td>\n",
       "      <td>1.0</td>\n",
       "      <td>f9e7e7e6-b309-479b-9f90-bf26a1870c81</td>\n",
       "      <td>UberPool</td>\n",
       "      <td>cheap</td>\n",
       "      <td>0</td>\n",
       "      <td>1</td>\n",
       "      <td>2018-11-28</td>\n",
       "      <td>12</td>\n",
       "    </tr>\n",
       "    <tr>\n",
       "      <th>2</th>\n",
       "      <td>2.00</td>\n",
       "      <td>Back Bay</td>\n",
       "      <td>Haymarket Square</td>\n",
       "      <td>1.0</td>\n",
       "      <td>154e8438-46f5-4e5f-9872-15cc95e85eed</td>\n",
       "      <td>Lyft</td>\n",
       "      <td>moderate</td>\n",
       "      <td>1</td>\n",
       "      <td>0</td>\n",
       "      <td>2018-12-16</td>\n",
       "      <td>2</td>\n",
       "    </tr>\n",
       "    <tr>\n",
       "      <th>3</th>\n",
       "      <td>3.98</td>\n",
       "      <td>Financial District</td>\n",
       "      <td>Northeastern University</td>\n",
       "      <td>1.0</td>\n",
       "      <td>6bdc30a6-9a80-487b-914e-8d9b82ee4acb</td>\n",
       "      <td>Lyft XL</td>\n",
       "      <td>expensive</td>\n",
       "      <td>1</td>\n",
       "      <td>0</td>\n",
       "      <td>2018-12-01</td>\n",
       "      <td>1</td>\n",
       "    </tr>\n",
       "    <tr>\n",
       "      <th>4</th>\n",
       "      <td>1.49</td>\n",
       "      <td>Back Bay</td>\n",
       "      <td>Northeastern University</td>\n",
       "      <td>1.0</td>\n",
       "      <td>0cb12fe9-cd72-4feb-b341-4a566b2e6643</td>\n",
       "      <td>Lyft</td>\n",
       "      <td>cheap</td>\n",
       "      <td>1</td>\n",
       "      <td>0</td>\n",
       "      <td>2018-11-30</td>\n",
       "      <td>14</td>\n",
       "    </tr>\n",
       "  </tbody>\n",
       "</table>\n",
       "</div>"
      ],
      "text/plain": [
       "   distance         destination                   source  surge_multiplier  \\\n",
       "0      0.62            West End         Haymarket Square               1.0   \n",
       "1      2.27   Boston University              Beacon Hill               1.0   \n",
       "2      2.00            Back Bay         Haymarket Square               1.0   \n",
       "3      3.98  Financial District  Northeastern University               1.0   \n",
       "4      1.49            Back Bay  Northeastern University               1.0   \n",
       "\n",
       "                                     id      name RideCategory  cab_type_Lyft  \\\n",
       "0  c1b4a572-24b2-484d-aac5-b4f97b790480      Taxi      unknown              0   \n",
       "1  f9e7e7e6-b309-479b-9f90-bf26a1870c81  UberPool        cheap              0   \n",
       "2  154e8438-46f5-4e5f-9872-15cc95e85eed      Lyft     moderate              1   \n",
       "3  6bdc30a6-9a80-487b-914e-8d9b82ee4acb   Lyft XL    expensive              1   \n",
       "4  0cb12fe9-cd72-4feb-b341-4a566b2e6643      Lyft        cheap              1   \n",
       "\n",
       "   cab_type_Uber       date  hour  \n",
       "0              1 2018-12-14     8  \n",
       "1              1 2018-11-28    12  \n",
       "2              0 2018-12-16     2  \n",
       "3              0 2018-12-01     1  \n",
       "4              0 2018-11-30    14  "
      ]
     },
     "execution_count": 18,
     "metadata": {},
     "output_type": "execute_result"
    }
   ],
   "source": [
    "df.head()"
   ]
  },
  {
   "cell_type": "code",
   "execution_count": 19,
   "metadata": {
    "scrolled": true
   },
   "outputs": [
    {
     "data": {
      "text/plain": [
       "array([1.  , 1.75, 1.25, 2.5 , 1.5 , 2.  , 3.  ])"
      ]
     },
     "execution_count": 19,
     "metadata": {},
     "output_type": "execute_result"
    }
   ],
   "source": [
    "df.surge_multiplier.unique()"
   ]
  },
  {
   "cell_type": "markdown",
   "metadata": {},
   "source": [
    "## invstigating name further more"
   ]
  },
  {
   "cell_type": "markdown",
   "metadata": {},
   "source": [
    "### comparing name to see how it related to price in lyft cabs thats happend in Phase 1"
   ]
  },
  {
   "cell_type": "code",
   "execution_count": 20,
   "metadata": {},
   "outputs": [
    {
     "data": {
      "text/plain": [
       "array(['Taxi', 'UberPool', 'Black SUV', 'UberX', 'UberXL', 'Black', 'WAV'],\n",
       "      dtype=object)"
      ]
     },
     "execution_count": 20,
     "metadata": {},
     "output_type": "execute_result"
    }
   ],
   "source": [
    "df[df.cab_type_Uber==1].name.unique()"
   ]
  },
  {
   "cell_type": "code",
   "execution_count": 21,
   "metadata": {},
   "outputs": [
    {
     "data": {
      "text/plain": [
       "array(['Lyft', 'Lyft XL', 'Lux Black', 'Lux Black XL', 'Lux', 'Shared'],\n",
       "      dtype=object)"
      ]
     },
     "execution_count": 21,
     "metadata": {},
     "output_type": "execute_result"
    }
   ],
   "source": [
    "df[df.cab_type_Uber==0].name.unique()"
   ]
  },
  {
   "cell_type": "code",
   "execution_count": 22,
   "metadata": {},
   "outputs": [],
   "source": [
    "df = df.assign(Lyft_Type = df[(df.cab_type_Uber==0)].name) "
   ]
  },
  {
   "cell_type": "markdown",
   "metadata": {},
   "source": [
    "### as expected the order was \n",
    "> 1- shared: Share a car with riders headed in the same direction at a discounted price. \n",
    "\n",
    "> 2- lyft: Standard Lyft car for up to 3* riders\n",
    "\n",
    "> 3- lyft xl: SUV for up to 5* riders\n",
    "\n",
    "> 4- lux: Luxury car for up to 3* riders\n",
    "\n",
    "> 5- lux black: Premium black car service with leather seats for up to 3* riders\n",
    "\n",
    "> 6- lux black xl: Premium black SUV with leather seats for up to 5* riders\n",
    "###### we got the description from offical company website: https://help.lyft.com/hc/ru/articles/115012927427-Lyft-ride-modes-overview "
   ]
  },
  {
   "cell_type": "markdown",
   "metadata": {},
   "source": [
    "### comparing name to see how it related to price in Uber cabs"
   ]
  },
  {
   "cell_type": "markdown",
   "metadata": {},
   "source": [
    "### as expected the order was \n",
    "> 1- UberPool: Shared rides, door to door or with a short walk     ($6-$10)\n",
    "\n",
    "> 2- Taxi: Taxi rides    ($9-$11)\n",
    "\n",
    "> 3- UberX: Affordable rides, all to yourself ($9-$12)\n",
    "\n",
    "> 4- UberXL: Affordable rides for groups up to 5   ($15-$20)\n",
    "\n",
    "> 5- WAV: Wheelchair-accessible rides ($30-$35)\n",
    "\n",
    "> 6- black: Luxury rides with professional drivers  ($30-$40)\n",
    "\n",
    "> 7- Black SUV: Luxury rides for 5 with professional drivers    ($42-$52)\n",
    "\n",
    "\n",
    "###### we got the description from offical company website for boston city as these locations are in boston: https://www.uber.com/global/en/cities/boston/ "
   ]
  },
  {
   "cell_type": "code",
   "execution_count": 23,
   "metadata": {},
   "outputs": [],
   "source": [
    "lyft={'Lux Black XL':6,'Lux Black':5,'Lux':4,'Lyft XL':3,'Lyft':2,'Shared':1}\n",
    "lyft_map=[{'col':'Lyft_Type','mapping':lyft}]\n",
    "\n",
    "df['Lyft_Type']=df['name']\n",
    "encodeing= ce.OrdinalEncoder(cols=['Lyft_Type'],return_df=True,mapping=lyft_map)\n",
    "df=encodeing.fit_transform(df)\n",
    "df.loc[df.Lyft_Type <1, 'Lyft_Type'] = 0"
   ]
  },
  {
   "cell_type": "code",
   "execution_count": 24,
   "metadata": {
    "scrolled": true
   },
   "outputs": [
    {
     "data": {
      "text/html": [
       "<div>\n",
       "<style scoped>\n",
       "    .dataframe tbody tr th:only-of-type {\n",
       "        vertical-align: middle;\n",
       "    }\n",
       "\n",
       "    .dataframe tbody tr th {\n",
       "        vertical-align: top;\n",
       "    }\n",
       "\n",
       "    .dataframe thead th {\n",
       "        text-align: right;\n",
       "    }\n",
       "</style>\n",
       "<table border=\"1\" class=\"dataframe\">\n",
       "  <thead>\n",
       "    <tr style=\"text-align: right;\">\n",
       "      <th></th>\n",
       "      <th>distance</th>\n",
       "      <th>destination</th>\n",
       "      <th>source</th>\n",
       "      <th>surge_multiplier</th>\n",
       "      <th>id</th>\n",
       "      <th>name</th>\n",
       "      <th>RideCategory</th>\n",
       "      <th>cab_type_Lyft</th>\n",
       "      <th>cab_type_Uber</th>\n",
       "      <th>date</th>\n",
       "      <th>hour</th>\n",
       "      <th>Lyft_Type</th>\n",
       "    </tr>\n",
       "  </thead>\n",
       "  <tbody>\n",
       "    <tr>\n",
       "      <th>0</th>\n",
       "      <td>0.62</td>\n",
       "      <td>West End</td>\n",
       "      <td>Haymarket Square</td>\n",
       "      <td>1.0</td>\n",
       "      <td>c1b4a572-24b2-484d-aac5-b4f97b790480</td>\n",
       "      <td>Taxi</td>\n",
       "      <td>unknown</td>\n",
       "      <td>0</td>\n",
       "      <td>1</td>\n",
       "      <td>2018-12-14</td>\n",
       "      <td>8</td>\n",
       "      <td>0.0</td>\n",
       "    </tr>\n",
       "    <tr>\n",
       "      <th>1</th>\n",
       "      <td>2.27</td>\n",
       "      <td>Boston University</td>\n",
       "      <td>Beacon Hill</td>\n",
       "      <td>1.0</td>\n",
       "      <td>f9e7e7e6-b309-479b-9f90-bf26a1870c81</td>\n",
       "      <td>UberPool</td>\n",
       "      <td>cheap</td>\n",
       "      <td>0</td>\n",
       "      <td>1</td>\n",
       "      <td>2018-11-28</td>\n",
       "      <td>12</td>\n",
       "      <td>0.0</td>\n",
       "    </tr>\n",
       "    <tr>\n",
       "      <th>2</th>\n",
       "      <td>2.00</td>\n",
       "      <td>Back Bay</td>\n",
       "      <td>Haymarket Square</td>\n",
       "      <td>1.0</td>\n",
       "      <td>154e8438-46f5-4e5f-9872-15cc95e85eed</td>\n",
       "      <td>Lyft</td>\n",
       "      <td>moderate</td>\n",
       "      <td>1</td>\n",
       "      <td>0</td>\n",
       "      <td>2018-12-16</td>\n",
       "      <td>2</td>\n",
       "      <td>2.0</td>\n",
       "    </tr>\n",
       "    <tr>\n",
       "      <th>3</th>\n",
       "      <td>3.98</td>\n",
       "      <td>Financial District</td>\n",
       "      <td>Northeastern University</td>\n",
       "      <td>1.0</td>\n",
       "      <td>6bdc30a6-9a80-487b-914e-8d9b82ee4acb</td>\n",
       "      <td>Lyft XL</td>\n",
       "      <td>expensive</td>\n",
       "      <td>1</td>\n",
       "      <td>0</td>\n",
       "      <td>2018-12-01</td>\n",
       "      <td>1</td>\n",
       "      <td>3.0</td>\n",
       "    </tr>\n",
       "    <tr>\n",
       "      <th>4</th>\n",
       "      <td>1.49</td>\n",
       "      <td>Back Bay</td>\n",
       "      <td>Northeastern University</td>\n",
       "      <td>1.0</td>\n",
       "      <td>0cb12fe9-cd72-4feb-b341-4a566b2e6643</td>\n",
       "      <td>Lyft</td>\n",
       "      <td>cheap</td>\n",
       "      <td>1</td>\n",
       "      <td>0</td>\n",
       "      <td>2018-11-30</td>\n",
       "      <td>14</td>\n",
       "      <td>2.0</td>\n",
       "    </tr>\n",
       "  </tbody>\n",
       "</table>\n",
       "</div>"
      ],
      "text/plain": [
       "   distance         destination                   source  surge_multiplier  \\\n",
       "0      0.62            West End         Haymarket Square               1.0   \n",
       "1      2.27   Boston University              Beacon Hill               1.0   \n",
       "2      2.00            Back Bay         Haymarket Square               1.0   \n",
       "3      3.98  Financial District  Northeastern University               1.0   \n",
       "4      1.49            Back Bay  Northeastern University               1.0   \n",
       "\n",
       "                                     id      name RideCategory  cab_type_Lyft  \\\n",
       "0  c1b4a572-24b2-484d-aac5-b4f97b790480      Taxi      unknown              0   \n",
       "1  f9e7e7e6-b309-479b-9f90-bf26a1870c81  UberPool        cheap              0   \n",
       "2  154e8438-46f5-4e5f-9872-15cc95e85eed      Lyft     moderate              1   \n",
       "3  6bdc30a6-9a80-487b-914e-8d9b82ee4acb   Lyft XL    expensive              1   \n",
       "4  0cb12fe9-cd72-4feb-b341-4a566b2e6643      Lyft        cheap              1   \n",
       "\n",
       "   cab_type_Uber       date  hour  Lyft_Type  \n",
       "0              1 2018-12-14     8        0.0  \n",
       "1              1 2018-11-28    12        0.0  \n",
       "2              0 2018-12-16     2        2.0  \n",
       "3              0 2018-12-01     1        3.0  \n",
       "4              0 2018-11-30    14        2.0  "
      ]
     },
     "execution_count": 24,
     "metadata": {},
     "output_type": "execute_result"
    }
   ],
   "source": [
    "df.head()"
   ]
  },
  {
   "cell_type": "markdown",
   "metadata": {},
   "source": [
    "## we will perform ordinal encoding based on this information "
   ]
  },
  {
   "cell_type": "code",
   "execution_count": 25,
   "metadata": {},
   "outputs": [],
   "source": [
    "df = df.assign(Uber_Type = df[(df.cab_type_Uber==1)].name) "
   ]
  },
  {
   "cell_type": "code",
   "execution_count": 26,
   "metadata": {},
   "outputs": [],
   "source": [
    "uber={'Black SUV':7,'Black':6,'WAV':5,'UberXL':4,'UberX':3,'Taxi':2,'UberPool':1}\n",
    "uber_map=[{'col':'Uber_Type','mapping':uber}]\n",
    "df['Uber_Type']=df['name']\n",
    "encodeing= ce.OrdinalEncoder(cols=['Uber_Type'],return_df=True,mapping=uber_map)\n",
    "df=encodeing.fit_transform(df)\n",
    "df.loc[df.Uber_Type <1, 'Uber_Type'] = 0"
   ]
  },
  {
   "cell_type": "code",
   "execution_count": 27,
   "metadata": {
    "scrolled": true
   },
   "outputs": [
    {
     "data": {
      "text/html": [
       "<div>\n",
       "<style scoped>\n",
       "    .dataframe tbody tr th:only-of-type {\n",
       "        vertical-align: middle;\n",
       "    }\n",
       "\n",
       "    .dataframe tbody tr th {\n",
       "        vertical-align: top;\n",
       "    }\n",
       "\n",
       "    .dataframe thead th {\n",
       "        text-align: right;\n",
       "    }\n",
       "</style>\n",
       "<table border=\"1\" class=\"dataframe\">\n",
       "  <thead>\n",
       "    <tr style=\"text-align: right;\">\n",
       "      <th></th>\n",
       "      <th>distance</th>\n",
       "      <th>destination</th>\n",
       "      <th>source</th>\n",
       "      <th>surge_multiplier</th>\n",
       "      <th>id</th>\n",
       "      <th>name</th>\n",
       "      <th>RideCategory</th>\n",
       "      <th>cab_type_Lyft</th>\n",
       "      <th>cab_type_Uber</th>\n",
       "      <th>date</th>\n",
       "      <th>hour</th>\n",
       "      <th>Lyft_Type</th>\n",
       "      <th>Uber_Type</th>\n",
       "    </tr>\n",
       "  </thead>\n",
       "  <tbody>\n",
       "    <tr>\n",
       "      <th>0</th>\n",
       "      <td>0.62</td>\n",
       "      <td>West End</td>\n",
       "      <td>Haymarket Square</td>\n",
       "      <td>1.0</td>\n",
       "      <td>c1b4a572-24b2-484d-aac5-b4f97b790480</td>\n",
       "      <td>Taxi</td>\n",
       "      <td>unknown</td>\n",
       "      <td>0</td>\n",
       "      <td>1</td>\n",
       "      <td>2018-12-14</td>\n",
       "      <td>8</td>\n",
       "      <td>0.0</td>\n",
       "      <td>2.0</td>\n",
       "    </tr>\n",
       "    <tr>\n",
       "      <th>1</th>\n",
       "      <td>2.27</td>\n",
       "      <td>Boston University</td>\n",
       "      <td>Beacon Hill</td>\n",
       "      <td>1.0</td>\n",
       "      <td>f9e7e7e6-b309-479b-9f90-bf26a1870c81</td>\n",
       "      <td>UberPool</td>\n",
       "      <td>cheap</td>\n",
       "      <td>0</td>\n",
       "      <td>1</td>\n",
       "      <td>2018-11-28</td>\n",
       "      <td>12</td>\n",
       "      <td>0.0</td>\n",
       "      <td>1.0</td>\n",
       "    </tr>\n",
       "    <tr>\n",
       "      <th>2</th>\n",
       "      <td>2.00</td>\n",
       "      <td>Back Bay</td>\n",
       "      <td>Haymarket Square</td>\n",
       "      <td>1.0</td>\n",
       "      <td>154e8438-46f5-4e5f-9872-15cc95e85eed</td>\n",
       "      <td>Lyft</td>\n",
       "      <td>moderate</td>\n",
       "      <td>1</td>\n",
       "      <td>0</td>\n",
       "      <td>2018-12-16</td>\n",
       "      <td>2</td>\n",
       "      <td>2.0</td>\n",
       "      <td>0.0</td>\n",
       "    </tr>\n",
       "    <tr>\n",
       "      <th>3</th>\n",
       "      <td>3.98</td>\n",
       "      <td>Financial District</td>\n",
       "      <td>Northeastern University</td>\n",
       "      <td>1.0</td>\n",
       "      <td>6bdc30a6-9a80-487b-914e-8d9b82ee4acb</td>\n",
       "      <td>Lyft XL</td>\n",
       "      <td>expensive</td>\n",
       "      <td>1</td>\n",
       "      <td>0</td>\n",
       "      <td>2018-12-01</td>\n",
       "      <td>1</td>\n",
       "      <td>3.0</td>\n",
       "      <td>0.0</td>\n",
       "    </tr>\n",
       "    <tr>\n",
       "      <th>4</th>\n",
       "      <td>1.49</td>\n",
       "      <td>Back Bay</td>\n",
       "      <td>Northeastern University</td>\n",
       "      <td>1.0</td>\n",
       "      <td>0cb12fe9-cd72-4feb-b341-4a566b2e6643</td>\n",
       "      <td>Lyft</td>\n",
       "      <td>cheap</td>\n",
       "      <td>1</td>\n",
       "      <td>0</td>\n",
       "      <td>2018-11-30</td>\n",
       "      <td>14</td>\n",
       "      <td>2.0</td>\n",
       "      <td>0.0</td>\n",
       "    </tr>\n",
       "  </tbody>\n",
       "</table>\n",
       "</div>"
      ],
      "text/plain": [
       "   distance         destination                   source  surge_multiplier  \\\n",
       "0      0.62            West End         Haymarket Square               1.0   \n",
       "1      2.27   Boston University              Beacon Hill               1.0   \n",
       "2      2.00            Back Bay         Haymarket Square               1.0   \n",
       "3      3.98  Financial District  Northeastern University               1.0   \n",
       "4      1.49            Back Bay  Northeastern University               1.0   \n",
       "\n",
       "                                     id      name RideCategory  cab_type_Lyft  \\\n",
       "0  c1b4a572-24b2-484d-aac5-b4f97b790480      Taxi      unknown              0   \n",
       "1  f9e7e7e6-b309-479b-9f90-bf26a1870c81  UberPool        cheap              0   \n",
       "2  154e8438-46f5-4e5f-9872-15cc95e85eed      Lyft     moderate              1   \n",
       "3  6bdc30a6-9a80-487b-914e-8d9b82ee4acb   Lyft XL    expensive              1   \n",
       "4  0cb12fe9-cd72-4feb-b341-4a566b2e6643      Lyft        cheap              1   \n",
       "\n",
       "   cab_type_Uber       date  hour  Lyft_Type  Uber_Type  \n",
       "0              1 2018-12-14     8        0.0        2.0  \n",
       "1              1 2018-11-28    12        0.0        1.0  \n",
       "2              0 2018-12-16     2        2.0        0.0  \n",
       "3              0 2018-12-01     1        3.0        0.0  \n",
       "4              0 2018-11-30    14        2.0        0.0  "
      ]
     },
     "execution_count": 27,
     "metadata": {},
     "output_type": "execute_result"
    }
   ],
   "source": [
    "df.head()"
   ]
  },
  {
   "cell_type": "markdown",
   "metadata": {},
   "source": [
    "### we don't name name coulmn anymore after the ordinal encoding proccess so we can drop it"
   ]
  },
  {
   "cell_type": "code",
   "execution_count": 28,
   "metadata": {},
   "outputs": [],
   "source": [
    "df = df.drop(['name'], axis = 1)"
   ]
  },
  {
   "cell_type": "markdown",
   "metadata": {},
   "source": [
    "# weather dataframe Exploration"
   ]
  },
  {
   "cell_type": "code",
   "execution_count": 29,
   "metadata": {
    "scrolled": true
   },
   "outputs": [
    {
     "data": {
      "text/html": [
       "<div>\n",
       "<style scoped>\n",
       "    .dataframe tbody tr th:only-of-type {\n",
       "        vertical-align: middle;\n",
       "    }\n",
       "\n",
       "    .dataframe tbody tr th {\n",
       "        vertical-align: top;\n",
       "    }\n",
       "\n",
       "    .dataframe thead th {\n",
       "        text-align: right;\n",
       "    }\n",
       "</style>\n",
       "<table border=\"1\" class=\"dataframe\">\n",
       "  <thead>\n",
       "    <tr style=\"text-align: right;\">\n",
       "      <th></th>\n",
       "      <th>temp</th>\n",
       "      <th>location</th>\n",
       "      <th>clouds</th>\n",
       "      <th>pressure</th>\n",
       "      <th>rain</th>\n",
       "      <th>time_stamp</th>\n",
       "      <th>humidity</th>\n",
       "      <th>wind</th>\n",
       "    </tr>\n",
       "  </thead>\n",
       "  <tbody>\n",
       "    <tr>\n",
       "      <th>0</th>\n",
       "      <td>42.42</td>\n",
       "      <td>Back Bay</td>\n",
       "      <td>1.0</td>\n",
       "      <td>1012.14</td>\n",
       "      <td>0.1228</td>\n",
       "      <td>1545003901</td>\n",
       "      <td>0.77</td>\n",
       "      <td>11.25</td>\n",
       "    </tr>\n",
       "    <tr>\n",
       "      <th>1</th>\n",
       "      <td>42.43</td>\n",
       "      <td>Beacon Hill</td>\n",
       "      <td>1.0</td>\n",
       "      <td>1012.15</td>\n",
       "      <td>0.1846</td>\n",
       "      <td>1545003901</td>\n",
       "      <td>0.76</td>\n",
       "      <td>11.32</td>\n",
       "    </tr>\n",
       "    <tr>\n",
       "      <th>2</th>\n",
       "      <td>42.50</td>\n",
       "      <td>Boston University</td>\n",
       "      <td>1.0</td>\n",
       "      <td>1012.15</td>\n",
       "      <td>0.1089</td>\n",
       "      <td>1545003901</td>\n",
       "      <td>0.76</td>\n",
       "      <td>11.07</td>\n",
       "    </tr>\n",
       "    <tr>\n",
       "      <th>3</th>\n",
       "      <td>42.11</td>\n",
       "      <td>Fenway</td>\n",
       "      <td>1.0</td>\n",
       "      <td>1012.13</td>\n",
       "      <td>0.0969</td>\n",
       "      <td>1545003901</td>\n",
       "      <td>0.77</td>\n",
       "      <td>11.09</td>\n",
       "    </tr>\n",
       "    <tr>\n",
       "      <th>4</th>\n",
       "      <td>43.13</td>\n",
       "      <td>Financial District</td>\n",
       "      <td>1.0</td>\n",
       "      <td>1012.14</td>\n",
       "      <td>0.1786</td>\n",
       "      <td>1545003901</td>\n",
       "      <td>0.75</td>\n",
       "      <td>11.49</td>\n",
       "    </tr>\n",
       "  </tbody>\n",
       "</table>\n",
       "</div>"
      ],
      "text/plain": [
       "    temp            location  clouds  pressure    rain  time_stamp  humidity  \\\n",
       "0  42.42            Back Bay     1.0   1012.14  0.1228  1545003901      0.77   \n",
       "1  42.43         Beacon Hill     1.0   1012.15  0.1846  1545003901      0.76   \n",
       "2  42.50   Boston University     1.0   1012.15  0.1089  1545003901      0.76   \n",
       "3  42.11              Fenway     1.0   1012.13  0.0969  1545003901      0.77   \n",
       "4  43.13  Financial District     1.0   1012.14  0.1786  1545003901      0.75   \n",
       "\n",
       "    wind  \n",
       "0  11.25  \n",
       "1  11.32  \n",
       "2  11.07  \n",
       "3  11.09  \n",
       "4  11.49  "
      ]
     },
     "execution_count": 29,
     "metadata": {},
     "output_type": "execute_result"
    }
   ],
   "source": [
    "w.head()"
   ]
  },
  {
   "cell_type": "markdown",
   "metadata": {},
   "source": [
    "## General Properties"
   ]
  },
  {
   "cell_type": "code",
   "execution_count": 30,
   "metadata": {
    "scrolled": true
   },
   "outputs": [
    {
     "name": "stdout",
     "output_type": "stream",
     "text": [
      "<class 'pandas.core.frame.DataFrame'>\n",
      "RangeIndex: 6276 entries, 0 to 6275\n",
      "Data columns (total 8 columns):\n",
      " #   Column      Non-Null Count  Dtype  \n",
      "---  ------      --------------  -----  \n",
      " 0   temp        6276 non-null   float64\n",
      " 1   location    6276 non-null   object \n",
      " 2   clouds      6276 non-null   float64\n",
      " 3   pressure    6276 non-null   float64\n",
      " 4   rain        894 non-null    float64\n",
      " 5   time_stamp  6276 non-null   int64  \n",
      " 6   humidity    6276 non-null   float64\n",
      " 7   wind        6276 non-null   float64\n",
      "dtypes: float64(6), int64(1), object(1)\n",
      "memory usage: 392.4+ KB\n"
     ]
    }
   ],
   "source": [
    "w.info()"
   ]
  },
  {
   "cell_type": "markdown",
   "metadata": {},
   "source": [
    "#### time_stamp : is coming as float64. Since timestamp indcates date so we can convert it into datetime.\n",
    "#### there is null values in rain (we will handle it later after some invstigation)"
   ]
  },
  {
   "cell_type": "code",
   "execution_count": 31,
   "metadata": {},
   "outputs": [],
   "source": [
    "w[\"date\"]=[datetime.fromtimestamp(x) for x in w['time_stamp']]"
   ]
  },
  {
   "cell_type": "markdown",
   "metadata": {},
   "source": [
    "### we made hour coulmn"
   ]
  },
  {
   "cell_type": "code",
   "execution_count": 32,
   "metadata": {},
   "outputs": [],
   "source": [
    "w = w.assign(hour = w.date.dt.hour) "
   ]
  },
  {
   "cell_type": "code",
   "execution_count": 33,
   "metadata": {},
   "outputs": [],
   "source": [
    "w['date'] = w['date'].dt.date\n",
    "w['date'] = w['date'].astype('datetime64[ns]')"
   ]
  },
  {
   "cell_type": "code",
   "execution_count": 34,
   "metadata": {
    "scrolled": false
   },
   "outputs": [
    {
     "data": {
      "text/html": [
       "<div>\n",
       "<style scoped>\n",
       "    .dataframe tbody tr th:only-of-type {\n",
       "        vertical-align: middle;\n",
       "    }\n",
       "\n",
       "    .dataframe tbody tr th {\n",
       "        vertical-align: top;\n",
       "    }\n",
       "\n",
       "    .dataframe thead th {\n",
       "        text-align: right;\n",
       "    }\n",
       "</style>\n",
       "<table border=\"1\" class=\"dataframe\">\n",
       "  <thead>\n",
       "    <tr style=\"text-align: right;\">\n",
       "      <th></th>\n",
       "      <th>temp</th>\n",
       "      <th>location</th>\n",
       "      <th>clouds</th>\n",
       "      <th>pressure</th>\n",
       "      <th>rain</th>\n",
       "      <th>time_stamp</th>\n",
       "      <th>humidity</th>\n",
       "      <th>wind</th>\n",
       "      <th>date</th>\n",
       "      <th>hour</th>\n",
       "    </tr>\n",
       "  </thead>\n",
       "  <tbody>\n",
       "    <tr>\n",
       "      <th>0</th>\n",
       "      <td>42.42</td>\n",
       "      <td>Back Bay</td>\n",
       "      <td>1.0</td>\n",
       "      <td>1012.14</td>\n",
       "      <td>0.1228</td>\n",
       "      <td>1545003901</td>\n",
       "      <td>0.77</td>\n",
       "      <td>11.25</td>\n",
       "      <td>2018-12-17</td>\n",
       "      <td>1</td>\n",
       "    </tr>\n",
       "    <tr>\n",
       "      <th>1</th>\n",
       "      <td>42.43</td>\n",
       "      <td>Beacon Hill</td>\n",
       "      <td>1.0</td>\n",
       "      <td>1012.15</td>\n",
       "      <td>0.1846</td>\n",
       "      <td>1545003901</td>\n",
       "      <td>0.76</td>\n",
       "      <td>11.32</td>\n",
       "      <td>2018-12-17</td>\n",
       "      <td>1</td>\n",
       "    </tr>\n",
       "    <tr>\n",
       "      <th>2</th>\n",
       "      <td>42.50</td>\n",
       "      <td>Boston University</td>\n",
       "      <td>1.0</td>\n",
       "      <td>1012.15</td>\n",
       "      <td>0.1089</td>\n",
       "      <td>1545003901</td>\n",
       "      <td>0.76</td>\n",
       "      <td>11.07</td>\n",
       "      <td>2018-12-17</td>\n",
       "      <td>1</td>\n",
       "    </tr>\n",
       "    <tr>\n",
       "      <th>3</th>\n",
       "      <td>42.11</td>\n",
       "      <td>Fenway</td>\n",
       "      <td>1.0</td>\n",
       "      <td>1012.13</td>\n",
       "      <td>0.0969</td>\n",
       "      <td>1545003901</td>\n",
       "      <td>0.77</td>\n",
       "      <td>11.09</td>\n",
       "      <td>2018-12-17</td>\n",
       "      <td>1</td>\n",
       "    </tr>\n",
       "    <tr>\n",
       "      <th>4</th>\n",
       "      <td>43.13</td>\n",
       "      <td>Financial District</td>\n",
       "      <td>1.0</td>\n",
       "      <td>1012.14</td>\n",
       "      <td>0.1786</td>\n",
       "      <td>1545003901</td>\n",
       "      <td>0.75</td>\n",
       "      <td>11.49</td>\n",
       "      <td>2018-12-17</td>\n",
       "      <td>1</td>\n",
       "    </tr>\n",
       "  </tbody>\n",
       "</table>\n",
       "</div>"
      ],
      "text/plain": [
       "    temp            location  clouds  pressure    rain  time_stamp  humidity  \\\n",
       "0  42.42            Back Bay     1.0   1012.14  0.1228  1545003901      0.77   \n",
       "1  42.43         Beacon Hill     1.0   1012.15  0.1846  1545003901      0.76   \n",
       "2  42.50   Boston University     1.0   1012.15  0.1089  1545003901      0.76   \n",
       "3  42.11              Fenway     1.0   1012.13  0.0969  1545003901      0.77   \n",
       "4  43.13  Financial District     1.0   1012.14  0.1786  1545003901      0.75   \n",
       "\n",
       "    wind       date  hour  \n",
       "0  11.25 2018-12-17     1  \n",
       "1  11.32 2018-12-17     1  \n",
       "2  11.07 2018-12-17     1  \n",
       "3  11.09 2018-12-17     1  \n",
       "4  11.49 2018-12-17     1  "
      ]
     },
     "execution_count": 34,
     "metadata": {},
     "output_type": "execute_result"
    }
   ],
   "source": [
    "w.head()"
   ]
  },
  {
   "cell_type": "markdown",
   "metadata": {},
   "source": [
    "#### we replaced timestamp with date coulmn and hour so we are going to drop time stamp coulmn"
   ]
  },
  {
   "cell_type": "code",
   "execution_count": 35,
   "metadata": {},
   "outputs": [],
   "source": [
    "w = w.drop(['time_stamp'],axis=1)"
   ]
  },
  {
   "cell_type": "markdown",
   "metadata": {},
   "source": [
    "### handling rain nulls"
   ]
  },
  {
   "cell_type": "code",
   "execution_count": 36,
   "metadata": {},
   "outputs": [
    {
     "data": {
      "text/plain": [
       "5382"
      ]
     },
     "execution_count": 36,
     "metadata": {},
     "output_type": "execute_result"
    }
   ],
   "source": [
    "w.rain.isnull().sum()"
   ]
  },
  {
   "cell_type": "markdown",
   "metadata": {},
   "source": [
    "### 85 % of weather data have null values in rain"
   ]
  },
  {
   "cell_type": "code",
   "execution_count": 37,
   "metadata": {},
   "outputs": [
    {
     "data": {
      "text/plain": [
       "85.75525812619503"
      ]
     },
     "execution_count": 37,
     "metadata": {},
     "output_type": "execute_result"
    }
   ],
   "source": [
    "w.rain.isnull().sum()/w.shape[0] *100"
   ]
  },
  {
   "cell_type": "markdown",
   "metadata": {},
   "source": [
    "## we need to imputate the missing values of rain in each day\n",
    "# we will use the K-Nearest Neighbors imputation method"
   ]
  },
  {
   "cell_type": "code",
   "execution_count": 38,
   "metadata": {},
   "outputs": [],
   "source": [
    "tmp = w"
   ]
  },
  {
   "cell_type": "markdown",
   "metadata": {},
   "source": [
    "#### KNN imputer does not recognize text data values, so we are going to drop date coulmn and work with time stamp coulmn"
   ]
  },
  {
   "cell_type": "code",
   "execution_count": 39,
   "metadata": {},
   "outputs": [],
   "source": [
    "tmp = tmp.assign(month=tmp.date.dt.month)\n",
    "tmp = tmp.assign(day=tmp.date.dt.day)\n",
    "tmp = pd.get_dummies(tmp, columns=['location'])\n",
    "tmp = tmp.drop(['date'],axis=1)\n",
    "tmp = tmp.drop(['hour'],axis=1)"
   ]
  },
  {
   "cell_type": "markdown",
   "metadata": {},
   "source": [
    "###  KNN Imptuer is a distance-based imputation method and it requires us to normalize our data. Otherwise, the different scales of our data will lead the KNN Imputer to generate biased replacements for the missing values. \n",
    "\n",
    "### we will use Scikit-Learn’s MinMaxScaler which will scale our variables to have values between 0 and 1."
   ]
  },
  {
   "cell_type": "code",
   "execution_count": 40,
   "metadata": {},
   "outputs": [],
   "source": [
    "scaler = MinMaxScaler()\n",
    "tmp = pd.DataFrame(scaler.fit_transform(tmp), columns = tmp.columns)\n",
    "\n",
    "w.rain=(w.rain-w.rain.min())/(w.rain.max()-w.rain.min())"
   ]
  },
  {
   "cell_type": "markdown",
   "metadata": {},
   "source": [
    "### KNN Imputation"
   ]
  },
  {
   "cell_type": "code",
   "execution_count": 41,
   "metadata": {},
   "outputs": [],
   "source": [
    "imputer = KNNImputer(n_neighbors=5)\n",
    "tmp = pd.DataFrame(imputer.fit_transform(tmp),columns = tmp.columns)"
   ]
  },
  {
   "cell_type": "code",
   "execution_count": 42,
   "metadata": {
    "scrolled": true
   },
   "outputs": [
    {
     "data": {
      "text/plain": [
       "temp                                0\n",
       "clouds                              0\n",
       "pressure                            0\n",
       "rain                                0\n",
       "humidity                            0\n",
       "wind                                0\n",
       "month                               0\n",
       "day                                 0\n",
       "location_Back Bay                   0\n",
       "location_Beacon Hill                0\n",
       "location_Boston University          0\n",
       "location_Fenway                     0\n",
       "location_Financial District         0\n",
       "location_Haymarket Square           0\n",
       "location_North End                  0\n",
       "location_North Station              0\n",
       "location_Northeastern University    0\n",
       "location_South Station              0\n",
       "location_Theatre District           0\n",
       "location_West End                   0\n",
       "dtype: int64"
      ]
     },
     "execution_count": 42,
     "metadata": {},
     "output_type": "execute_result"
    }
   ],
   "source": [
    "tmp.isnull().sum()"
   ]
  },
  {
   "cell_type": "markdown",
   "metadata": {},
   "source": [
    "### merging weather data with imputed data "
   ]
  },
  {
   "cell_type": "code",
   "execution_count": 43,
   "metadata": {},
   "outputs": [],
   "source": [
    "w = pd.merge(w.loc[:,w.columns.isin( ['location','time_stamp','date','hour','rain'])], tmp.loc[:,tmp.columns.isin(['temp','clouds','pressure','rain','humidity','wind'])], \n",
    "             left_index=True, right_index=True)"
   ]
  },
  {
   "cell_type": "code",
   "execution_count": 44,
   "metadata": {
    "scrolled": true
   },
   "outputs": [
    {
     "data": {
      "text/html": [
       "<div>\n",
       "<style scoped>\n",
       "    .dataframe tbody tr th:only-of-type {\n",
       "        vertical-align: middle;\n",
       "    }\n",
       "\n",
       "    .dataframe tbody tr th {\n",
       "        vertical-align: top;\n",
       "    }\n",
       "\n",
       "    .dataframe thead th {\n",
       "        text-align: right;\n",
       "    }\n",
       "</style>\n",
       "<table border=\"1\" class=\"dataframe\">\n",
       "  <thead>\n",
       "    <tr style=\"text-align: right;\">\n",
       "      <th></th>\n",
       "      <th>location</th>\n",
       "      <th>rain_x</th>\n",
       "      <th>date</th>\n",
       "      <th>hour</th>\n",
       "      <th>temp</th>\n",
       "      <th>clouds</th>\n",
       "      <th>pressure</th>\n",
       "      <th>rain_y</th>\n",
       "      <th>humidity</th>\n",
       "      <th>wind</th>\n",
       "    </tr>\n",
       "  </thead>\n",
       "  <tbody>\n",
       "    <tr>\n",
       "      <th>0</th>\n",
       "      <td>Back Bay</td>\n",
       "      <td>0.157079</td>\n",
       "      <td>2018-12-17</td>\n",
       "      <td>1</td>\n",
       "      <td>0.637049</td>\n",
       "      <td>1.0</td>\n",
       "      <td>0.509708</td>\n",
       "      <td>0.157079</td>\n",
       "      <td>0.592593</td>\n",
       "      <td>0.612633</td>\n",
       "    </tr>\n",
       "  </tbody>\n",
       "</table>\n",
       "</div>"
      ],
      "text/plain": [
       "   location    rain_x       date  hour      temp  clouds  pressure    rain_y  \\\n",
       "0  Back Bay  0.157079 2018-12-17     1  0.637049     1.0  0.509708  0.157079   \n",
       "\n",
       "   humidity      wind  \n",
       "0  0.592593  0.612633  "
      ]
     },
     "execution_count": 44,
     "metadata": {},
     "output_type": "execute_result"
    }
   ],
   "source": [
    "w.head(1)"
   ]
  },
  {
   "cell_type": "code",
   "execution_count": null,
   "metadata": {},
   "outputs": [],
   "source": []
  },
  {
   "cell_type": "code",
   "execution_count": 45,
   "metadata": {},
   "outputs": [],
   "source": [
    "data_merged= pd.merge(df, w, left_on=['source','date','hour'],right_on=['location','date','hour'], how='inner')"
   ]
  },
  {
   "cell_type": "code",
   "execution_count": 46,
   "metadata": {},
   "outputs": [
    {
     "data": {
      "text/html": [
       "<div>\n",
       "<style scoped>\n",
       "    .dataframe tbody tr th:only-of-type {\n",
       "        vertical-align: middle;\n",
       "    }\n",
       "\n",
       "    .dataframe tbody tr th {\n",
       "        vertical-align: top;\n",
       "    }\n",
       "\n",
       "    .dataframe thead th {\n",
       "        text-align: right;\n",
       "    }\n",
       "</style>\n",
       "<table border=\"1\" class=\"dataframe\">\n",
       "  <thead>\n",
       "    <tr style=\"text-align: right;\">\n",
       "      <th></th>\n",
       "      <th>distance</th>\n",
       "      <th>destination</th>\n",
       "      <th>source</th>\n",
       "      <th>surge_multiplier</th>\n",
       "      <th>id</th>\n",
       "      <th>RideCategory</th>\n",
       "      <th>cab_type_Lyft</th>\n",
       "      <th>cab_type_Uber</th>\n",
       "      <th>date</th>\n",
       "      <th>hour</th>\n",
       "      <th>Lyft_Type</th>\n",
       "      <th>Uber_Type</th>\n",
       "      <th>location</th>\n",
       "      <th>rain_x</th>\n",
       "      <th>temp</th>\n",
       "      <th>clouds</th>\n",
       "      <th>pressure</th>\n",
       "      <th>rain_y</th>\n",
       "      <th>humidity</th>\n",
       "      <th>wind</th>\n",
       "    </tr>\n",
       "  </thead>\n",
       "  <tbody>\n",
       "    <tr>\n",
       "      <th>0</th>\n",
       "      <td>0.62</td>\n",
       "      <td>West End</td>\n",
       "      <td>Haymarket Square</td>\n",
       "      <td>1.0</td>\n",
       "      <td>c1b4a572-24b2-484d-aac5-b4f97b790480</td>\n",
       "      <td>unknown</td>\n",
       "      <td>0</td>\n",
       "      <td>1</td>\n",
       "      <td>2018-12-14</td>\n",
       "      <td>8</td>\n",
       "      <td>0.0</td>\n",
       "      <td>2.0</td>\n",
       "      <td>Haymarket Square</td>\n",
       "      <td>NaN</td>\n",
       "      <td>0.271584</td>\n",
       "      <td>0.59</td>\n",
       "      <td>0.990612</td>\n",
       "      <td>0.01663</td>\n",
       "      <td>0.518519</td>\n",
       "      <td>0.030184</td>\n",
       "    </tr>\n",
       "  </tbody>\n",
       "</table>\n",
       "</div>"
      ],
      "text/plain": [
       "   distance destination            source  surge_multiplier  \\\n",
       "0      0.62    West End  Haymarket Square               1.0   \n",
       "\n",
       "                                     id RideCategory  cab_type_Lyft  \\\n",
       "0  c1b4a572-24b2-484d-aac5-b4f97b790480      unknown              0   \n",
       "\n",
       "   cab_type_Uber       date  hour  Lyft_Type  Uber_Type          location  \\\n",
       "0              1 2018-12-14     8        0.0        2.0  Haymarket Square   \n",
       "\n",
       "   rain_x      temp  clouds  pressure   rain_y  humidity      wind  \n",
       "0     NaN  0.271584    0.59  0.990612  0.01663  0.518519  0.030184  "
      ]
     },
     "execution_count": 46,
     "metadata": {},
     "output_type": "execute_result"
    }
   ],
   "source": [
    "data_merged.head(1)"
   ]
  },
  {
   "cell_type": "code",
   "execution_count": 47,
   "metadata": {},
   "outputs": [
    {
     "data": {
      "text/plain": [
       "(1010578, 20)"
      ]
     },
     "execution_count": 47,
     "metadata": {},
     "output_type": "execute_result"
    }
   ],
   "source": [
    "data_merged.shape"
   ]
  },
  {
   "cell_type": "code",
   "execution_count": 48,
   "metadata": {},
   "outputs": [
    {
     "data": {
      "text/html": [
       "<div>\n",
       "<style scoped>\n",
       "    .dataframe tbody tr th:only-of-type {\n",
       "        vertical-align: middle;\n",
       "    }\n",
       "\n",
       "    .dataframe tbody tr th {\n",
       "        vertical-align: top;\n",
       "    }\n",
       "\n",
       "    .dataframe thead th {\n",
       "        text-align: right;\n",
       "    }\n",
       "</style>\n",
       "<table border=\"1\" class=\"dataframe\">\n",
       "  <thead>\n",
       "    <tr style=\"text-align: right;\">\n",
       "      <th></th>\n",
       "      <th>distance</th>\n",
       "      <th>destination</th>\n",
       "      <th>source</th>\n",
       "      <th>surge_multiplier</th>\n",
       "      <th>id</th>\n",
       "      <th>RideCategory</th>\n",
       "      <th>cab_type_Lyft</th>\n",
       "      <th>cab_type_Uber</th>\n",
       "      <th>date</th>\n",
       "      <th>hour</th>\n",
       "      <th>Lyft_Type</th>\n",
       "      <th>Uber_Type</th>\n",
       "      <th>location</th>\n",
       "      <th>rain_x</th>\n",
       "      <th>temp</th>\n",
       "      <th>clouds</th>\n",
       "      <th>pressure</th>\n",
       "      <th>rain_y</th>\n",
       "      <th>humidity</th>\n",
       "      <th>wind</th>\n",
       "    </tr>\n",
       "  </thead>\n",
       "  <tbody>\n",
       "    <tr>\n",
       "      <th>442</th>\n",
       "      <td>2.27</td>\n",
       "      <td>Boston University</td>\n",
       "      <td>Beacon Hill</td>\n",
       "      <td>1.0</td>\n",
       "      <td>f9e7e7e6-b309-479b-9f90-bf26a1870c81</td>\n",
       "      <td>cheap</td>\n",
       "      <td>0</td>\n",
       "      <td>1</td>\n",
       "      <td>2018-11-28</td>\n",
       "      <td>12</td>\n",
       "      <td>0.0</td>\n",
       "      <td>1.0</td>\n",
       "      <td>Beacon Hill</td>\n",
       "      <td>NaN</td>\n",
       "      <td>0.386421</td>\n",
       "      <td>0.13</td>\n",
       "      <td>0.062513</td>\n",
       "      <td>0.002178</td>\n",
       "      <td>0.703704</td>\n",
       "      <td>0.294019</td>\n",
       "    </tr>\n",
       "    <tr>\n",
       "      <th>448</th>\n",
       "      <td>1.92</td>\n",
       "      <td>Northeastern University</td>\n",
       "      <td>Beacon Hill</td>\n",
       "      <td>1.0</td>\n",
       "      <td>3a3b4269-e09d-464f-8f03-9f05e91daa28</td>\n",
       "      <td>expensive</td>\n",
       "      <td>0</td>\n",
       "      <td>1</td>\n",
       "      <td>2018-11-28</td>\n",
       "      <td>12</td>\n",
       "      <td>0.0</td>\n",
       "      <td>6.0</td>\n",
       "      <td>Beacon Hill</td>\n",
       "      <td>NaN</td>\n",
       "      <td>0.386421</td>\n",
       "      <td>0.13</td>\n",
       "      <td>0.062513</td>\n",
       "      <td>0.002178</td>\n",
       "      <td>0.703704</td>\n",
       "      <td>0.294019</td>\n",
       "    </tr>\n",
       "    <tr>\n",
       "      <th>454</th>\n",
       "      <td>2.25</td>\n",
       "      <td>Boston University</td>\n",
       "      <td>Beacon Hill</td>\n",
       "      <td>1.0</td>\n",
       "      <td>3cb44f82-39c2-495e-8f93-d2472c69287b</td>\n",
       "      <td>expensive</td>\n",
       "      <td>1</td>\n",
       "      <td>0</td>\n",
       "      <td>2018-11-28</td>\n",
       "      <td>12</td>\n",
       "      <td>5.0</td>\n",
       "      <td>0.0</td>\n",
       "      <td>Beacon Hill</td>\n",
       "      <td>NaN</td>\n",
       "      <td>0.386421</td>\n",
       "      <td>0.13</td>\n",
       "      <td>0.062513</td>\n",
       "      <td>0.002178</td>\n",
       "      <td>0.703704</td>\n",
       "      <td>0.294019</td>\n",
       "    </tr>\n",
       "    <tr>\n",
       "      <th>460</th>\n",
       "      <td>2.32</td>\n",
       "      <td>Fenway</td>\n",
       "      <td>Beacon Hill</td>\n",
       "      <td>1.0</td>\n",
       "      <td>b0361b6a-7742-4891-9791-817abdca226a</td>\n",
       "      <td>cheap</td>\n",
       "      <td>0</td>\n",
       "      <td>1</td>\n",
       "      <td>2018-11-28</td>\n",
       "      <td>12</td>\n",
       "      <td>0.0</td>\n",
       "      <td>3.0</td>\n",
       "      <td>Beacon Hill</td>\n",
       "      <td>NaN</td>\n",
       "      <td>0.386421</td>\n",
       "      <td>0.13</td>\n",
       "      <td>0.062513</td>\n",
       "      <td>0.002178</td>\n",
       "      <td>0.703704</td>\n",
       "      <td>0.294019</td>\n",
       "    </tr>\n",
       "    <tr>\n",
       "      <th>466</th>\n",
       "      <td>2.45</td>\n",
       "      <td>South Station</td>\n",
       "      <td>Beacon Hill</td>\n",
       "      <td>1.0</td>\n",
       "      <td>6566b8fe-e9e0-4ecc-9af0-3267c06e6dcb</td>\n",
       "      <td>expensive</td>\n",
       "      <td>1</td>\n",
       "      <td>0</td>\n",
       "      <td>2018-11-28</td>\n",
       "      <td>12</td>\n",
       "      <td>5.0</td>\n",
       "      <td>0.0</td>\n",
       "      <td>Beacon Hill</td>\n",
       "      <td>NaN</td>\n",
       "      <td>0.386421</td>\n",
       "      <td>0.13</td>\n",
       "      <td>0.062513</td>\n",
       "      <td>0.002178</td>\n",
       "      <td>0.703704</td>\n",
       "      <td>0.294019</td>\n",
       "    </tr>\n",
       "    <tr>\n",
       "      <th>...</th>\n",
       "      <td>...</td>\n",
       "      <td>...</td>\n",
       "      <td>...</td>\n",
       "      <td>...</td>\n",
       "      <td>...</td>\n",
       "      <td>...</td>\n",
       "      <td>...</td>\n",
       "      <td>...</td>\n",
       "      <td>...</td>\n",
       "      <td>...</td>\n",
       "      <td>...</td>\n",
       "      <td>...</td>\n",
       "      <td>...</td>\n",
       "      <td>...</td>\n",
       "      <td>...</td>\n",
       "      <td>...</td>\n",
       "      <td>...</td>\n",
       "      <td>...</td>\n",
       "      <td>...</td>\n",
       "      <td>...</td>\n",
       "    </tr>\n",
       "    <tr>\n",
       "      <th>1008637</th>\n",
       "      <td>3.01</td>\n",
       "      <td>Fenway</td>\n",
       "      <td>West End</td>\n",
       "      <td>1.0</td>\n",
       "      <td>7e6f7ddc-e244-4b90-82fd-32697d345ae8</td>\n",
       "      <td>cheap</td>\n",
       "      <td>1</td>\n",
       "      <td>0</td>\n",
       "      <td>2018-11-28</td>\n",
       "      <td>9</td>\n",
       "      <td>1.0</td>\n",
       "      <td>0.0</td>\n",
       "      <td>West End</td>\n",
       "      <td>NaN</td>\n",
       "      <td>0.431126</td>\n",
       "      <td>0.56</td>\n",
       "      <td>0.073181</td>\n",
       "      <td>0.002152</td>\n",
       "      <td>0.629630</td>\n",
       "      <td>0.297373</td>\n",
       "    </tr>\n",
       "    <tr>\n",
       "      <th>1008650</th>\n",
       "      <td>2.14</td>\n",
       "      <td>South Station</td>\n",
       "      <td>West End</td>\n",
       "      <td>1.0</td>\n",
       "      <td>01ede40b-4037-44b3-8cef-c151ab629dd1</td>\n",
       "      <td>moderate</td>\n",
       "      <td>0</td>\n",
       "      <td>1</td>\n",
       "      <td>2018-11-28</td>\n",
       "      <td>9</td>\n",
       "      <td>0.0</td>\n",
       "      <td>4.0</td>\n",
       "      <td>West End</td>\n",
       "      <td>NaN</td>\n",
       "      <td>0.431126</td>\n",
       "      <td>0.56</td>\n",
       "      <td>0.073181</td>\n",
       "      <td>0.002152</td>\n",
       "      <td>0.629630</td>\n",
       "      <td>0.297373</td>\n",
       "    </tr>\n",
       "    <tr>\n",
       "      <th>1008663</th>\n",
       "      <td>0.76</td>\n",
       "      <td>Haymarket Square</td>\n",
       "      <td>West End</td>\n",
       "      <td>1.0</td>\n",
       "      <td>8c5865b3-31b9-4d23-9e76-357a49340e32</td>\n",
       "      <td>cheap</td>\n",
       "      <td>1</td>\n",
       "      <td>0</td>\n",
       "      <td>2018-11-28</td>\n",
       "      <td>9</td>\n",
       "      <td>2.0</td>\n",
       "      <td>0.0</td>\n",
       "      <td>West End</td>\n",
       "      <td>NaN</td>\n",
       "      <td>0.431126</td>\n",
       "      <td>0.56</td>\n",
       "      <td>0.073181</td>\n",
       "      <td>0.002152</td>\n",
       "      <td>0.629630</td>\n",
       "      <td>0.297373</td>\n",
       "    </tr>\n",
       "    <tr>\n",
       "      <th>1008676</th>\n",
       "      <td>2.98</td>\n",
       "      <td>Fenway</td>\n",
       "      <td>West End</td>\n",
       "      <td>1.0</td>\n",
       "      <td>d36e795e-3512-4e40-85b5-753a42132b6f</td>\n",
       "      <td>expensive</td>\n",
       "      <td>1</td>\n",
       "      <td>0</td>\n",
       "      <td>2018-11-28</td>\n",
       "      <td>9</td>\n",
       "      <td>5.0</td>\n",
       "      <td>0.0</td>\n",
       "      <td>West End</td>\n",
       "      <td>NaN</td>\n",
       "      <td>0.431126</td>\n",
       "      <td>0.56</td>\n",
       "      <td>0.073181</td>\n",
       "      <td>0.002152</td>\n",
       "      <td>0.629630</td>\n",
       "      <td>0.297373</td>\n",
       "    </tr>\n",
       "    <tr>\n",
       "      <th>1008689</th>\n",
       "      <td>0.74</td>\n",
       "      <td>Haymarket Square</td>\n",
       "      <td>West End</td>\n",
       "      <td>1.0</td>\n",
       "      <td>69021ab2-af25-4add-8b27-40467ce38504</td>\n",
       "      <td>moderate</td>\n",
       "      <td>1</td>\n",
       "      <td>0</td>\n",
       "      <td>2018-11-28</td>\n",
       "      <td>9</td>\n",
       "      <td>3.0</td>\n",
       "      <td>0.0</td>\n",
       "      <td>West End</td>\n",
       "      <td>NaN</td>\n",
       "      <td>0.431126</td>\n",
       "      <td>0.56</td>\n",
       "      <td>0.073181</td>\n",
       "      <td>0.002152</td>\n",
       "      <td>0.629630</td>\n",
       "      <td>0.297373</td>\n",
       "    </tr>\n",
       "  </tbody>\n",
       "</table>\n",
       "<p>9865 rows × 20 columns</p>\n",
       "</div>"
      ],
      "text/plain": [
       "         distance              destination       source  surge_multiplier  \\\n",
       "442          2.27        Boston University  Beacon Hill               1.0   \n",
       "448          1.92  Northeastern University  Beacon Hill               1.0   \n",
       "454          2.25        Boston University  Beacon Hill               1.0   \n",
       "460          2.32                   Fenway  Beacon Hill               1.0   \n",
       "466          2.45            South Station  Beacon Hill               1.0   \n",
       "...           ...                      ...          ...               ...   \n",
       "1008637      3.01                   Fenway     West End               1.0   \n",
       "1008650      2.14            South Station     West End               1.0   \n",
       "1008663      0.76         Haymarket Square     West End               1.0   \n",
       "1008676      2.98                   Fenway     West End               1.0   \n",
       "1008689      0.74         Haymarket Square     West End               1.0   \n",
       "\n",
       "                                           id RideCategory  cab_type_Lyft  \\\n",
       "442      f9e7e7e6-b309-479b-9f90-bf26a1870c81        cheap              0   \n",
       "448      3a3b4269-e09d-464f-8f03-9f05e91daa28    expensive              0   \n",
       "454      3cb44f82-39c2-495e-8f93-d2472c69287b    expensive              1   \n",
       "460      b0361b6a-7742-4891-9791-817abdca226a        cheap              0   \n",
       "466      6566b8fe-e9e0-4ecc-9af0-3267c06e6dcb    expensive              1   \n",
       "...                                       ...          ...            ...   \n",
       "1008637  7e6f7ddc-e244-4b90-82fd-32697d345ae8        cheap              1   \n",
       "1008650  01ede40b-4037-44b3-8cef-c151ab629dd1     moderate              0   \n",
       "1008663  8c5865b3-31b9-4d23-9e76-357a49340e32        cheap              1   \n",
       "1008676  d36e795e-3512-4e40-85b5-753a42132b6f    expensive              1   \n",
       "1008689  69021ab2-af25-4add-8b27-40467ce38504     moderate              1   \n",
       "\n",
       "         cab_type_Uber       date  hour  Lyft_Type  Uber_Type     location  \\\n",
       "442                  1 2018-11-28    12        0.0        1.0  Beacon Hill   \n",
       "448                  1 2018-11-28    12        0.0        6.0  Beacon Hill   \n",
       "454                  0 2018-11-28    12        5.0        0.0  Beacon Hill   \n",
       "460                  1 2018-11-28    12        0.0        3.0  Beacon Hill   \n",
       "466                  0 2018-11-28    12        5.0        0.0  Beacon Hill   \n",
       "...                ...        ...   ...        ...        ...          ...   \n",
       "1008637              0 2018-11-28     9        1.0        0.0     West End   \n",
       "1008650              1 2018-11-28     9        0.0        4.0     West End   \n",
       "1008663              0 2018-11-28     9        2.0        0.0     West End   \n",
       "1008676              0 2018-11-28     9        5.0        0.0     West End   \n",
       "1008689              0 2018-11-28     9        3.0        0.0     West End   \n",
       "\n",
       "         rain_x      temp  clouds  pressure    rain_y  humidity      wind  \n",
       "442         NaN  0.386421    0.13  0.062513  0.002178  0.703704  0.294019  \n",
       "448         NaN  0.386421    0.13  0.062513  0.002178  0.703704  0.294019  \n",
       "454         NaN  0.386421    0.13  0.062513  0.002178  0.703704  0.294019  \n",
       "460         NaN  0.386421    0.13  0.062513  0.002178  0.703704  0.294019  \n",
       "466         NaN  0.386421    0.13  0.062513  0.002178  0.703704  0.294019  \n",
       "...         ...       ...     ...       ...       ...       ...       ...  \n",
       "1008637     NaN  0.431126    0.56  0.073181  0.002152  0.629630  0.297373  \n",
       "1008650     NaN  0.431126    0.56  0.073181  0.002152  0.629630  0.297373  \n",
       "1008663     NaN  0.431126    0.56  0.073181  0.002152  0.629630  0.297373  \n",
       "1008676     NaN  0.431126    0.56  0.073181  0.002152  0.629630  0.297373  \n",
       "1008689     NaN  0.431126    0.56  0.073181  0.002152  0.629630  0.297373  \n",
       "\n",
       "[9865 rows x 20 columns]"
      ]
     },
     "metadata": {},
     "output_type": "display_data"
    }
   ],
   "source": [
    "display(data_merged[data_merged.duplicated()])"
   ]
  },
  {
   "cell_type": "code",
   "execution_count": 49,
   "metadata": {},
   "outputs": [],
   "source": [
    "data_merged = data_merged.drop_duplicates(keep=\"first\")"
   ]
  },
  {
   "cell_type": "code",
   "execution_count": 50,
   "metadata": {},
   "outputs": [
    {
     "data": {
      "text/html": [
       "<div>\n",
       "<style scoped>\n",
       "    .dataframe tbody tr th:only-of-type {\n",
       "        vertical-align: middle;\n",
       "    }\n",
       "\n",
       "    .dataframe tbody tr th {\n",
       "        vertical-align: top;\n",
       "    }\n",
       "\n",
       "    .dataframe thead th {\n",
       "        text-align: right;\n",
       "    }\n",
       "</style>\n",
       "<table border=\"1\" class=\"dataframe\">\n",
       "  <thead>\n",
       "    <tr style=\"text-align: right;\">\n",
       "      <th></th>\n",
       "      <th>distance</th>\n",
       "      <th>destination</th>\n",
       "      <th>source</th>\n",
       "      <th>surge_multiplier</th>\n",
       "      <th>id</th>\n",
       "      <th>RideCategory</th>\n",
       "      <th>cab_type_Lyft</th>\n",
       "      <th>cab_type_Uber</th>\n",
       "      <th>date</th>\n",
       "      <th>hour</th>\n",
       "      <th>Lyft_Type</th>\n",
       "      <th>Uber_Type</th>\n",
       "      <th>location</th>\n",
       "      <th>rain_x</th>\n",
       "      <th>temp</th>\n",
       "      <th>clouds</th>\n",
       "      <th>pressure</th>\n",
       "      <th>rain_y</th>\n",
       "      <th>humidity</th>\n",
       "      <th>wind</th>\n",
       "    </tr>\n",
       "  </thead>\n",
       "  <tbody>\n",
       "    <tr>\n",
       "      <th>0</th>\n",
       "      <td>0.62</td>\n",
       "      <td>West End</td>\n",
       "      <td>Haymarket Square</td>\n",
       "      <td>1.0</td>\n",
       "      <td>c1b4a572-24b2-484d-aac5-b4f97b790480</td>\n",
       "      <td>unknown</td>\n",
       "      <td>0</td>\n",
       "      <td>1</td>\n",
       "      <td>2018-12-14</td>\n",
       "      <td>8</td>\n",
       "      <td>0.0</td>\n",
       "      <td>2.0</td>\n",
       "      <td>Haymarket Square</td>\n",
       "      <td>NaN</td>\n",
       "      <td>0.271584</td>\n",
       "      <td>0.59</td>\n",
       "      <td>0.990612</td>\n",
       "      <td>0.01663</td>\n",
       "      <td>0.518519</td>\n",
       "      <td>0.030184</td>\n",
       "    </tr>\n",
       "    <tr>\n",
       "      <th>1</th>\n",
       "      <td>0.57</td>\n",
       "      <td>North Station</td>\n",
       "      <td>Haymarket Square</td>\n",
       "      <td>1.0</td>\n",
       "      <td>ee77d0b2-f004-4d6f-9286-b6bda4510a28</td>\n",
       "      <td>cheap</td>\n",
       "      <td>1</td>\n",
       "      <td>0</td>\n",
       "      <td>2018-12-14</td>\n",
       "      <td>8</td>\n",
       "      <td>1.0</td>\n",
       "      <td>0.0</td>\n",
       "      <td>Haymarket Square</td>\n",
       "      <td>NaN</td>\n",
       "      <td>0.271584</td>\n",
       "      <td>0.59</td>\n",
       "      <td>0.990612</td>\n",
       "      <td>0.01663</td>\n",
       "      <td>0.518519</td>\n",
       "      <td>0.030184</td>\n",
       "    </tr>\n",
       "    <tr>\n",
       "      <th>2</th>\n",
       "      <td>1.82</td>\n",
       "      <td>Back Bay</td>\n",
       "      <td>Haymarket Square</td>\n",
       "      <td>1.0</td>\n",
       "      <td>dd20033a-1a27-46c2-a14a-5868ec48f7a3</td>\n",
       "      <td>unknown</td>\n",
       "      <td>0</td>\n",
       "      <td>1</td>\n",
       "      <td>2018-12-14</td>\n",
       "      <td>8</td>\n",
       "      <td>0.0</td>\n",
       "      <td>2.0</td>\n",
       "      <td>Haymarket Square</td>\n",
       "      <td>NaN</td>\n",
       "      <td>0.271584</td>\n",
       "      <td>0.59</td>\n",
       "      <td>0.990612</td>\n",
       "      <td>0.01663</td>\n",
       "      <td>0.518519</td>\n",
       "      <td>0.030184</td>\n",
       "    </tr>\n",
       "    <tr>\n",
       "      <th>3</th>\n",
       "      <td>0.91</td>\n",
       "      <td>Beacon Hill</td>\n",
       "      <td>Haymarket Square</td>\n",
       "      <td>1.0</td>\n",
       "      <td>0ed7a95e-8d79-45e9-8ac0-276720d4b1ed</td>\n",
       "      <td>moderate</td>\n",
       "      <td>0</td>\n",
       "      <td>1</td>\n",
       "      <td>2018-12-14</td>\n",
       "      <td>8</td>\n",
       "      <td>0.0</td>\n",
       "      <td>6.0</td>\n",
       "      <td>Haymarket Square</td>\n",
       "      <td>NaN</td>\n",
       "      <td>0.271584</td>\n",
       "      <td>0.59</td>\n",
       "      <td>0.990612</td>\n",
       "      <td>0.01663</td>\n",
       "      <td>0.518519</td>\n",
       "      <td>0.030184</td>\n",
       "    </tr>\n",
       "    <tr>\n",
       "      <th>4</th>\n",
       "      <td>0.54</td>\n",
       "      <td>West End</td>\n",
       "      <td>Haymarket Square</td>\n",
       "      <td>1.0</td>\n",
       "      <td>573f524f-16c3-40af-a689-cecf934ff537</td>\n",
       "      <td>expensive</td>\n",
       "      <td>1</td>\n",
       "      <td>0</td>\n",
       "      <td>2018-12-14</td>\n",
       "      <td>8</td>\n",
       "      <td>6.0</td>\n",
       "      <td>0.0</td>\n",
       "      <td>Haymarket Square</td>\n",
       "      <td>NaN</td>\n",
       "      <td>0.271584</td>\n",
       "      <td>0.59</td>\n",
       "      <td>0.990612</td>\n",
       "      <td>0.01663</td>\n",
       "      <td>0.518519</td>\n",
       "      <td>0.030184</td>\n",
       "    </tr>\n",
       "  </tbody>\n",
       "</table>\n",
       "</div>"
      ],
      "text/plain": [
       "   distance    destination            source  surge_multiplier  \\\n",
       "0      0.62       West End  Haymarket Square               1.0   \n",
       "1      0.57  North Station  Haymarket Square               1.0   \n",
       "2      1.82       Back Bay  Haymarket Square               1.0   \n",
       "3      0.91    Beacon Hill  Haymarket Square               1.0   \n",
       "4      0.54       West End  Haymarket Square               1.0   \n",
       "\n",
       "                                     id RideCategory  cab_type_Lyft  \\\n",
       "0  c1b4a572-24b2-484d-aac5-b4f97b790480      unknown              0   \n",
       "1  ee77d0b2-f004-4d6f-9286-b6bda4510a28        cheap              1   \n",
       "2  dd20033a-1a27-46c2-a14a-5868ec48f7a3      unknown              0   \n",
       "3  0ed7a95e-8d79-45e9-8ac0-276720d4b1ed     moderate              0   \n",
       "4  573f524f-16c3-40af-a689-cecf934ff537    expensive              1   \n",
       "\n",
       "   cab_type_Uber       date  hour  Lyft_Type  Uber_Type          location  \\\n",
       "0              1 2018-12-14     8        0.0        2.0  Haymarket Square   \n",
       "1              0 2018-12-14     8        1.0        0.0  Haymarket Square   \n",
       "2              1 2018-12-14     8        0.0        2.0  Haymarket Square   \n",
       "3              1 2018-12-14     8        0.0        6.0  Haymarket Square   \n",
       "4              0 2018-12-14     8        6.0        0.0  Haymarket Square   \n",
       "\n",
       "   rain_x      temp  clouds  pressure   rain_y  humidity      wind  \n",
       "0     NaN  0.271584    0.59  0.990612  0.01663  0.518519  0.030184  \n",
       "1     NaN  0.271584    0.59  0.990612  0.01663  0.518519  0.030184  \n",
       "2     NaN  0.271584    0.59  0.990612  0.01663  0.518519  0.030184  \n",
       "3     NaN  0.271584    0.59  0.990612  0.01663  0.518519  0.030184  \n",
       "4     NaN  0.271584    0.59  0.990612  0.01663  0.518519  0.030184  "
      ]
     },
     "execution_count": 50,
     "metadata": {},
     "output_type": "execute_result"
    }
   ],
   "source": [
    "data_merged.head()"
   ]
  },
  {
   "cell_type": "code",
   "execution_count": 51,
   "metadata": {
    "scrolled": true
   },
   "outputs": [
    {
     "data": {
      "text/html": [
       "<div>\n",
       "<style scoped>\n",
       "    .dataframe tbody tr th:only-of-type {\n",
       "        vertical-align: middle;\n",
       "    }\n",
       "\n",
       "    .dataframe tbody tr th {\n",
       "        vertical-align: top;\n",
       "    }\n",
       "\n",
       "    .dataframe thead th {\n",
       "        text-align: right;\n",
       "    }\n",
       "</style>\n",
       "<table border=\"1\" class=\"dataframe\">\n",
       "  <thead>\n",
       "    <tr style=\"text-align: right;\">\n",
       "      <th></th>\n",
       "      <th>distance</th>\n",
       "      <th>surge_multiplier</th>\n",
       "      <th>RideCategory</th>\n",
       "      <th>cab_type_Lyft</th>\n",
       "      <th>cab_type_Uber</th>\n",
       "      <th>date</th>\n",
       "      <th>hour</th>\n",
       "      <th>Lyft_Type</th>\n",
       "      <th>Uber_Type</th>\n",
       "      <th>location</th>\n",
       "      <th>rain_x</th>\n",
       "      <th>temp</th>\n",
       "      <th>clouds</th>\n",
       "      <th>pressure</th>\n",
       "      <th>rain_y</th>\n",
       "      <th>humidity</th>\n",
       "      <th>wind</th>\n",
       "    </tr>\n",
       "  </thead>\n",
       "  <tbody>\n",
       "    <tr>\n",
       "      <th>0</th>\n",
       "      <td>0.62</td>\n",
       "      <td>1.0</td>\n",
       "      <td>unknown</td>\n",
       "      <td>0</td>\n",
       "      <td>1</td>\n",
       "      <td>2018-12-14</td>\n",
       "      <td>8</td>\n",
       "      <td>0.0</td>\n",
       "      <td>2.0</td>\n",
       "      <td>Haymarket Square</td>\n",
       "      <td>NaN</td>\n",
       "      <td>0.271584</td>\n",
       "      <td>0.59</td>\n",
       "      <td>0.990612</td>\n",
       "      <td>0.01663</td>\n",
       "      <td>0.518519</td>\n",
       "      <td>0.030184</td>\n",
       "    </tr>\n",
       "    <tr>\n",
       "      <th>1</th>\n",
       "      <td>0.57</td>\n",
       "      <td>1.0</td>\n",
       "      <td>cheap</td>\n",
       "      <td>1</td>\n",
       "      <td>0</td>\n",
       "      <td>2018-12-14</td>\n",
       "      <td>8</td>\n",
       "      <td>1.0</td>\n",
       "      <td>0.0</td>\n",
       "      <td>Haymarket Square</td>\n",
       "      <td>NaN</td>\n",
       "      <td>0.271584</td>\n",
       "      <td>0.59</td>\n",
       "      <td>0.990612</td>\n",
       "      <td>0.01663</td>\n",
       "      <td>0.518519</td>\n",
       "      <td>0.030184</td>\n",
       "    </tr>\n",
       "    <tr>\n",
       "      <th>2</th>\n",
       "      <td>1.82</td>\n",
       "      <td>1.0</td>\n",
       "      <td>unknown</td>\n",
       "      <td>0</td>\n",
       "      <td>1</td>\n",
       "      <td>2018-12-14</td>\n",
       "      <td>8</td>\n",
       "      <td>0.0</td>\n",
       "      <td>2.0</td>\n",
       "      <td>Haymarket Square</td>\n",
       "      <td>NaN</td>\n",
       "      <td>0.271584</td>\n",
       "      <td>0.59</td>\n",
       "      <td>0.990612</td>\n",
       "      <td>0.01663</td>\n",
       "      <td>0.518519</td>\n",
       "      <td>0.030184</td>\n",
       "    </tr>\n",
       "    <tr>\n",
       "      <th>3</th>\n",
       "      <td>0.91</td>\n",
       "      <td>1.0</td>\n",
       "      <td>moderate</td>\n",
       "      <td>0</td>\n",
       "      <td>1</td>\n",
       "      <td>2018-12-14</td>\n",
       "      <td>8</td>\n",
       "      <td>0.0</td>\n",
       "      <td>6.0</td>\n",
       "      <td>Haymarket Square</td>\n",
       "      <td>NaN</td>\n",
       "      <td>0.271584</td>\n",
       "      <td>0.59</td>\n",
       "      <td>0.990612</td>\n",
       "      <td>0.01663</td>\n",
       "      <td>0.518519</td>\n",
       "      <td>0.030184</td>\n",
       "    </tr>\n",
       "    <tr>\n",
       "      <th>4</th>\n",
       "      <td>0.54</td>\n",
       "      <td>1.0</td>\n",
       "      <td>expensive</td>\n",
       "      <td>1</td>\n",
       "      <td>0</td>\n",
       "      <td>2018-12-14</td>\n",
       "      <td>8</td>\n",
       "      <td>6.0</td>\n",
       "      <td>0.0</td>\n",
       "      <td>Haymarket Square</td>\n",
       "      <td>NaN</td>\n",
       "      <td>0.271584</td>\n",
       "      <td>0.59</td>\n",
       "      <td>0.990612</td>\n",
       "      <td>0.01663</td>\n",
       "      <td>0.518519</td>\n",
       "      <td>0.030184</td>\n",
       "    </tr>\n",
       "  </tbody>\n",
       "</table>\n",
       "</div>"
      ],
      "text/plain": [
       "   distance  surge_multiplier RideCategory  cab_type_Lyft  cab_type_Uber  \\\n",
       "0      0.62               1.0      unknown              0              1   \n",
       "1      0.57               1.0        cheap              1              0   \n",
       "2      1.82               1.0      unknown              0              1   \n",
       "3      0.91               1.0     moderate              0              1   \n",
       "4      0.54               1.0    expensive              1              0   \n",
       "\n",
       "        date  hour  Lyft_Type  Uber_Type          location  rain_x      temp  \\\n",
       "0 2018-12-14     8        0.0        2.0  Haymarket Square     NaN  0.271584   \n",
       "1 2018-12-14     8        1.0        0.0  Haymarket Square     NaN  0.271584   \n",
       "2 2018-12-14     8        0.0        2.0  Haymarket Square     NaN  0.271584   \n",
       "3 2018-12-14     8        0.0        6.0  Haymarket Square     NaN  0.271584   \n",
       "4 2018-12-14     8        6.0        0.0  Haymarket Square     NaN  0.271584   \n",
       "\n",
       "   clouds  pressure   rain_y  humidity      wind  \n",
       "0    0.59  0.990612  0.01663  0.518519  0.030184  \n",
       "1    0.59  0.990612  0.01663  0.518519  0.030184  \n",
       "2    0.59  0.990612  0.01663  0.518519  0.030184  \n",
       "3    0.59  0.990612  0.01663  0.518519  0.030184  \n",
       "4    0.59  0.990612  0.01663  0.518519  0.030184  "
      ]
     },
     "execution_count": 51,
     "metadata": {},
     "output_type": "execute_result"
    }
   ],
   "source": [
    "data_merged.drop(['destination','source','id'],axis=1,inplace=True)\n",
    "data_merged.head()"
   ]
  },
  {
   "cell_type": "code",
   "execution_count": 52,
   "metadata": {},
   "outputs": [],
   "source": [
    "data_merged.drop(['location','rain_x'],axis=1,inplace=True)"
   ]
  },
  {
   "cell_type": "code",
   "execution_count": 53,
   "metadata": {},
   "outputs": [],
   "source": [
    "data_merged.drop(['date'],axis=1,inplace=True)"
   ]
  },
  {
   "cell_type": "code",
   "execution_count": 54,
   "metadata": {},
   "outputs": [
    {
     "data": {
      "text/plain": [
       "array(['unknown', 'cheap', 'moderate', 'expensive', 'very expensive'],\n",
       "      dtype=object)"
      ]
     },
     "execution_count": 54,
     "metadata": {},
     "output_type": "execute_result"
    }
   ],
   "source": [
    "data_merged.RideCategory.unique()"
   ]
  },
  {
   "cell_type": "code",
   "execution_count": 55,
   "metadata": {},
   "outputs": [
    {
     "data": {
      "text/html": [
       "<div>\n",
       "<style scoped>\n",
       "    .dataframe tbody tr th:only-of-type {\n",
       "        vertical-align: middle;\n",
       "    }\n",
       "\n",
       "    .dataframe tbody tr th {\n",
       "        vertical-align: top;\n",
       "    }\n",
       "\n",
       "    .dataframe thead th {\n",
       "        text-align: right;\n",
       "    }\n",
       "</style>\n",
       "<table border=\"1\" class=\"dataframe\">\n",
       "  <thead>\n",
       "    <tr style=\"text-align: right;\">\n",
       "      <th></th>\n",
       "      <th>distance</th>\n",
       "      <th>surge_multiplier</th>\n",
       "      <th>RideCategory</th>\n",
       "      <th>cab_type_Lyft</th>\n",
       "      <th>cab_type_Uber</th>\n",
       "      <th>hour</th>\n",
       "      <th>Lyft_Type</th>\n",
       "      <th>Uber_Type</th>\n",
       "      <th>temp</th>\n",
       "      <th>clouds</th>\n",
       "      <th>pressure</th>\n",
       "      <th>rain_y</th>\n",
       "      <th>humidity</th>\n",
       "      <th>wind</th>\n",
       "    </tr>\n",
       "  </thead>\n",
       "  <tbody>\n",
       "    <tr>\n",
       "      <th>0</th>\n",
       "      <td>0.62</td>\n",
       "      <td>1.0</td>\n",
       "      <td>unknown</td>\n",
       "      <td>0</td>\n",
       "      <td>1</td>\n",
       "      <td>8</td>\n",
       "      <td>0.0</td>\n",
       "      <td>2.0</td>\n",
       "      <td>0.271584</td>\n",
       "      <td>0.59</td>\n",
       "      <td>0.990612</td>\n",
       "      <td>0.01663</td>\n",
       "      <td>0.518519</td>\n",
       "      <td>0.030184</td>\n",
       "    </tr>\n",
       "    <tr>\n",
       "      <th>1</th>\n",
       "      <td>0.57</td>\n",
       "      <td>1.0</td>\n",
       "      <td>cheap</td>\n",
       "      <td>1</td>\n",
       "      <td>0</td>\n",
       "      <td>8</td>\n",
       "      <td>1.0</td>\n",
       "      <td>0.0</td>\n",
       "      <td>0.271584</td>\n",
       "      <td>0.59</td>\n",
       "      <td>0.990612</td>\n",
       "      <td>0.01663</td>\n",
       "      <td>0.518519</td>\n",
       "      <td>0.030184</td>\n",
       "    </tr>\n",
       "    <tr>\n",
       "      <th>2</th>\n",
       "      <td>1.82</td>\n",
       "      <td>1.0</td>\n",
       "      <td>unknown</td>\n",
       "      <td>0</td>\n",
       "      <td>1</td>\n",
       "      <td>8</td>\n",
       "      <td>0.0</td>\n",
       "      <td>2.0</td>\n",
       "      <td>0.271584</td>\n",
       "      <td>0.59</td>\n",
       "      <td>0.990612</td>\n",
       "      <td>0.01663</td>\n",
       "      <td>0.518519</td>\n",
       "      <td>0.030184</td>\n",
       "    </tr>\n",
       "    <tr>\n",
       "      <th>3</th>\n",
       "      <td>0.91</td>\n",
       "      <td>1.0</td>\n",
       "      <td>moderate</td>\n",
       "      <td>0</td>\n",
       "      <td>1</td>\n",
       "      <td>8</td>\n",
       "      <td>0.0</td>\n",
       "      <td>6.0</td>\n",
       "      <td>0.271584</td>\n",
       "      <td>0.59</td>\n",
       "      <td>0.990612</td>\n",
       "      <td>0.01663</td>\n",
       "      <td>0.518519</td>\n",
       "      <td>0.030184</td>\n",
       "    </tr>\n",
       "    <tr>\n",
       "      <th>4</th>\n",
       "      <td>0.54</td>\n",
       "      <td>1.0</td>\n",
       "      <td>expensive</td>\n",
       "      <td>1</td>\n",
       "      <td>0</td>\n",
       "      <td>8</td>\n",
       "      <td>6.0</td>\n",
       "      <td>0.0</td>\n",
       "      <td>0.271584</td>\n",
       "      <td>0.59</td>\n",
       "      <td>0.990612</td>\n",
       "      <td>0.01663</td>\n",
       "      <td>0.518519</td>\n",
       "      <td>0.030184</td>\n",
       "    </tr>\n",
       "  </tbody>\n",
       "</table>\n",
       "</div>"
      ],
      "text/plain": [
       "   distance  surge_multiplier RideCategory  cab_type_Lyft  cab_type_Uber  \\\n",
       "0      0.62               1.0      unknown              0              1   \n",
       "1      0.57               1.0        cheap              1              0   \n",
       "2      1.82               1.0      unknown              0              1   \n",
       "3      0.91               1.0     moderate              0              1   \n",
       "4      0.54               1.0    expensive              1              0   \n",
       "\n",
       "   hour  Lyft_Type  Uber_Type      temp  clouds  pressure   rain_y  humidity  \\\n",
       "0     8        0.0        2.0  0.271584    0.59  0.990612  0.01663  0.518519   \n",
       "1     8        1.0        0.0  0.271584    0.59  0.990612  0.01663  0.518519   \n",
       "2     8        0.0        2.0  0.271584    0.59  0.990612  0.01663  0.518519   \n",
       "3     8        0.0        6.0  0.271584    0.59  0.990612  0.01663  0.518519   \n",
       "4     8        6.0        0.0  0.271584    0.59  0.990612  0.01663  0.518519   \n",
       "\n",
       "       wind  \n",
       "0  0.030184  \n",
       "1  0.030184  \n",
       "2  0.030184  \n",
       "3  0.030184  \n",
       "4  0.030184  "
      ]
     },
     "execution_count": 55,
     "metadata": {},
     "output_type": "execute_result"
    }
   ],
   "source": [
    "data_merged.head()"
   ]
  },
  {
   "cell_type": "code",
   "execution_count": 56,
   "metadata": {},
   "outputs": [],
   "source": [
    "Ride={'very expensive':4,'expensive':3,'moderate':2,'cheap':1,'unknown':0}\n",
    "Ride_Category_map=[{'col':'Ride_Category','mapping':Ride}]\n",
    "data_merged['Ride_Category']=data_merged['RideCategory']\n",
    "encodeing= ce.OrdinalEncoder(cols=['Ride_Category'],return_df=True,mapping=Ride_Category_map)\n",
    "data_merged=encodeing.fit_transform(data_merged)"
   ]
  },
  {
   "cell_type": "code",
   "execution_count": 57,
   "metadata": {},
   "outputs": [],
   "source": [
    "data_merged.drop(['RideCategory'],axis=1,inplace=True)"
   ]
  },
  {
   "cell_type": "code",
   "execution_count": 58,
   "metadata": {
    "scrolled": false
   },
   "outputs": [
    {
     "data": {
      "text/html": [
       "<div>\n",
       "<style scoped>\n",
       "    .dataframe tbody tr th:only-of-type {\n",
       "        vertical-align: middle;\n",
       "    }\n",
       "\n",
       "    .dataframe tbody tr th {\n",
       "        vertical-align: top;\n",
       "    }\n",
       "\n",
       "    .dataframe thead th {\n",
       "        text-align: right;\n",
       "    }\n",
       "</style>\n",
       "<table border=\"1\" class=\"dataframe\">\n",
       "  <thead>\n",
       "    <tr style=\"text-align: right;\">\n",
       "      <th></th>\n",
       "      <th>distance</th>\n",
       "      <th>surge_multiplier</th>\n",
       "      <th>cab_type_Lyft</th>\n",
       "      <th>cab_type_Uber</th>\n",
       "      <th>hour</th>\n",
       "      <th>Lyft_Type</th>\n",
       "      <th>Uber_Type</th>\n",
       "      <th>temp</th>\n",
       "      <th>clouds</th>\n",
       "      <th>pressure</th>\n",
       "      <th>rain_y</th>\n",
       "      <th>humidity</th>\n",
       "      <th>wind</th>\n",
       "      <th>Ride_Category</th>\n",
       "    </tr>\n",
       "  </thead>\n",
       "  <tbody>\n",
       "    <tr>\n",
       "      <th>0</th>\n",
       "      <td>0.62</td>\n",
       "      <td>1.0</td>\n",
       "      <td>0</td>\n",
       "      <td>1</td>\n",
       "      <td>8</td>\n",
       "      <td>0.0</td>\n",
       "      <td>2.0</td>\n",
       "      <td>0.271584</td>\n",
       "      <td>0.59</td>\n",
       "      <td>0.990612</td>\n",
       "      <td>0.01663</td>\n",
       "      <td>0.518519</td>\n",
       "      <td>0.030184</td>\n",
       "      <td>0</td>\n",
       "    </tr>\n",
       "    <tr>\n",
       "      <th>1</th>\n",
       "      <td>0.57</td>\n",
       "      <td>1.0</td>\n",
       "      <td>1</td>\n",
       "      <td>0</td>\n",
       "      <td>8</td>\n",
       "      <td>1.0</td>\n",
       "      <td>0.0</td>\n",
       "      <td>0.271584</td>\n",
       "      <td>0.59</td>\n",
       "      <td>0.990612</td>\n",
       "      <td>0.01663</td>\n",
       "      <td>0.518519</td>\n",
       "      <td>0.030184</td>\n",
       "      <td>1</td>\n",
       "    </tr>\n",
       "    <tr>\n",
       "      <th>2</th>\n",
       "      <td>1.82</td>\n",
       "      <td>1.0</td>\n",
       "      <td>0</td>\n",
       "      <td>1</td>\n",
       "      <td>8</td>\n",
       "      <td>0.0</td>\n",
       "      <td>2.0</td>\n",
       "      <td>0.271584</td>\n",
       "      <td>0.59</td>\n",
       "      <td>0.990612</td>\n",
       "      <td>0.01663</td>\n",
       "      <td>0.518519</td>\n",
       "      <td>0.030184</td>\n",
       "      <td>0</td>\n",
       "    </tr>\n",
       "    <tr>\n",
       "      <th>3</th>\n",
       "      <td>0.91</td>\n",
       "      <td>1.0</td>\n",
       "      <td>0</td>\n",
       "      <td>1</td>\n",
       "      <td>8</td>\n",
       "      <td>0.0</td>\n",
       "      <td>6.0</td>\n",
       "      <td>0.271584</td>\n",
       "      <td>0.59</td>\n",
       "      <td>0.990612</td>\n",
       "      <td>0.01663</td>\n",
       "      <td>0.518519</td>\n",
       "      <td>0.030184</td>\n",
       "      <td>2</td>\n",
       "    </tr>\n",
       "    <tr>\n",
       "      <th>4</th>\n",
       "      <td>0.54</td>\n",
       "      <td>1.0</td>\n",
       "      <td>1</td>\n",
       "      <td>0</td>\n",
       "      <td>8</td>\n",
       "      <td>6.0</td>\n",
       "      <td>0.0</td>\n",
       "      <td>0.271584</td>\n",
       "      <td>0.59</td>\n",
       "      <td>0.990612</td>\n",
       "      <td>0.01663</td>\n",
       "      <td>0.518519</td>\n",
       "      <td>0.030184</td>\n",
       "      <td>3</td>\n",
       "    </tr>\n",
       "  </tbody>\n",
       "</table>\n",
       "</div>"
      ],
      "text/plain": [
       "   distance  surge_multiplier  cab_type_Lyft  cab_type_Uber  hour  Lyft_Type  \\\n",
       "0      0.62               1.0              0              1     8        0.0   \n",
       "1      0.57               1.0              1              0     8        1.0   \n",
       "2      1.82               1.0              0              1     8        0.0   \n",
       "3      0.91               1.0              0              1     8        0.0   \n",
       "4      0.54               1.0              1              0     8        6.0   \n",
       "\n",
       "   Uber_Type      temp  clouds  pressure   rain_y  humidity      wind  \\\n",
       "0        2.0  0.271584    0.59  0.990612  0.01663  0.518519  0.030184   \n",
       "1        0.0  0.271584    0.59  0.990612  0.01663  0.518519  0.030184   \n",
       "2        2.0  0.271584    0.59  0.990612  0.01663  0.518519  0.030184   \n",
       "3        6.0  0.271584    0.59  0.990612  0.01663  0.518519  0.030184   \n",
       "4        0.0  0.271584    0.59  0.990612  0.01663  0.518519  0.030184   \n",
       "\n",
       "   Ride_Category  \n",
       "0              0  \n",
       "1              1  \n",
       "2              0  \n",
       "3              2  \n",
       "4              3  "
      ]
     },
     "execution_count": 58,
     "metadata": {},
     "output_type": "execute_result"
    }
   ],
   "source": [
    "data_merged.head()"
   ]
  },
  {
   "cell_type": "markdown",
   "metadata": {},
   "source": [
    "## Feature Selection"
   ]
  },
  {
   "cell_type": "code",
   "execution_count": 59,
   "metadata": {},
   "outputs": [
    {
     "data": {
      "image/png": "[encoded data removed]",
      "text/plain": [
       "<Figure size 1440x720 with 2 Axes>"
      ]
     },
     "metadata": {
      "needs_background": "light"
     },
     "output_type": "display_data"
    }
   ],
   "source": [
    "annot = True\n",
    "\n",
    "# plotting the heatmap\n",
    "ax, fig = plt.subplots(figsize=[20,10])\n",
    "hm = sns.heatmap(data=data_merged.corr(),\n",
    "                annot=annot)\n",
    "\n",
    "plt.savefig('Classification_corr1.png')\n",
    "\n",
    "plt.show()"
   ]
  },
  {
   "cell_type": "code",
   "execution_count": 60,
   "metadata": {
    "scrolled": true
   },
   "outputs": [
    {
     "data": {
      "image/png": "[encoded data removed]",
      "text/plain": [
       "<Figure size 1440x720 with 2 Axes>"
      ]
     },
     "metadata": {
      "needs_background": "light"
     },
     "output_type": "display_data"
    }
   ],
   "source": [
    "annot = True\n",
    "\n",
    "# plotting the heatmap\n",
    "ax, fig = plt.subplots(figsize=[20,10])\n",
    "hm = sns.heatmap(data=data_merged.corr(),\n",
    "                annot=annot)\n",
    "plt.xlabel(\"X\",fontsize=20)\n",
    "plt.ylabel(\"Y\",fontsize=20)\n",
    "plt.xticks(rotation=45,fontsize=20)\n",
    "plt.yticks(fontsize=20)\n",
    "plt.title(\"Correlation matrix\",fontdict={'fontsize':20})\n",
    "# plt.savefig('Classification_corr_feature.png')\n",
    "\n",
    "plt.show()"
   ]
  },
  {
   "cell_type": "code",
   "execution_count": 61,
   "metadata": {},
   "outputs": [
    {
     "data": {
      "text/html": [
       "<div>\n",
       "<style scoped>\n",
       "    .dataframe tbody tr th:only-of-type {\n",
       "        vertical-align: middle;\n",
       "    }\n",
       "\n",
       "    .dataframe tbody tr th {\n",
       "        vertical-align: top;\n",
       "    }\n",
       "\n",
       "    .dataframe thead th {\n",
       "        text-align: right;\n",
       "    }\n",
       "</style>\n",
       "<table border=\"1\" class=\"dataframe\">\n",
       "  <thead>\n",
       "    <tr style=\"text-align: right;\">\n",
       "      <th></th>\n",
       "      <th>distance</th>\n",
       "      <th>surge_multiplier</th>\n",
       "      <th>cab_type_Lyft</th>\n",
       "      <th>cab_type_Uber</th>\n",
       "      <th>hour</th>\n",
       "      <th>Lyft_Type</th>\n",
       "      <th>Uber_Type</th>\n",
       "      <th>temp</th>\n",
       "      <th>clouds</th>\n",
       "      <th>pressure</th>\n",
       "      <th>rain_y</th>\n",
       "      <th>humidity</th>\n",
       "      <th>wind</th>\n",
       "      <th>Ride_Category</th>\n",
       "    </tr>\n",
       "  </thead>\n",
       "  <tbody>\n",
       "    <tr>\n",
       "      <th>0</th>\n",
       "      <td>0.62</td>\n",
       "      <td>1.0</td>\n",
       "      <td>0</td>\n",
       "      <td>1</td>\n",
       "      <td>8</td>\n",
       "      <td>0.0</td>\n",
       "      <td>2.0</td>\n",
       "      <td>0.271584</td>\n",
       "      <td>0.59</td>\n",
       "      <td>0.990612</td>\n",
       "      <td>0.01663</td>\n",
       "      <td>0.518519</td>\n",
       "      <td>0.030184</td>\n",
       "      <td>0</td>\n",
       "    </tr>\n",
       "  </tbody>\n",
       "</table>\n",
       "</div>"
      ],
      "text/plain": [
       "   distance  surge_multiplier  cab_type_Lyft  cab_type_Uber  hour  Lyft_Type  \\\n",
       "0      0.62               1.0              0              1     8        0.0   \n",
       "\n",
       "   Uber_Type      temp  clouds  pressure   rain_y  humidity      wind  \\\n",
       "0        2.0  0.271584    0.59  0.990612  0.01663  0.518519  0.030184   \n",
       "\n",
       "   Ride_Category  \n",
       "0              0  "
      ]
     },
     "execution_count": 61,
     "metadata": {},
     "output_type": "execute_result"
    }
   ],
   "source": [
    "data_merged.head(1)"
   ]
  },
  {
   "cell_type": "code",
   "execution_count": 62,
   "metadata": {},
   "outputs": [],
   "source": [
    "data_merged.drop(['hour','temp','clouds','humidity','wind'],axis=1,inplace=True)"
   ]
  },
  {
   "cell_type": "code",
   "execution_count": 63,
   "metadata": {},
   "outputs": [],
   "source": [
    "data_merged.drop(['pressure'],axis=1,inplace=True)"
   ]
  },
  {
   "cell_type": "code",
   "execution_count": 64,
   "metadata": {},
   "outputs": [],
   "source": [
    "data_merged.drop(['rain_y'],axis=1,inplace=True)"
   ]
  },
  {
   "cell_type": "code",
   "execution_count": 65,
   "metadata": {
    "scrolled": false
   },
   "outputs": [
    {
     "data": {
      "text/html": [
       "<div>\n",
       "<style scoped>\n",
       "    .dataframe tbody tr th:only-of-type {\n",
       "        vertical-align: middle;\n",
       "    }\n",
       "\n",
       "    .dataframe tbody tr th {\n",
       "        vertical-align: top;\n",
       "    }\n",
       "\n",
       "    .dataframe thead th {\n",
       "        text-align: right;\n",
       "    }\n",
       "</style>\n",
       "<table border=\"1\" class=\"dataframe\">\n",
       "  <thead>\n",
       "    <tr style=\"text-align: right;\">\n",
       "      <th></th>\n",
       "      <th>distance</th>\n",
       "      <th>surge_multiplier</th>\n",
       "      <th>cab_type_Lyft</th>\n",
       "      <th>cab_type_Uber</th>\n",
       "      <th>Lyft_Type</th>\n",
       "      <th>Uber_Type</th>\n",
       "      <th>Ride_Category</th>\n",
       "    </tr>\n",
       "  </thead>\n",
       "  <tbody>\n",
       "    <tr>\n",
       "      <th>0</th>\n",
       "      <td>0.62</td>\n",
       "      <td>1.0</td>\n",
       "      <td>0</td>\n",
       "      <td>1</td>\n",
       "      <td>0.0</td>\n",
       "      <td>2.0</td>\n",
       "      <td>0</td>\n",
       "    </tr>\n",
       "    <tr>\n",
       "      <th>1</th>\n",
       "      <td>0.57</td>\n",
       "      <td>1.0</td>\n",
       "      <td>1</td>\n",
       "      <td>0</td>\n",
       "      <td>1.0</td>\n",
       "      <td>0.0</td>\n",
       "      <td>1</td>\n",
       "    </tr>\n",
       "    <tr>\n",
       "      <th>2</th>\n",
       "      <td>1.82</td>\n",
       "      <td>1.0</td>\n",
       "      <td>0</td>\n",
       "      <td>1</td>\n",
       "      <td>0.0</td>\n",
       "      <td>2.0</td>\n",
       "      <td>0</td>\n",
       "    </tr>\n",
       "    <tr>\n",
       "      <th>3</th>\n",
       "      <td>0.91</td>\n",
       "      <td>1.0</td>\n",
       "      <td>0</td>\n",
       "      <td>1</td>\n",
       "      <td>0.0</td>\n",
       "      <td>6.0</td>\n",
       "      <td>2</td>\n",
       "    </tr>\n",
       "    <tr>\n",
       "      <th>4</th>\n",
       "      <td>0.54</td>\n",
       "      <td>1.0</td>\n",
       "      <td>1</td>\n",
       "      <td>0</td>\n",
       "      <td>6.0</td>\n",
       "      <td>0.0</td>\n",
       "      <td>3</td>\n",
       "    </tr>\n",
       "  </tbody>\n",
       "</table>\n",
       "</div>"
      ],
      "text/plain": [
       "   distance  surge_multiplier  cab_type_Lyft  cab_type_Uber  Lyft_Type  \\\n",
       "0      0.62               1.0              0              1        0.0   \n",
       "1      0.57               1.0              1              0        1.0   \n",
       "2      1.82               1.0              0              1        0.0   \n",
       "3      0.91               1.0              0              1        0.0   \n",
       "4      0.54               1.0              1              0        6.0   \n",
       "\n",
       "   Uber_Type  Ride_Category  \n",
       "0        2.0              0  \n",
       "1        0.0              1  \n",
       "2        2.0              0  \n",
       "3        6.0              2  \n",
       "4        0.0              3  "
      ]
     },
     "execution_count": 65,
     "metadata": {},
     "output_type": "execute_result"
    }
   ],
   "source": [
    "data_merged.head(5)"
   ]
  },
  {
   "cell_type": "markdown",
   "metadata": {},
   "source": [
    "# building model "
   ]
  },
  {
   "cell_type": "code",
   "execution_count": 66,
   "metadata": {},
   "outputs": [],
   "source": [
    "X=data_merged.iloc[:,:-1]\n",
    "Y=data_merged.iloc[:,-1]"
   ]
  },
  {
   "cell_type": "code",
   "execution_count": 67,
   "metadata": {},
   "outputs": [
    {
     "data": {
      "text/html": [
       "<div>\n",
       "<style scoped>\n",
       "    .dataframe tbody tr th:only-of-type {\n",
       "        vertical-align: middle;\n",
       "    }\n",
       "\n",
       "    .dataframe tbody tr th {\n",
       "        vertical-align: top;\n",
       "    }\n",
       "\n",
       "    .dataframe thead th {\n",
       "        text-align: right;\n",
       "    }\n",
       "</style>\n",
       "<table border=\"1\" class=\"dataframe\">\n",
       "  <thead>\n",
       "    <tr style=\"text-align: right;\">\n",
       "      <th></th>\n",
       "      <th>distance</th>\n",
       "      <th>surge_multiplier</th>\n",
       "      <th>cab_type_Lyft</th>\n",
       "      <th>cab_type_Uber</th>\n",
       "      <th>Lyft_Type</th>\n",
       "      <th>Uber_Type</th>\n",
       "    </tr>\n",
       "  </thead>\n",
       "  <tbody>\n",
       "    <tr>\n",
       "      <th>0</th>\n",
       "      <td>0.62</td>\n",
       "      <td>1.0</td>\n",
       "      <td>0</td>\n",
       "      <td>1</td>\n",
       "      <td>0.0</td>\n",
       "      <td>2.0</td>\n",
       "    </tr>\n",
       "    <tr>\n",
       "      <th>1</th>\n",
       "      <td>0.57</td>\n",
       "      <td>1.0</td>\n",
       "      <td>1</td>\n",
       "      <td>0</td>\n",
       "      <td>1.0</td>\n",
       "      <td>0.0</td>\n",
       "    </tr>\n",
       "    <tr>\n",
       "      <th>2</th>\n",
       "      <td>1.82</td>\n",
       "      <td>1.0</td>\n",
       "      <td>0</td>\n",
       "      <td>1</td>\n",
       "      <td>0.0</td>\n",
       "      <td>2.0</td>\n",
       "    </tr>\n",
       "    <tr>\n",
       "      <th>3</th>\n",
       "      <td>0.91</td>\n",
       "      <td>1.0</td>\n",
       "      <td>0</td>\n",
       "      <td>1</td>\n",
       "      <td>0.0</td>\n",
       "      <td>6.0</td>\n",
       "    </tr>\n",
       "    <tr>\n",
       "      <th>4</th>\n",
       "      <td>0.54</td>\n",
       "      <td>1.0</td>\n",
       "      <td>1</td>\n",
       "      <td>0</td>\n",
       "      <td>6.0</td>\n",
       "      <td>0.0</td>\n",
       "    </tr>\n",
       "  </tbody>\n",
       "</table>\n",
       "</div>"
      ],
      "text/plain": [
       "   distance  surge_multiplier  cab_type_Lyft  cab_type_Uber  Lyft_Type  \\\n",
       "0      0.62               1.0              0              1        0.0   \n",
       "1      0.57               1.0              1              0        1.0   \n",
       "2      1.82               1.0              0              1        0.0   \n",
       "3      0.91               1.0              0              1        0.0   \n",
       "4      0.54               1.0              1              0        6.0   \n",
       "\n",
       "   Uber_Type  \n",
       "0        2.0  \n",
       "1        0.0  \n",
       "2        2.0  \n",
       "3        6.0  \n",
       "4        0.0  "
      ]
     },
     "execution_count": 67,
     "metadata": {},
     "output_type": "execute_result"
    }
   ],
   "source": [
    "X.head()"
   ]
  },
  {
   "cell_type": "code",
   "execution_count": 68,
   "metadata": {
    "scrolled": false
   },
   "outputs": [
    {
     "data": {
      "text/plain": [
       "0    0\n",
       "1    1\n",
       "2    0\n",
       "3    2\n",
       "4    3\n",
       "Name: Ride_Category, dtype: int32"
      ]
     },
     "execution_count": 68,
     "metadata": {},
     "output_type": "execute_result"
    }
   ],
   "source": [
    "Y.head()"
   ]
  },
  {
   "cell_type": "code",
   "execution_count": 69,
   "metadata": {},
   "outputs": [],
   "source": [
    "poly_features = PolynomialFeatures(degree=2)"
   ]
  },
  {
   "cell_type": "code",
   "execution_count": 70,
   "metadata": {},
   "outputs": [],
   "source": [
    "accuracy=[]\n",
    "train_time=[]\n",
    "test_time=[]\n",
    "models_name=[]\n",
    "msq=[]"
   ]
  },
  {
   "cell_type": "markdown",
   "metadata": {},
   "source": [
    "## ▪ Split your dataset into 80% training and 20% testing."
   ]
  },
  {
   "cell_type": "code",
   "execution_count": 71,
   "metadata": {},
   "outputs": [],
   "source": [
    "x_train, x_test, y_train, y_test = train_test_split(X, Y, test_size = 0.20,shuffle=True,random_state=41)"
   ]
  },
  {
   "cell_type": "markdown",
   "metadata": {},
   "source": [
    "## LogisticRegression Model"
   ]
  },
  {
   "cell_type": "code",
   "execution_count": 72,
   "metadata": {},
   "outputs": [
    {
     "name": "stderr",
     "output_type": "stream",
     "text": [
      "C:\\Users\\Toshiba\\anaconda3\\lib\\site-packages\\sklearn\\linear_model\\_logistic.py:762: ConvergenceWarning: lbfgs failed to converge (status=1):\n",
      "STOP: TOTAL NO. of ITERATIONS REACHED LIMIT.\n",
      "\n",
      "Increase the number of iterations (max_iter) or scale the data as shown in:\n",
      "    https://scikit-learn.org/stable/modules/preprocessing.html\n",
      "Please also refer to the documentation for alternative solver options:\n",
      "    https://scikit-learn.org/stable/modules/linear_model.html#logistic-regression\n",
      "  n_iter_i = _check_optimize_result(\n"
     ]
    }
   ],
   "source": [
    "from sklearn.linear_model import LogisticRegression\n",
    "classifier = LogisticRegression()\n",
    "start_time = time.time()\n",
    "classifier.fit(poly_features.fit_transform(x_train), y_train)\n",
    "import pickle\n",
    "with open(\"classification_logist\",'wb') as files:\n",
    "    pickle.dump(classifier,files)\n",
    "\n",
    "logistic_train_time=(time.time() - start_time)\n",
    "train_time.append(logistic_train_time)\n",
    "models_name.append(\"Logistic Regression\")"
   ]
  },
  {
   "cell_type": "code",
   "execution_count": 73,
   "metadata": {},
   "outputs": [],
   "source": [
    "# import  sklearn.metrics\n",
    "# start_time = time.time()\n",
    "# y_pred = classifier.predict(poly_features.fit_transform(x_test))\n",
    "# logistic_prediction_time=(time.time() - start_time)\n",
    "# test_time.append(logistic_prediction_time)\n",
    "# msq.append( metrics.mean_squared_error(y_test, y_pred ))\n",
    "# accuracy.append( metrics.accuracy_score(y_test, y_pred)*100)\n",
    "# print('Mean Square Error', metrics.mean_squared_error(y_test, y_pred ))\n",
    "# print (\"Accuracy : \", metrics.accuracy_score(y_test, y_pred)*100)"
   ]
  },
  {
   "cell_type": "markdown",
   "metadata": {},
   "source": [
    "## DecisionTreeClassifier Model"
   ]
  },
  {
   "cell_type": "code",
   "execution_count": 74,
   "metadata": {
    "scrolled": true
   },
   "outputs": [
    {
     "name": "stdout",
     "output_type": "stream",
     "text": [
      "--- 5.376356363296509 seconds ---\n",
      "--- 0.12208271026611328 seconds ---\n",
      "Mean Square Error 0.10880720284996227\n",
      "Accuracy :  0.8930964360482255\n"
     ]
    }
   ],
   "source": [
    "# 10 , 89\n",
    "from sklearn.tree import DecisionTreeClassifier\n",
    "start_time = time.time()\n",
    "dtree_model = DecisionTreeClassifier(max_depth = 20).fit(x_train, y_train)\n",
    "dtc_train_time=(time.time() - start_time)\n",
    "\n",
    "train_time.append(dtc_train_time)\n",
    "models_name.append(\"DecisionTreeClassifier\")\n",
    "\n",
    "print(\"--- %s seconds ---\" % (time.time() - start_time))\n",
    "\n",
    "start_time = time.time()\n",
    "dtree_predictions = dtree_model.predict(x_test)\n",
    "dtc_prediction_time=(time.time() - start_time)\n",
    "print(\"--- %s seconds ---\" % (time.time() - start_time))\n",
    "\n",
    "test_time.append(dtc_prediction_time)\n",
    "msq.append( metrics.mean_squared_error(y_test, dtree_predictions ))\n",
    "accuracy.append( metrics.accuracy_score(y_test,dtree_predictions)*100)\n",
    "\n",
    "print('Mean Square Error', metrics.mean_squared_error(y_test, dtree_predictions ))\n",
    "print (\"Accuracy : \", metrics.accuracy_score(y_test,dtree_predictions))\n",
    "dtc_accuracy=metrics.accuracy_score(y_test,dtree_predictions)*100\n"
   ]
  },
  {
   "cell_type": "code",
   "execution_count": 75,
   "metadata": {},
   "outputs": [],
   "source": [
    "import pickle\n",
    "with open(\"Decisiontree\",'wb') as files:\n",
    "    pickle.dump(dtree_model,files)"
   ]
  },
  {
   "cell_type": "code",
   "execution_count": 76,
   "metadata": {},
   "outputs": [],
   "source": [
    "# with open(\"Decisiontree\",'rb') as f:\n",
    "#     load_model=pickle.load(f)"
   ]
  },
  {
   "cell_type": "markdown",
   "metadata": {},
   "source": [
    "##  KNeighborsClassifier Model"
   ]
  },
  {
   "cell_type": "code",
   "execution_count": 77,
   "metadata": {},
   "outputs": [],
   "source": [
    "# from sklearn.neighbors import KNeighborsClassifier\n",
    "# start_time = time.time()\n",
    "# knn = KNeighborsClassifier(n_neighbors = 10).fit(x_train, y_train)\n",
    "# knn_train_time=(time.time() - start_time)\n",
    "# # creating a confusion matrix\n",
    "# start_time = time.time()\n",
    "# knn_predictions = knn.predict(x_test)\n",
    "# knn_prediction_time=(time.time() - start_time)\n",
    "# print('Mean Square Error', metrics.mean_squared_error(y_test, knn_predictions ))\n",
    "# print (\"Accuracy : \",  metrics.accuracy_score(y_test,knn_predictions))\n",
    "# knn_accuracy= metrics.accuracy_score(y_test,knn_predictions)*100\n",
    "\n",
    "# train_time.append(knn_train_time)\n",
    "# models_name.append(\"KNeighborsClassifier\")\n",
    "# test_time.append(knn_prediction_time)\n",
    "# msq.append(  metrics.mean_squared_error(y_test, knn_predictions ))\n",
    "# accuracy.append(knn_accuracy)\n",
    "\n"
   ]
  },
  {
   "cell_type": "markdown",
   "metadata": {},
   "source": [
    "## GaussianNB Model"
   ]
  },
  {
   "cell_type": "code",
   "execution_count": 78,
   "metadata": {
    "scrolled": true
   },
   "outputs": [
    {
     "name": "stdout",
     "output_type": "stream",
     "text": [
      "Accuracy: 57.60731077279745\n"
     ]
    }
   ],
   "source": [
    "from sklearn.naive_bayes import GaussianNB\n",
    "gnb = GaussianNB()\n",
    "start_time = time.time()\n",
    "gnb.fit(x_train, y_train)\n",
    "gaussian_train_time=(time.time() - start_time)\n",
    "# making predictions on the testing set\n",
    "start_time = time.time()\n",
    "y_pred = gnb.predict(x_test)\n",
    "gaussian_prediction_time=(time.time() - start_time)\n",
    "print(\"Accuracy:\", metrics.accuracy_score(y_test, y_pred)*100)\n",
    "gaussian_accuracy=metrics.accuracy_score(y_test, y_pred)*100\n",
    "\n",
    "train_time.append(gaussian_train_time)\n",
    "models_name.append(\"GaussianNB\")\n",
    "test_time.append(gaussian_prediction_time)\n",
    "msq.append( metrics.mean_squared_error(y_test, y_pred ))\n",
    "accuracy.append( gaussian_accuracy)\n",
    "\n"
   ]
  },
  {
   "cell_type": "markdown",
   "metadata": {},
   "source": [
    "## RandomForestClassifier Models with different hyper paramters "
   ]
  },
  {
   "cell_type": "code",
   "execution_count": 79,
   "metadata": {},
   "outputs": [
    {
     "name": "stdout",
     "output_type": "stream",
     "text": [
      "Accuracy: 0.8920971505373658\n"
     ]
    }
   ],
   "source": [
    "from sklearn.ensemble import RandomForestClassifier\n",
    "\n",
    "model = RandomForestClassifier(n_estimators=1,max_features=6,bootstrap=True,max_depth=25)\n",
    " \n",
    "# training the model on the train dataset\n",
    "model.fit(x_train, y_train)\n",
    " \n",
    "# predicting the output on the test dataset\n",
    "y_pred = model.predict(x_test)\n",
    "\n",
    "# printing the root mean squared error between real value and predicted value\n",
    "print(\"Accuracy:\",metrics.accuracy_score(y_test, y_pred))\n",
    "\n"
   ]
  },
  {
   "cell_type": "code",
   "execution_count": 80,
   "metadata": {},
   "outputs": [
    {
     "name": "stdout",
     "output_type": "stream",
     "text": [
      "Accuracy: 0.8879151406744178\n"
     ]
    }
   ],
   "source": [
    "from sklearn.ensemble import RandomForestClassifier\n",
    "\n",
    "model = RandomForestClassifier(n_estimators=2,max_features=6,bootstrap=True,max_depth=10)\n",
    " \n",
    "# training the model on the train dataset\n",
    "model.fit(x_train, y_train)\n",
    " \n",
    "# predicting the output on the test dataset\n",
    "y_pred = model.predict(x_test)\n",
    "\n",
    "# printing the root mean squared error between real value and predicted value\n",
    "print(\"Accuracy:\",metrics.accuracy_score(y_test, y_pred))"
   ]
  },
  {
   "cell_type": "code",
   "execution_count": 81,
   "metadata": {},
   "outputs": [
    {
     "name": "stdout",
     "output_type": "stream",
     "text": [
      "Accuracy: 0.8930714539104541\n"
     ]
    }
   ],
   "source": [
    "from sklearn.ensemble import RandomForestClassifier\n",
    "\n",
    "model = RandomForestClassifier(n_estimators=3,max_features=4,bootstrap=True)\n",
    "start_time = time.time()\n",
    "# training the model on the train dataset\n",
    "model.fit(x_train, y_train)\n",
    "import pickle\n",
    "with open(\"randomforest\",'wb') as files:\n",
    "    pickle.dump(model,files)\n",
    "randomfc_train_time=(time.time() - start_time)\n",
    "# predicting the output on the test dataset\n",
    "start_time = time.time()\n",
    "y_pred = model.predict(x_test)\n",
    "randomfc_prediction_time=(time.time() - start_time)\n",
    "\n",
    "# printing the root mean squared error between real value and predicted value\n",
    "print(\"Accuracy:\",metrics.accuracy_score(y_test, y_pred))\n",
    "randomforest_accuracy=metrics.accuracy_score(y_test, y_pred)*100\n",
    "\n",
    "train_time.append(randomfc_train_time)\n",
    "models_name.append(\"RandomForestClassifier\")\n",
    "test_time.append(randomfc_prediction_time)\n",
    "msq.append( metrics.mean_squared_error(y_test, y_pred ))\n",
    "accuracy.append(randomforest_accuracy)"
   ]
  },
  {
   "cell_type": "markdown",
   "metadata": {},
   "source": [
    "## RandomForestClassifier's hyper paramters"
   ]
  },
  {
   "cell_type": "code",
   "execution_count": 82,
   "metadata": {
    "scrolled": true
   },
   "outputs": [
    {
     "name": "stdout",
     "output_type": "stream",
     "text": [
      "{'bootstrap': True, 'ccp_alpha': 0.0, 'class_weight': None, 'criterion': 'gini', 'max_depth': None, 'max_features': 4, 'max_leaf_nodes': None, 'max_samples': None, 'min_impurity_decrease': 0.0, 'min_impurity_split': None, 'min_samples_leaf': 1, 'min_samples_split': 2, 'min_weight_fraction_leaf': 0.0, 'n_estimators': 3, 'n_jobs': None, 'oob_score': False, 'random_state': None, 'verbose': 0, 'warm_start': False}\n"
     ]
    }
   ],
   "source": [
    "print(model.get_params())"
   ]
  },
  {
   "cell_type": "markdown",
   "metadata": {},
   "source": [
    "## Try to Explain in details how hyperparameter tuning affected RandomForestClassifier models’performance."
   ]
  },
  {
   "cell_type": "code",
   "execution_count": 83,
   "metadata": {},
   "outputs": [],
   "source": [
    "# from sklearn.model_selection import GridSearchCV\n",
    "\n",
    "# # Create the parameter grid based on the results of random search \n",
    "# param_grid = {\n",
    "#     'bootstrap': [True],\n",
    "#     'max_depth': [10,15,20],\n",
    "#     'max_features': [3,4],\n",
    "#     'min_samples_leaf': [3, 4, 5,6,7,8],\n",
    "#     'min_samples_split': [3,4,5,6],\n",
    "#     'n_estimators': [30,50]\n",
    "# }\n",
    "# # Create a based model\n",
    "# rf = RandomForestClassifier()\n",
    "# # Instantiate the grid search model\n",
    "# grid_search = GridSearchCV(estimator = rf, param_grid = param_grid, n_jobs = -1, verbose = 2)\n",
    "\n",
    "# # Fit the grid search to the data\n",
    "# grid_search.fit(x_train,y_train)"
   ]
  },
  {
   "cell_type": "code",
   "execution_count": null,
   "metadata": {},
   "outputs": [],
   "source": []
  },
  {
   "cell_type": "code",
   "execution_count": 84,
   "metadata": {},
   "outputs": [],
   "source": [
    "# best_grid = grid_search.best_estimator_\n",
    "# y_pred = best_grid.predict(x_test)\n",
    "# print (metrics.accuracy_score(y_test, y_pred))"
   ]
  },
  {
   "cell_type": "markdown",
   "metadata": {},
   "source": [
    "## Ploting  accuracy , train_time ,test_time and Mean Square Error for different Models "
   ]
  },
  {
   "cell_type": "code",
   "execution_count": 85,
   "metadata": {},
   "outputs": [
    {
     "ename": "ValueError",
     "evalue": "shape mismatch: objects cannot be broadcast to a single shape",
     "output_type": "error",
     "traceback": [
      "\u001b[1;31m---------------------------------------------------------------------------\u001b[0m",
      "\u001b[1;31mValueError\u001b[0m                                Traceback (most recent call last)",
      "\u001b[1;32m<ipython-input-85-9d164ef6b037>\u001b[0m in \u001b[0;36m<module>\u001b[1;34m\u001b[0m\n\u001b[0;32m      3\u001b[0m \u001b[1;31m# accuracy bar char ploting\u001b[0m\u001b[1;33m\u001b[0m\u001b[1;33m\u001b[0m\u001b[1;33m\u001b[0m\u001b[0m\n\u001b[0;32m      4\u001b[0m \u001b[0mplt_1\u001b[0m \u001b[1;33m=\u001b[0m \u001b[0mplt\u001b[0m\u001b[1;33m.\u001b[0m\u001b[0mfigure\u001b[0m\u001b[1;33m(\u001b[0m\u001b[0mfigsize\u001b[0m\u001b[1;33m=\u001b[0m\u001b[1;33m(\u001b[0m\u001b[1;36m16\u001b[0m\u001b[1;33m,\u001b[0m \u001b[1;36m10\u001b[0m\u001b[1;33m)\u001b[0m\u001b[1;33m)\u001b[0m\u001b[1;33m\u001b[0m\u001b[1;33m\u001b[0m\u001b[0m\n\u001b[1;32m----> 5\u001b[1;33m plt.bar(models_name,accuracy,\n\u001b[0m\u001b[0;32m      6\u001b[0m         width = 0.4)\n\u001b[0;32m      7\u001b[0m \u001b[0mplt\u001b[0m\u001b[1;33m.\u001b[0m\u001b[0mxlabel\u001b[0m\u001b[1;33m(\u001b[0m\u001b[1;34m\"Models Names\"\u001b[0m\u001b[1;33m,\u001b[0m\u001b[0mfontsize\u001b[0m\u001b[1;33m=\u001b[0m\u001b[1;36m20\u001b[0m\u001b[1;33m)\u001b[0m\u001b[1;33m\u001b[0m\u001b[1;33m\u001b[0m\u001b[0m\n",
      "\u001b[1;32m~\\anaconda3\\lib\\site-packages\\matplotlib\\pyplot.py\u001b[0m in \u001b[0;36mbar\u001b[1;34m(x, height, width, bottom, align, data, **kwargs)\u001b[0m\n\u001b[0;32m   2485\u001b[0m         \u001b[0mx\u001b[0m\u001b[1;33m,\u001b[0m \u001b[0mheight\u001b[0m\u001b[1;33m,\u001b[0m \u001b[0mwidth\u001b[0m\u001b[1;33m=\u001b[0m\u001b[1;36m0.8\u001b[0m\u001b[1;33m,\u001b[0m \u001b[0mbottom\u001b[0m\u001b[1;33m=\u001b[0m\u001b[1;32mNone\u001b[0m\u001b[1;33m,\u001b[0m \u001b[1;33m*\u001b[0m\u001b[1;33m,\u001b[0m \u001b[0malign\u001b[0m\u001b[1;33m=\u001b[0m\u001b[1;34m'center'\u001b[0m\u001b[1;33m,\u001b[0m\u001b[1;33m\u001b[0m\u001b[1;33m\u001b[0m\u001b[0m\n\u001b[0;32m   2486\u001b[0m         data=None, **kwargs):\n\u001b[1;32m-> 2487\u001b[1;33m     return gca().bar(\n\u001b[0m\u001b[0;32m   2488\u001b[0m         \u001b[0mx\u001b[0m\u001b[1;33m,\u001b[0m \u001b[0mheight\u001b[0m\u001b[1;33m,\u001b[0m \u001b[0mwidth\u001b[0m\u001b[1;33m=\u001b[0m\u001b[0mwidth\u001b[0m\u001b[1;33m,\u001b[0m \u001b[0mbottom\u001b[0m\u001b[1;33m=\u001b[0m\u001b[0mbottom\u001b[0m\u001b[1;33m,\u001b[0m \u001b[0malign\u001b[0m\u001b[1;33m=\u001b[0m\u001b[0malign\u001b[0m\u001b[1;33m,\u001b[0m\u001b[1;33m\u001b[0m\u001b[1;33m\u001b[0m\u001b[0m\n\u001b[0;32m   2489\u001b[0m         **({\"data\": data} if data is not None else {}), **kwargs)\n",
      "\u001b[1;32m~\\anaconda3\\lib\\site-packages\\matplotlib\\__init__.py\u001b[0m in \u001b[0;36minner\u001b[1;34m(ax, data, *args, **kwargs)\u001b[0m\n\u001b[0;32m   1436\u001b[0m     \u001b[1;32mdef\u001b[0m \u001b[0minner\u001b[0m\u001b[1;33m(\u001b[0m\u001b[0max\u001b[0m\u001b[1;33m,\u001b[0m \u001b[1;33m*\u001b[0m\u001b[0margs\u001b[0m\u001b[1;33m,\u001b[0m \u001b[0mdata\u001b[0m\u001b[1;33m=\u001b[0m\u001b[1;32mNone\u001b[0m\u001b[1;33m,\u001b[0m \u001b[1;33m**\u001b[0m\u001b[0mkwargs\u001b[0m\u001b[1;33m)\u001b[0m\u001b[1;33m:\u001b[0m\u001b[1;33m\u001b[0m\u001b[1;33m\u001b[0m\u001b[0m\n\u001b[0;32m   1437\u001b[0m         \u001b[1;32mif\u001b[0m \u001b[0mdata\u001b[0m \u001b[1;32mis\u001b[0m \u001b[1;32mNone\u001b[0m\u001b[1;33m:\u001b[0m\u001b[1;33m\u001b[0m\u001b[1;33m\u001b[0m\u001b[0m\n\u001b[1;32m-> 1438\u001b[1;33m             \u001b[1;32mreturn\u001b[0m \u001b[0mfunc\u001b[0m\u001b[1;33m(\u001b[0m\u001b[0max\u001b[0m\u001b[1;33m,\u001b[0m \u001b[1;33m*\u001b[0m\u001b[0mmap\u001b[0m\u001b[1;33m(\u001b[0m\u001b[0msanitize_sequence\u001b[0m\u001b[1;33m,\u001b[0m \u001b[0margs\u001b[0m\u001b[1;33m)\u001b[0m\u001b[1;33m,\u001b[0m \u001b[1;33m**\u001b[0m\u001b[0mkwargs\u001b[0m\u001b[1;33m)\u001b[0m\u001b[1;33m\u001b[0m\u001b[1;33m\u001b[0m\u001b[0m\n\u001b[0m\u001b[0;32m   1439\u001b[0m \u001b[1;33m\u001b[0m\u001b[0m\n\u001b[0;32m   1440\u001b[0m         \u001b[0mbound\u001b[0m \u001b[1;33m=\u001b[0m \u001b[0mnew_sig\u001b[0m\u001b[1;33m.\u001b[0m\u001b[0mbind\u001b[0m\u001b[1;33m(\u001b[0m\u001b[0max\u001b[0m\u001b[1;33m,\u001b[0m \u001b[1;33m*\u001b[0m\u001b[0margs\u001b[0m\u001b[1;33m,\u001b[0m \u001b[1;33m**\u001b[0m\u001b[0mkwargs\u001b[0m\u001b[1;33m)\u001b[0m\u001b[1;33m\u001b[0m\u001b[1;33m\u001b[0m\u001b[0m\n",
      "\u001b[1;32m~\\anaconda3\\lib\\site-packages\\matplotlib\\axes\\_axes.py\u001b[0m in \u001b[0;36mbar\u001b[1;34m(self, x, height, width, bottom, align, **kwargs)\u001b[0m\n\u001b[0;32m   2428\u001b[0m                 \u001b[0myerr\u001b[0m \u001b[1;33m=\u001b[0m \u001b[0mself\u001b[0m\u001b[1;33m.\u001b[0m\u001b[0m_convert_dx\u001b[0m\u001b[1;33m(\u001b[0m\u001b[0myerr\u001b[0m\u001b[1;33m,\u001b[0m \u001b[0my0\u001b[0m\u001b[1;33m,\u001b[0m \u001b[0my\u001b[0m\u001b[1;33m,\u001b[0m \u001b[0mself\u001b[0m\u001b[1;33m.\u001b[0m\u001b[0mconvert_yunits\u001b[0m\u001b[1;33m)\u001b[0m\u001b[1;33m\u001b[0m\u001b[1;33m\u001b[0m\u001b[0m\n\u001b[0;32m   2429\u001b[0m \u001b[1;33m\u001b[0m\u001b[0m\n\u001b[1;32m-> 2430\u001b[1;33m         x, height, width, y, linewidth = np.broadcast_arrays(\n\u001b[0m\u001b[0;32m   2431\u001b[0m             \u001b[1;31m# Make args iterable too.\u001b[0m\u001b[1;33m\u001b[0m\u001b[1;33m\u001b[0m\u001b[1;33m\u001b[0m\u001b[0m\n\u001b[0;32m   2432\u001b[0m             np.atleast_1d(x), height, width, y, linewidth)\n",
      "\u001b[1;32m<__array_function__ internals>\u001b[0m in \u001b[0;36mbroadcast_arrays\u001b[1;34m(*args, **kwargs)\u001b[0m\n",
      "\u001b[1;32m~\\anaconda3\\lib\\site-packages\\numpy\\lib\\stride_tricks.py\u001b[0m in \u001b[0;36mbroadcast_arrays\u001b[1;34m(subok, *args)\u001b[0m\n\u001b[0;32m    256\u001b[0m     \u001b[0margs\u001b[0m \u001b[1;33m=\u001b[0m \u001b[1;33m[\u001b[0m\u001b[0mnp\u001b[0m\u001b[1;33m.\u001b[0m\u001b[0marray\u001b[0m\u001b[1;33m(\u001b[0m\u001b[0m_m\u001b[0m\u001b[1;33m,\u001b[0m \u001b[0mcopy\u001b[0m\u001b[1;33m=\u001b[0m\u001b[1;32mFalse\u001b[0m\u001b[1;33m,\u001b[0m \u001b[0msubok\u001b[0m\u001b[1;33m=\u001b[0m\u001b[0msubok\u001b[0m\u001b[1;33m)\u001b[0m \u001b[1;32mfor\u001b[0m \u001b[0m_m\u001b[0m \u001b[1;32min\u001b[0m \u001b[0margs\u001b[0m\u001b[1;33m]\u001b[0m\u001b[1;33m\u001b[0m\u001b[1;33m\u001b[0m\u001b[0m\n\u001b[0;32m    257\u001b[0m \u001b[1;33m\u001b[0m\u001b[0m\n\u001b[1;32m--> 258\u001b[1;33m     \u001b[0mshape\u001b[0m \u001b[1;33m=\u001b[0m \u001b[0m_broadcast_shape\u001b[0m\u001b[1;33m(\u001b[0m\u001b[1;33m*\u001b[0m\u001b[0margs\u001b[0m\u001b[1;33m)\u001b[0m\u001b[1;33m\u001b[0m\u001b[1;33m\u001b[0m\u001b[0m\n\u001b[0m\u001b[0;32m    259\u001b[0m \u001b[1;33m\u001b[0m\u001b[0m\n\u001b[0;32m    260\u001b[0m     \u001b[1;32mif\u001b[0m \u001b[0mall\u001b[0m\u001b[1;33m(\u001b[0m\u001b[0marray\u001b[0m\u001b[1;33m.\u001b[0m\u001b[0mshape\u001b[0m \u001b[1;33m==\u001b[0m \u001b[0mshape\u001b[0m \u001b[1;32mfor\u001b[0m \u001b[0marray\u001b[0m \u001b[1;32min\u001b[0m \u001b[0margs\u001b[0m\u001b[1;33m)\u001b[0m\u001b[1;33m:\u001b[0m\u001b[1;33m\u001b[0m\u001b[1;33m\u001b[0m\u001b[0m\n",
      "\u001b[1;32m~\\anaconda3\\lib\\site-packages\\numpy\\lib\\stride_tricks.py\u001b[0m in \u001b[0;36m_broadcast_shape\u001b[1;34m(*args)\u001b[0m\n\u001b[0;32m    187\u001b[0m     \u001b[1;31m# use the old-iterator because np.nditer does not handle size 0 arrays\u001b[0m\u001b[1;33m\u001b[0m\u001b[1;33m\u001b[0m\u001b[1;33m\u001b[0m\u001b[0m\n\u001b[0;32m    188\u001b[0m     \u001b[1;31m# consistently\u001b[0m\u001b[1;33m\u001b[0m\u001b[1;33m\u001b[0m\u001b[1;33m\u001b[0m\u001b[0m\n\u001b[1;32m--> 189\u001b[1;33m     \u001b[0mb\u001b[0m \u001b[1;33m=\u001b[0m \u001b[0mnp\u001b[0m\u001b[1;33m.\u001b[0m\u001b[0mbroadcast\u001b[0m\u001b[1;33m(\u001b[0m\u001b[1;33m*\u001b[0m\u001b[0margs\u001b[0m\u001b[1;33m[\u001b[0m\u001b[1;33m:\u001b[0m\u001b[1;36m32\u001b[0m\u001b[1;33m]\u001b[0m\u001b[1;33m)\u001b[0m\u001b[1;33m\u001b[0m\u001b[1;33m\u001b[0m\u001b[0m\n\u001b[0m\u001b[0;32m    190\u001b[0m     \u001b[1;31m# unfortunately, it cannot handle 32 or more arguments directly\u001b[0m\u001b[1;33m\u001b[0m\u001b[1;33m\u001b[0m\u001b[1;33m\u001b[0m\u001b[0m\n\u001b[0;32m    191\u001b[0m     \u001b[1;32mfor\u001b[0m \u001b[0mpos\u001b[0m \u001b[1;32min\u001b[0m \u001b[0mrange\u001b[0m\u001b[1;33m(\u001b[0m\u001b[1;36m32\u001b[0m\u001b[1;33m,\u001b[0m \u001b[0mlen\u001b[0m\u001b[1;33m(\u001b[0m\u001b[0margs\u001b[0m\u001b[1;33m)\u001b[0m\u001b[1;33m,\u001b[0m \u001b[1;36m31\u001b[0m\u001b[1;33m)\u001b[0m\u001b[1;33m:\u001b[0m\u001b[1;33m\u001b[0m\u001b[1;33m\u001b[0m\u001b[0m\n",
      "\u001b[1;31mValueError\u001b[0m: shape mismatch: objects cannot be broadcast to a single shape"
     ]
    },
    {
     "data": {
      "image/png": "[encoded data removed]",
      "text/plain": [
       "<Figure size 1152x720 with 1 Axes>"
      ]
     },
     "metadata": {
      "needs_background": "light"
     },
     "output_type": "display_data"
    }
   ],
   "source": [
    "# accuracy , train_time ,test_time ,models_name ,msq\n",
    "\n",
    "# accuracy bar char ploting \n",
    "plt_1 = plt.figure(figsize=(16, 10))\n",
    "plt.bar(models_name,accuracy,\n",
    "        width = 0.4)\n",
    "plt.xlabel(\"Models Names\",fontsize=20)\n",
    "plt.ylabel(\"accuracy (%)\",fontsize=20)\n",
    "plt.xticks(rotation = 45,fontsize=20)\n",
    "plt.yticks(fontsize=20)\n",
    "plt.title(\"Classification Accuracy Summarize\",fontdict={'fontsize':20})\n",
    "# plt.savefig('Classification_Accuracy.png')\n",
    "plt.show()"
   ]
  },
  {
   "cell_type": "code",
   "execution_count": null,
   "metadata": {},
   "outputs": [],
   "source": [
    "plt_1 = plt.figure(figsize=(16, 10))\n",
    "plt.bar(models_name,train_time,\n",
    "        width = 0.4)\n",
    "plt.xlabel(\"Models Names\",fontsize=20)\n",
    "plt.ylabel(\"Training Time\",fontsize=20)\n",
    "plt.xticks(rotation = 45,fontsize=20)\n",
    "plt.yticks(fontsize=20)\n",
    "\n",
    "plt.title(\"Total Training Time Summarize\",fontdict={'fontsize':20})\n",
    "# plt.savefig('Classification_Training Time.png')\n",
    "plt.show()"
   ]
  },
  {
   "cell_type": "code",
   "execution_count": null,
   "metadata": {},
   "outputs": [],
   "source": [
    "plt_1 = plt.figure(figsize=(16, 10))\n",
    "plt.bar(models_name,test_time,\n",
    "        width = 0.4)\n",
    "\n",
    "plt.xlabel(\"Models Names\",fontsize=20)\n",
    "plt.ylabel(\"Testing Time\",fontsize=20)\n",
    "plt.xticks(rotation = 45,fontsize=20)\n",
    "plt.yticks(fontsize=20)\n",
    "plt.title(\"Total Testing Time Summarize\",fontdict={'fontsize':20})\n",
    "# plt.savefig('Classification_Testing Time.png')\n",
    "plt.show()"
   ]
  },
  {
   "cell_type": "code",
   "execution_count": null,
   "metadata": {},
   "outputs": [],
   "source": [
    "plt_1 = plt.figure(figsize=(16, 10))\n",
    "plt.bar(models_name,msq,\n",
    "        width = 0.4)\n",
    "plt.xlabel(\"Models Names\" ,fontsize=20)\n",
    "plt.ylabel(\"Mean Square Error\",fontsize=20)\n",
    "plt.xticks(rotation=45,fontsize=20)\n",
    "plt.yticks(fontsize=20)\n",
    "plt.title(\"Mean Square Error Summarize\",fontdict={'fontsize':20})\n",
    "# plt.savefig('Classification_MSE.png')\n",
    "plt.show()"
   ]
  }
 ],
 "metadata": {
  "kernelspec": {
   "display_name": "Python 3",
   "language": "python",
   "name": "python3"
  },
  "language_info": {
   "codemirror_mode": {
    "name": "ipython",
    "version": 3
   },
   "file_extension": ".py",
   "mimetype": "text/x-python",
   "name": "python",
   "nbconvert_exporter": "python",
   "pygments_lexer": "ipython3",
   "version": "3.8.5"
  }
 },
 "nbformat": 4,
 "nbformat_minor": 4
}
