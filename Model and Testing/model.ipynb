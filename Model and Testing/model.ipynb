{
 "cells": [
  {
   "cell_type": "code",
   "execution_count": 18,
   "metadata": {},
   "outputs": [],
   "source": [
    "import numpy as np\n",
    "import pandas as pd\n",
    "import matplotlib.pyplot as plt \n",
    "%matplotlib inline\n",
    "import seaborn as sns\n",
    "from scipy import stats\n",
    "from datetime import datetime \n",
    "from sklearn.preprocessing import OrdinalEncoder\n",
    "from sklearn.preprocessing import MinMaxScaler\n",
    "from sklearn.impute import KNNImputer\n",
    "import category_encoders as ce\n",
    "from sklearn.preprocessing import StandardScaler\n",
    "from sklearn import linear_model\n",
    "from sklearn import metrics\n",
    "from sklearn.model_selection import train_test_split\n",
    "from sklearn.preprocessing import PolynomialFeatures"
   ]
  },
  {
   "cell_type": "code",
   "execution_count": 19,
   "metadata": {},
   "outputs": [],
   "source": [
    "data=pd.read_csv(\"model_data.csv\")\n",
    "street=pd.read_csv(\"boston.csv\",names=[\"stree_name\",\"latitude\",\"longitude\"])"
   ]
  },
  {
   "cell_type": "code",
   "execution_count": 20,
   "metadata": {
    "scrolled": false
   },
   "outputs": [
    {
     "data": {
      "text/html": [
       "<div>\n",
       "<style scoped>\n",
       "    .dataframe tbody tr th:only-of-type {\n",
       "        vertical-align: middle;\n",
       "    }\n",
       "\n",
       "    .dataframe tbody tr th {\n",
       "        vertical-align: top;\n",
       "    }\n",
       "\n",
       "    .dataframe thead th {\n",
       "        text-align: right;\n",
       "    }\n",
       "</style>\n",
       "<table border=\"1\" class=\"dataframe\">\n",
       "  <thead>\n",
       "    <tr style=\"text-align: right;\">\n",
       "      <th></th>\n",
       "      <th>Unnamed: 0</th>\n",
       "      <th>distance</th>\n",
       "      <th>surge_multiplier</th>\n",
       "      <th>Lyft_Type</th>\n",
       "      <th>Uber_Type</th>\n",
       "      <th>cab_type_Uber</th>\n",
       "      <th>price</th>\n",
       "    </tr>\n",
       "  </thead>\n",
       "  <tbody>\n",
       "    <tr>\n",
       "      <th>0</th>\n",
       "      <td>0</td>\n",
       "      <td>0.02</td>\n",
       "      <td>1.0</td>\n",
       "      <td>0.0</td>\n",
       "      <td>3.0</td>\n",
       "      <td>1</td>\n",
       "      <td>6.5</td>\n",
       "    </tr>\n",
       "    <tr>\n",
       "      <th>1</th>\n",
       "      <td>1</td>\n",
       "      <td>0.02</td>\n",
       "      <td>1.0</td>\n",
       "      <td>0.0</td>\n",
       "      <td>6.0</td>\n",
       "      <td>1</td>\n",
       "      <td>15.0</td>\n",
       "    </tr>\n",
       "    <tr>\n",
       "      <th>2</th>\n",
       "      <td>2</td>\n",
       "      <td>0.02</td>\n",
       "      <td>1.0</td>\n",
       "      <td>0.0</td>\n",
       "      <td>7.0</td>\n",
       "      <td>1</td>\n",
       "      <td>27.5</td>\n",
       "    </tr>\n",
       "    <tr>\n",
       "      <th>3</th>\n",
       "      <td>3</td>\n",
       "      <td>0.02</td>\n",
       "      <td>1.0</td>\n",
       "      <td>0.0</td>\n",
       "      <td>2.0</td>\n",
       "      <td>1</td>\n",
       "      <td>6.5</td>\n",
       "    </tr>\n",
       "    <tr>\n",
       "      <th>4</th>\n",
       "      <td>4</td>\n",
       "      <td>0.02</td>\n",
       "      <td>1.0</td>\n",
       "      <td>0.0</td>\n",
       "      <td>4.0</td>\n",
       "      <td>1</td>\n",
       "      <td>8.5</td>\n",
       "    </tr>\n",
       "  </tbody>\n",
       "</table>\n",
       "</div>"
      ],
      "text/plain": [
       "   Unnamed: 0  distance  surge_multiplier  Lyft_Type  Uber_Type  \\\n",
       "0           0      0.02               1.0        0.0        3.0   \n",
       "1           1      0.02               1.0        0.0        6.0   \n",
       "2           2      0.02               1.0        0.0        7.0   \n",
       "3           3      0.02               1.0        0.0        2.0   \n",
       "4           4      0.02               1.0        0.0        4.0   \n",
       "\n",
       "   cab_type_Uber  price  \n",
       "0              1    6.5  \n",
       "1              1   15.0  \n",
       "2              1   27.5  \n",
       "3              1    6.5  \n",
       "4              1    8.5  "
      ]
     },
     "execution_count": 20,
     "metadata": {},
     "output_type": "execute_result"
    }
   ],
   "source": [
    "data.head()"
   ]
  },
  {
   "cell_type": "code",
   "execution_count": 21,
   "metadata": {},
   "outputs": [],
   "source": [
    "data=data.iloc[:,1:]"
   ]
  },
  {
   "cell_type": "code",
   "execution_count": 22,
   "metadata": {},
   "outputs": [
    {
     "data": {
      "text/html": [
       "<div>\n",
       "<style scoped>\n",
       "    .dataframe tbody tr th:only-of-type {\n",
       "        vertical-align: middle;\n",
       "    }\n",
       "\n",
       "    .dataframe tbody tr th {\n",
       "        vertical-align: top;\n",
       "    }\n",
       "\n",
       "    .dataframe thead th {\n",
       "        text-align: right;\n",
       "    }\n",
       "</style>\n",
       "<table border=\"1\" class=\"dataframe\">\n",
       "  <thead>\n",
       "    <tr style=\"text-align: right;\">\n",
       "      <th></th>\n",
       "      <th>distance</th>\n",
       "      <th>surge_multiplier</th>\n",
       "      <th>Lyft_Type</th>\n",
       "      <th>Uber_Type</th>\n",
       "      <th>cab_type_Uber</th>\n",
       "      <th>price</th>\n",
       "    </tr>\n",
       "  </thead>\n",
       "  <tbody>\n",
       "    <tr>\n",
       "      <th>0</th>\n",
       "      <td>0.02</td>\n",
       "      <td>1.0</td>\n",
       "      <td>0.0</td>\n",
       "      <td>3.0</td>\n",
       "      <td>1</td>\n",
       "      <td>6.5</td>\n",
       "    </tr>\n",
       "    <tr>\n",
       "      <th>1</th>\n",
       "      <td>0.02</td>\n",
       "      <td>1.0</td>\n",
       "      <td>0.0</td>\n",
       "      <td>6.0</td>\n",
       "      <td>1</td>\n",
       "      <td>15.0</td>\n",
       "    </tr>\n",
       "    <tr>\n",
       "      <th>2</th>\n",
       "      <td>0.02</td>\n",
       "      <td>1.0</td>\n",
       "      <td>0.0</td>\n",
       "      <td>7.0</td>\n",
       "      <td>1</td>\n",
       "      <td>27.5</td>\n",
       "    </tr>\n",
       "    <tr>\n",
       "      <th>3</th>\n",
       "      <td>0.02</td>\n",
       "      <td>1.0</td>\n",
       "      <td>0.0</td>\n",
       "      <td>2.0</td>\n",
       "      <td>1</td>\n",
       "      <td>6.5</td>\n",
       "    </tr>\n",
       "    <tr>\n",
       "      <th>4</th>\n",
       "      <td>0.02</td>\n",
       "      <td>1.0</td>\n",
       "      <td>0.0</td>\n",
       "      <td>4.0</td>\n",
       "      <td>1</td>\n",
       "      <td>8.5</td>\n",
       "    </tr>\n",
       "  </tbody>\n",
       "</table>\n",
       "</div>"
      ],
      "text/plain": [
       "   distance  surge_multiplier  Lyft_Type  Uber_Type  cab_type_Uber  price\n",
       "0      0.02               1.0        0.0        3.0              1    6.5\n",
       "1      0.02               1.0        0.0        6.0              1   15.0\n",
       "2      0.02               1.0        0.0        7.0              1   27.5\n",
       "3      0.02               1.0        0.0        2.0              1    6.5\n",
       "4      0.02               1.0        0.0        4.0              1    8.5"
      ]
     },
     "execution_count": 22,
     "metadata": {},
     "output_type": "execute_result"
    }
   ],
   "source": [
    "data.head()"
   ]
  },
  {
   "cell_type": "code",
   "execution_count": 23,
   "metadata": {},
   "outputs": [
    {
     "data": {
      "text/plain": [
       "2.66    7225\n",
       "2.32    7171\n",
       "2.84    6777\n",
       "1.41    6198\n",
       "1.25    5879\n",
       "        ... \n",
       "4.99       4\n",
       "4.85       4\n",
       "3.84       3\n",
       "4.89       3\n",
       "5.06       3\n",
       "Name: distance, Length: 511, dtype: int64"
      ]
     },
     "execution_count": 23,
     "metadata": {},
     "output_type": "execute_result"
    }
   ],
   "source": [
    "data.distance.value_counts()"
   ]
  },
  {
   "cell_type": "code",
   "execution_count": 24,
   "metadata": {},
   "outputs": [],
   "source": [
    "poly_features = PolynomialFeatures(degree=6)"
   ]
  },
  {
   "cell_type": "code",
   "execution_count": 25,
   "metadata": {},
   "outputs": [],
   "source": [
    "X=data.loc[:,['distance', 'surge_multiplier', 'Lyft_Type', 'Uber_Type', 'cab_type_Uber']]\n",
    "Y=data['price']"
   ]
  },
  {
   "cell_type": "code",
   "execution_count": 26,
   "metadata": {},
   "outputs": [],
   "source": [
    "X_train_poly = poly_features.fit_transform(X)"
   ]
  },
  {
   "cell_type": "code",
   "execution_count": 28,
   "metadata": {},
   "outputs": [],
   "source": [
    "X_train, X_test, y_train, y_test = train_test_split(X_train_poly, Y, test_size = 0.40,shuffle=True,random_state=10)"
   ]
  },
  {
   "cell_type": "code",
   "execution_count": 29,
   "metadata": {},
   "outputs": [
    {
     "name": "stdout",
     "output_type": "stream",
     "text": [
      "--- 67.37051796913147 seconds ---\n"
     ]
    }
   ],
   "source": [
    "import time\n",
    "\n",
    "poly_model = linear_model.LinearRegression()\n",
    "start_time = time.time()\n",
    "poly_model.fit(X_train, y_train)\n",
    "print(\"--- %s seconds ---\" % (time.time() - start_time))"
   ]
  },
  {
   "cell_type": "code",
   "execution_count": 30,
   "metadata": {},
   "outputs": [
    {
     "name": "stdout",
     "output_type": "stream",
     "text": [
      "--- 68.64051938056946 seconds ---\n"
     ]
    }
   ],
   "source": [
    "# predicting on test data-set\n",
    "prediction= poly_model.predict(X_test)\n",
    "print(\"--- %s seconds ---\" % (time.time() - start_time))"
   ]
  },
  {
   "cell_type": "code",
   "execution_count": 31,
   "metadata": {},
   "outputs": [
    {
     "name": "stdout",
     "output_type": "stream",
     "text": [
      "Intercept of linear regression model -3591878.2547301683\n",
      "Mean Square Error 3.2033302454761072\n",
      "r2_score: 95.94656193936568 %\n"
     ]
    }
   ],
   "source": [
    "# print('Co-efficient of linear regression',poly_model.coef_)\n",
    "print('Intercept of linear regression model',poly_model.intercept_)\n",
    "print('Mean Square Error', metrics.mean_squared_error(y_test, prediction))\n",
    "print(\"r2_score:\",metrics.r2_score(prediction,y_test)*100,\"%\")"
   ]
  },
  {
   "cell_type": "code",
   "execution_count": 14,
   "metadata": {},
   "outputs": [],
   "source": [
    "# import pickle\n",
    "# pickle.dump(poly_model,open('modell.pkl','wb'))"
   ]
  },
  {
   "cell_type": "code",
   "execution_count": 32,
   "metadata": {},
   "outputs": [],
   "source": [
    "from math import radians, cos, sin, asin, sqrt\n",
    "def distance(lat1, lat2, lon1, lon2):\n",
    "     \n",
    "    # The math module contains a function named\n",
    "    # radians which converts from degrees to radians.\n",
    "    lon1 = radians(lon1)\n",
    "    lon2 = radians(lon2)\n",
    "    lat1 = radians(lat1)\n",
    "    lat2 = radians(lat2)\n",
    "      \n",
    "    # Haversine formula\n",
    "    dlon = lon2 - lon1\n",
    "    dlat = lat2 - lat1\n",
    "    a = sin(dlat / 2)**2 + cos(lat1) * cos(lat2) * sin(dlon / 2)**2\n",
    " \n",
    "    c = 2 * asin(sqrt(a))\n",
    "    \n",
    "    # Radius of earth in kilometers. Use 3956 for miles\n",
    "    r = 6371\n",
    "      \n",
    "    # calculate the result\n",
    "    return(c * r)\n",
    "     "
   ]
  },
  {
   "cell_type": "code",
   "execution_count": 33,
   "metadata": {},
   "outputs": [
    {
     "data": {
      "text/html": [
       "<div>\n",
       "<style scoped>\n",
       "    .dataframe tbody tr th:only-of-type {\n",
       "        vertical-align: middle;\n",
       "    }\n",
       "\n",
       "    .dataframe tbody tr th {\n",
       "        vertical-align: top;\n",
       "    }\n",
       "\n",
       "    .dataframe thead th {\n",
       "        text-align: right;\n",
       "    }\n",
       "</style>\n",
       "<table border=\"1\" class=\"dataframe\">\n",
       "  <thead>\n",
       "    <tr style=\"text-align: right;\">\n",
       "      <th></th>\n",
       "      <th>stree_name</th>\n",
       "      <th>latitude</th>\n",
       "      <th>longitude</th>\n",
       "    </tr>\n",
       "  </thead>\n",
       "  <tbody>\n",
       "    <tr>\n",
       "      <th>0</th>\n",
       "      <td>3rd Place  212</td>\n",
       "      <td>42.337923</td>\n",
       "      <td>-71.048038</td>\n",
       "    </tr>\n",
       "    <tr>\n",
       "      <th>1</th>\n",
       "      <td>4th Street Place  2127</td>\n",
       "      <td>42.334637</td>\n",
       "      <td>-71.042955</td>\n",
       "    </tr>\n",
       "    <tr>\n",
       "      <th>2</th>\n",
       "      <td>A Street  2210</td>\n",
       "      <td>42.345284</td>\n",
       "      <td>-71.052449</td>\n",
       "    </tr>\n",
       "    <tr>\n",
       "      <th>3</th>\n",
       "      <td>A Street  2127</td>\n",
       "      <td>42.345280</td>\n",
       "      <td>-71.052454</td>\n",
       "    </tr>\n",
       "    <tr>\n",
       "      <th>4</th>\n",
       "      <td>Aberdeen Street  2215</td>\n",
       "      <td>42.346413</td>\n",
       "      <td>-71.103843</td>\n",
       "    </tr>\n",
       "  </tbody>\n",
       "</table>\n",
       "</div>"
      ],
      "text/plain": [
       "               stree_name   latitude  longitude\n",
       "0          3rd Place  212  42.337923 -71.048038\n",
       "1  4th Street Place  2127  42.334637 -71.042955\n",
       "2          A Street  2210  42.345284 -71.052449\n",
       "3          A Street  2127  42.345280 -71.052454\n",
       "4   Aberdeen Street  2215  42.346413 -71.103843"
      ]
     },
     "execution_count": 33,
     "metadata": {},
     "output_type": "execute_result"
    }
   ],
   "source": [
    "street.head()"
   ]
  },
  {
   "cell_type": "code",
   "execution_count": 34,
   "metadata": {},
   "outputs": [],
   "source": [
    "id_name_dict={\n",
    "    \"55c66225-fbe7-4fd5-9072-eab1ece5e23e\":\"UberX\",\n",
    "    \"8cf7e821-f0d3-49c6-8eba-e679c0ebcf6a\":\"Taxi\",\n",
    "    \"997acbb5-e102-41e1-b155-9df7de0a73f2\":\"UberPool\",\n",
    "    \"6d318bcc-22a3-4af6-bddd-b409bfce1546\":\"Black SUV\",\n",
    "    \"9a0e7b09-b92b-4c41-9779-2ad22b4d779d\":\"WAV\",\n",
    "    \"6f72dfc5-27f1-42e8-84db-ccc7a75f6969\":\"UberXL\",\n",
    "    \"6c84fd89-3f11-4782-9b50-97c468b19529\":\"Black\",\n",
    "    \"lyft_plus\":\"Lyft XL\",\n",
    "    \"lyft_lux\":\"Lux Black\",\n",
    "    \"lyft\":\"Lyft\",\n",
    "    \"lyft_luxsuv\":\"Lux Black XL\",\n",
    "    \"lyft_premier\":\"Lux\",\n",
    "    \"lyft_line\":\"Shared\"\n",
    "}"
   ]
  },
  {
   "cell_type": "code",
   "execution_count": 35,
   "metadata": {},
   "outputs": [],
   "source": [
    "uber_names=['Black SUV','Black','WAV','UberXL','UberX','Taxi','UberPool']\n",
    "lyft_names=['Shared', 'Lyft', 'Lyft XL', 'Lux', 'Lux Black', 'Lux Black XL']  "
   ]
  },
  {
   "cell_type": "code",
   "execution_count": 36,
   "metadata": {},
   "outputs": [],
   "source": [
    "def message(col_name):\n",
    "    print(col_name+\" has wrong value\")\n",
    "    print(\"1:Drop row\")\n",
    "    print(\"2:replace with another value\")"
   ]
  },
  {
   "cell_type": "code",
   "execution_count": 55,
   "metadata": {},
   "outputs": [],
   "source": [
    "# distance\tcab_type\ttime_stamp\tdestination\tsource\tsurge_multiplier\tid\tproduct_id\tname\tprice\n",
    "def check_dataset(datasetname):\n",
    "    # important columns[distance - cab_type - lyft_type - uber_type]\n",
    "    data=pd.read_csv(datasetname)\n",
    "    for i in range(data.shape[0]):\n",
    "#         distance imputation\n",
    "        if (data.iloc[i,0] <=0.0)or (data.iloc[i,0]==np.nan):\n",
    "            if ((data.iloc[i,1]!=np.nan or data.iloc[i,1]!=\"\") and (data.iloc[i,2]!=np.nan or data.iloc[i,2]!=\"\") ):\n",
    "                    lat1=street[street.stree_name==data.iloc[i,1]].latitude\n",
    "                    lat2=street[street.stree_name==data.iloc[i,2]].latitude\n",
    "                    longi=street[street.stree_name==data.iloc[i,1]].longitude\n",
    "                    logi2=street[street.stree_name==data.iloc[i,2]].longitude\n",
    "                    \n",
    "                    data.iloc[i,0]=distance(lat1,lat2,longi,longi2)\n",
    "            \n",
    "            else:\n",
    "                    data.iloc[i,0]=data.distance.mean()\n",
    "                    \n",
    "        \n",
    "        if ((data.iloc[i,7] ==np.nan)or (data.iloc[i,7]==\"\")):\n",
    "                    data.iloc[i,7]=id_name_dic[data.iloc[i,6]]\n",
    "        \n",
    "        if ((data.iloc[i,1] ==\"\")or (data.iloc[i,1]==np.nan)):\n",
    "            if data.iloc[i,7] in uber_names:\n",
    "                    data.iloc[i,1]=\"Uber\"\n",
    "            elif data.iloc[i,7] in lyft_names:\n",
    "                    data.iloc[i,1]=\"Lyft\"\n",
    "        \n",
    "        if (data.iloc[i,5] <=0.0)or (data.iloc[i,5]==np.nan):\n",
    "                    data.iloc[i,5]=1.0\n",
    "       \n",
    "    return data\n",
    "        \n",
    "        "
   ]
  },
  {
   "cell_type": "code",
   "execution_count": 189,
   "metadata": {},
   "outputs": [],
   "source": [
    "csv_name=\"taxi-tas-regression-test.csv\"\n",
    "data=pd.read_csv(csv_name)\n",
    "# data = data.assign(source_destination = data.destination+data.source) "
   ]
  },
  {
   "cell_type": "code",
   "execution_count": 190,
   "metadata": {},
   "outputs": [
    {
     "data": {
      "text/plain": [
       "array(['Lux Black XL', 'UberPool', 'Lyft XL', 'Lyft', 'UberX', 'Lux',\n",
       "       'WAV', 'Lux Black', 'Black SUV', 'Black', 'UberXL', 'Shared'],\n",
       "      dtype=object)"
      ]
     },
     "execution_count": 190,
     "metadata": {},
     "output_type": "execute_result"
    }
   ],
   "source": [
    "data.name.unique()"
   ]
  },
  {
   "cell_type": "code",
   "execution_count": 191,
   "metadata": {},
   "outputs": [],
   "source": [
    "data=data[data.name!='Taxi']"
   ]
  },
  {
   "cell_type": "code",
   "execution_count": 192,
   "metadata": {},
   "outputs": [
    {
     "data": {
      "text/plain": [
       "array(['Lux Black XL', 'UberPool', 'Lyft XL', 'Lyft', 'UberX', 'Lux',\n",
       "       'WAV', 'Lux Black', 'Black SUV', 'Black', 'UberXL', 'Shared'],\n",
       "      dtype=object)"
      ]
     },
     "execution_count": 192,
     "metadata": {},
     "output_type": "execute_result"
    }
   ],
   "source": [
    "data.name.unique()"
   ]
  },
  {
   "cell_type": "code",
   "execution_count": null,
   "metadata": {},
   "outputs": [],
   "source": []
  },
  {
   "cell_type": "code",
   "execution_count": 158,
   "metadata": {},
   "outputs": [
    {
     "name": "stdout",
     "output_type": "stream",
     "text": [
      "72\n"
     ]
    }
   ],
   "source": [
    "# #  taxi price indiction from uberx\n",
    "# source_dest_un=data[data['name']=='UberX']['source_destination'].unique()\n",
    "# print(len(source_dest_un))\n",
    "\n",
    "\n",
    "# index=data[data['name']=='Taxi'].index.values.tolist()\n",
    "\n",
    "# uberx_data=data[data['name']=='UberX']\n",
    "\n",
    "# for i in index:    \n",
    "#    dest_taxi=data.iloc[i,0]\n",
    "#    so_dest=data.iloc[i,-1]\n",
    "#    data.iloc[i,7]=uberx_data[(uberx_data['source_destination']==so_dest) & (uberx_data['distance']==dest_taxi)]['price'].mean()\n"
   ]
  },
  {
   "cell_type": "code",
   "execution_count": 193,
   "metadata": {
    "scrolled": true
   },
   "outputs": [
    {
     "name": "stdout",
     "output_type": "stream",
     "text": [
      "<class 'pandas.core.frame.DataFrame'>\n",
      "Int64Index: 18498 entries, 0 to 18497\n",
      "Data columns (total 10 columns):\n",
      " #   Column            Non-Null Count  Dtype  \n",
      "---  ------            --------------  -----  \n",
      " 0   distance          18498 non-null  float64\n",
      " 1   cab_type          18498 non-null  object \n",
      " 2   time_stamp        18498 non-null  float64\n",
      " 3   destination       18498 non-null  object \n",
      " 4   source            18498 non-null  object \n",
      " 5   surge_multiplier  18498 non-null  float64\n",
      " 6   id                18498 non-null  object \n",
      " 7   product_id        18498 non-null  object \n",
      " 8   name              18498 non-null  object \n",
      " 9   price             18498 non-null  float64\n",
      "dtypes: float64(4), object(6)\n",
      "memory usage: 1.6+ MB\n"
     ]
    }
   ],
   "source": [
    "data.info()"
   ]
  },
  {
   "cell_type": "code",
   "execution_count": 194,
   "metadata": {},
   "outputs": [],
   "source": [
    "data=check_dataset(csv_name)"
   ]
  },
  {
   "cell_type": "code",
   "execution_count": 195,
   "metadata": {},
   "outputs": [
    {
     "data": {
      "text/html": [
       "<div>\n",
       "<style scoped>\n",
       "    .dataframe tbody tr th:only-of-type {\n",
       "        vertical-align: middle;\n",
       "    }\n",
       "\n",
       "    .dataframe tbody tr th {\n",
       "        vertical-align: top;\n",
       "    }\n",
       "\n",
       "    .dataframe thead th {\n",
       "        text-align: right;\n",
       "    }\n",
       "</style>\n",
       "<table border=\"1\" class=\"dataframe\">\n",
       "  <thead>\n",
       "    <tr style=\"text-align: right;\">\n",
       "      <th></th>\n",
       "      <th>distance</th>\n",
       "      <th>cab_type</th>\n",
       "      <th>time_stamp</th>\n",
       "      <th>destination</th>\n",
       "      <th>source</th>\n",
       "      <th>surge_multiplier</th>\n",
       "      <th>id</th>\n",
       "      <th>product_id</th>\n",
       "      <th>name</th>\n",
       "      <th>price</th>\n",
       "    </tr>\n",
       "  </thead>\n",
       "  <tbody>\n",
       "    <tr>\n",
       "      <th>0</th>\n",
       "      <td>2.14</td>\n",
       "      <td>Lyft</td>\n",
       "      <td>1.543230e+12</td>\n",
       "      <td>South Station</td>\n",
       "      <td>North Station</td>\n",
       "      <td>1.0</td>\n",
       "      <td>d17c8f8f-5018-4dc1-b86b-0e67849e5f57</td>\n",
       "      <td>lyft_luxsuv</td>\n",
       "      <td>Lux Black XL</td>\n",
       "      <td>27.5</td>\n",
       "    </tr>\n",
       "    <tr>\n",
       "      <th>1</th>\n",
       "      <td>1.08</td>\n",
       "      <td>Uber</td>\n",
       "      <td>1.543280e+12</td>\n",
       "      <td>North End</td>\n",
       "      <td>North Station</td>\n",
       "      <td>1.0</td>\n",
       "      <td>4258d0c6-e1e5-45fb-bcee-d2a02aa5e6b0</td>\n",
       "      <td>997acbb5-e102-41e1-b155-9df7de0a73f2</td>\n",
       "      <td>UberPool</td>\n",
       "      <td>6.5</td>\n",
       "    </tr>\n",
       "    <tr>\n",
       "      <th>2</th>\n",
       "      <td>0.57</td>\n",
       "      <td>Lyft</td>\n",
       "      <td>1.543630e+12</td>\n",
       "      <td>North Station</td>\n",
       "      <td>Haymarket Square</td>\n",
       "      <td>1.0</td>\n",
       "      <td>a0a9b20e-d5ed-4eab-b2a5-d6ebd5eb3214</td>\n",
       "      <td>lyft_plus</td>\n",
       "      <td>Lyft XL</td>\n",
       "      <td>9.0</td>\n",
       "    </tr>\n",
       "    <tr>\n",
       "      <th>3</th>\n",
       "      <td>1.08</td>\n",
       "      <td>Lyft</td>\n",
       "      <td>1.543590e+12</td>\n",
       "      <td>Northeastern University</td>\n",
       "      <td>Back Bay</td>\n",
       "      <td>1.0</td>\n",
       "      <td>11f9ed79-2c2c-465a-8501-da97893ebcfc</td>\n",
       "      <td>lyft</td>\n",
       "      <td>Lyft</td>\n",
       "      <td>7.0</td>\n",
       "    </tr>\n",
       "    <tr>\n",
       "      <th>4</th>\n",
       "      <td>3.20</td>\n",
       "      <td>Uber</td>\n",
       "      <td>1.543240e+12</td>\n",
       "      <td>Financial District</td>\n",
       "      <td>Northeastern University</td>\n",
       "      <td>1.0</td>\n",
       "      <td>be3939d1-a5ee-43cc-a8ab-6f0da31594c5</td>\n",
       "      <td>55c66225-fbe7-4fd5-9072-eab1ece5e23e</td>\n",
       "      <td>UberX</td>\n",
       "      <td>11.0</td>\n",
       "    </tr>\n",
       "  </tbody>\n",
       "</table>\n",
       "</div>"
      ],
      "text/plain": [
       "   distance cab_type    time_stamp              destination  \\\n",
       "0      2.14     Lyft  1.543230e+12            South Station   \n",
       "1      1.08     Uber  1.543280e+12                North End   \n",
       "2      0.57     Lyft  1.543630e+12            North Station   \n",
       "3      1.08     Lyft  1.543590e+12  Northeastern University   \n",
       "4      3.20     Uber  1.543240e+12       Financial District   \n",
       "\n",
       "                    source  surge_multiplier  \\\n",
       "0            North Station               1.0   \n",
       "1            North Station               1.0   \n",
       "2         Haymarket Square               1.0   \n",
       "3                 Back Bay               1.0   \n",
       "4  Northeastern University               1.0   \n",
       "\n",
       "                                     id                            product_id  \\\n",
       "0  d17c8f8f-5018-4dc1-b86b-0e67849e5f57                           lyft_luxsuv   \n",
       "1  4258d0c6-e1e5-45fb-bcee-d2a02aa5e6b0  997acbb5-e102-41e1-b155-9df7de0a73f2   \n",
       "2  a0a9b20e-d5ed-4eab-b2a5-d6ebd5eb3214                             lyft_plus   \n",
       "3  11f9ed79-2c2c-465a-8501-da97893ebcfc                                  lyft   \n",
       "4  be3939d1-a5ee-43cc-a8ab-6f0da31594c5  55c66225-fbe7-4fd5-9072-eab1ece5e23e   \n",
       "\n",
       "           name  price  \n",
       "0  Lux Black XL   27.5  \n",
       "1      UberPool    6.5  \n",
       "2       Lyft XL    9.0  \n",
       "3          Lyft    7.0  \n",
       "4         UberX   11.0  "
      ]
     },
     "execution_count": 195,
     "metadata": {},
     "output_type": "execute_result"
    }
   ],
   "source": [
    "data.head()"
   ]
  },
  {
   "cell_type": "code",
   "execution_count": 196,
   "metadata": {},
   "outputs": [],
   "source": [
    "\n",
    "# data=check_dataset(csv_name)\n",
    "# data=data[:,1:]\n",
    "data.drop(['time_stamp','destination','source','id','product_id'],axis=1,inplace=True)\n",
    "data.cab_type=data.cab_type.str.lower()\n",
    "data.name=data.name.str.lower()\n",
    "data= pd.get_dummies(data, columns=[\"cab_type\"])\n",
    "data.drop(['cab_type_lyft'],axis=1,inplace=True)\n",
    "\n",
    "lyft={'lux black xl':6,'lux black':5,'lux':4,'lyft xl':3,'lyft':2,'shared':1}\n",
    "lyft_map=[{'col':'Lyft_Type','mapping':lyft}]\n",
    "\n",
    "data['Lyft_Type']=data['name']\n",
    "encodeing= ce.OrdinalEncoder(cols=['Lyft_Type'],return_df=True,mapping=lyft_map)\n",
    "data=encodeing.fit_transform(data)\n",
    "data.loc[data.Lyft_Type <1, 'Lyft_Type'] = 0\n",
    "\n",
    "uber={'black suv':6,'black':5,'wav':4,'uberxl':3,'uberx':2,'uberpool':1}\n",
    "uber_map=[{'col':'Uber_Type','mapping':uber}]\n",
    "data['Uber_Type']=data['name']\n",
    "encodeing= ce.OrdinalEncoder(cols=['Uber_Type'],return_df=True,mapping=uber_map)\n",
    "data=encodeing.fit_transform(data)\n",
    "data.loc[data.Uber_Type <1, 'Uber_Type'] = 0\n",
    "\n",
    "data.drop(['name'], axis = 1,inplace=True)\n",
    "X_input=data.loc[:,['distance', 'surge_multiplier', 'Lyft_Type', 'Uber_Type', 'cab_type_uber']]\n",
    "Y_input=data['price']"
   ]
  },
  {
   "cell_type": "code",
   "execution_count": 197,
   "metadata": {},
   "outputs": [],
   "source": [
    "import pickle\n"
   ]
  },
  {
   "cell_type": "code",
   "execution_count": 198,
   "metadata": {},
   "outputs": [
    {
     "data": {
      "text/html": [
       "<div>\n",
       "<style scoped>\n",
       "    .dataframe tbody tr th:only-of-type {\n",
       "        vertical-align: middle;\n",
       "    }\n",
       "\n",
       "    .dataframe tbody tr th {\n",
       "        vertical-align: top;\n",
       "    }\n",
       "\n",
       "    .dataframe thead th {\n",
       "        text-align: right;\n",
       "    }\n",
       "</style>\n",
       "<table border=\"1\" class=\"dataframe\">\n",
       "  <thead>\n",
       "    <tr style=\"text-align: right;\">\n",
       "      <th></th>\n",
       "      <th>distance</th>\n",
       "      <th>surge_multiplier</th>\n",
       "      <th>Lyft_Type</th>\n",
       "      <th>Uber_Type</th>\n",
       "      <th>cab_type_uber</th>\n",
       "    </tr>\n",
       "  </thead>\n",
       "  <tbody>\n",
       "    <tr>\n",
       "      <th>0</th>\n",
       "      <td>2.14</td>\n",
       "      <td>1.0</td>\n",
       "      <td>6.0</td>\n",
       "      <td>0.0</td>\n",
       "      <td>0</td>\n",
       "    </tr>\n",
       "    <tr>\n",
       "      <th>1</th>\n",
       "      <td>1.08</td>\n",
       "      <td>1.0</td>\n",
       "      <td>0.0</td>\n",
       "      <td>1.0</td>\n",
       "      <td>1</td>\n",
       "    </tr>\n",
       "    <tr>\n",
       "      <th>2</th>\n",
       "      <td>0.57</td>\n",
       "      <td>1.0</td>\n",
       "      <td>3.0</td>\n",
       "      <td>0.0</td>\n",
       "      <td>0</td>\n",
       "    </tr>\n",
       "    <tr>\n",
       "      <th>3</th>\n",
       "      <td>1.08</td>\n",
       "      <td>1.0</td>\n",
       "      <td>2.0</td>\n",
       "      <td>0.0</td>\n",
       "      <td>0</td>\n",
       "    </tr>\n",
       "    <tr>\n",
       "      <th>4</th>\n",
       "      <td>3.20</td>\n",
       "      <td>1.0</td>\n",
       "      <td>0.0</td>\n",
       "      <td>2.0</td>\n",
       "      <td>1</td>\n",
       "    </tr>\n",
       "  </tbody>\n",
       "</table>\n",
       "</div>"
      ],
      "text/plain": [
       "   distance  surge_multiplier  Lyft_Type  Uber_Type  cab_type_uber\n",
       "0      2.14               1.0        6.0        0.0              0\n",
       "1      1.08               1.0        0.0        1.0              1\n",
       "2      0.57               1.0        3.0        0.0              0\n",
       "3      1.08               1.0        2.0        0.0              0\n",
       "4      3.20               1.0        0.0        2.0              1"
      ]
     },
     "execution_count": 198,
     "metadata": {},
     "output_type": "execute_result"
    }
   ],
   "source": [
    "X_input.head()"
   ]
  },
  {
   "cell_type": "code",
   "execution_count": 199,
   "metadata": {},
   "outputs": [
    {
     "data": {
      "text/plain": [
       "(18498, 5)"
      ]
     },
     "execution_count": 199,
     "metadata": {},
     "output_type": "execute_result"
    }
   ],
   "source": [
    "X_input.shape"
   ]
  },
  {
   "cell_type": "code",
   "execution_count": 200,
   "metadata": {},
   "outputs": [],
   "source": [
    "poly_features = PolynomialFeatures(degree=6)"
   ]
  },
  {
   "cell_type": "code",
   "execution_count": 201,
   "metadata": {},
   "outputs": [],
   "source": [
    "pickle_mod=pickle.load(open(\"poly_model\",'rb'))"
   ]
  },
  {
   "cell_type": "code",
   "execution_count": 202,
   "metadata": {},
   "outputs": [],
   "source": [
    "pred=pickle_mod.predict(poly_features.fit_transform(X_input))"
   ]
  },
  {
   "cell_type": "code",
   "execution_count": 203,
   "metadata": {},
   "outputs": [
    {
     "name": "stdout",
     "output_type": "stream",
     "text": [
      "Mean Square Error 105.58614822541173\n",
      "r2_score: 48.48112757241749 %\n"
     ]
    }
   ],
   "source": [
    "print('Mean Square Error', metrics.mean_squared_error(pred,Y_input))\n",
    "print(\"r2_score:\",metrics.r2_score(pred,Y_input)*100,\"%\")"
   ]
  },
  {
   "cell_type": "code",
   "execution_count": 147,
   "metadata": {},
   "outputs": [],
   "source": [
    "csv_name=\"taxi-tas-classification-test.csv\""
   ]
  },
  {
   "cell_type": "code",
   "execution_count": 148,
   "metadata": {},
   "outputs": [],
   "source": [
    "data=check_dataset(csv_name)"
   ]
  },
  {
   "cell_type": "code",
   "execution_count": 149,
   "metadata": {},
   "outputs": [
    {
     "data": {
      "text/html": [
       "<div>\n",
       "<style scoped>\n",
       "    .dataframe tbody tr th:only-of-type {\n",
       "        vertical-align: middle;\n",
       "    }\n",
       "\n",
       "    .dataframe tbody tr th {\n",
       "        vertical-align: top;\n",
       "    }\n",
       "\n",
       "    .dataframe thead th {\n",
       "        text-align: right;\n",
       "    }\n",
       "</style>\n",
       "<table border=\"1\" class=\"dataframe\">\n",
       "  <thead>\n",
       "    <tr style=\"text-align: right;\">\n",
       "      <th></th>\n",
       "      <th>distance</th>\n",
       "      <th>cab_type</th>\n",
       "      <th>time_stamp</th>\n",
       "      <th>destination</th>\n",
       "      <th>source</th>\n",
       "      <th>surge_multiplier</th>\n",
       "      <th>id</th>\n",
       "      <th>product_id</th>\n",
       "      <th>name</th>\n",
       "      <th>RideCategory</th>\n",
       "    </tr>\n",
       "  </thead>\n",
       "  <tbody>\n",
       "    <tr>\n",
       "      <th>0</th>\n",
       "      <td>2.14</td>\n",
       "      <td>Lyft</td>\n",
       "      <td>1.543230e+12</td>\n",
       "      <td>South Station</td>\n",
       "      <td>North Station</td>\n",
       "      <td>1.0</td>\n",
       "      <td>d17c8f8f-5018-4dc1-b86b-0e67849e5f57</td>\n",
       "      <td>lyft_luxsuv</td>\n",
       "      <td>Lux Black XL</td>\n",
       "      <td>expensive</td>\n",
       "    </tr>\n",
       "    <tr>\n",
       "      <th>1</th>\n",
       "      <td>1.08</td>\n",
       "      <td>Uber</td>\n",
       "      <td>1.543280e+12</td>\n",
       "      <td>North End</td>\n",
       "      <td>North Station</td>\n",
       "      <td>1.0</td>\n",
       "      <td>4258d0c6-e1e5-45fb-bcee-d2a02aa5e6b0</td>\n",
       "      <td>997acbb5-e102-41e1-b155-9df7de0a73f2</td>\n",
       "      <td>UberPool</td>\n",
       "      <td>cheap</td>\n",
       "    </tr>\n",
       "    <tr>\n",
       "      <th>2</th>\n",
       "      <td>0.57</td>\n",
       "      <td>Lyft</td>\n",
       "      <td>1.543630e+12</td>\n",
       "      <td>North Station</td>\n",
       "      <td>Haymarket Square</td>\n",
       "      <td>1.0</td>\n",
       "      <td>a0a9b20e-d5ed-4eab-b2a5-d6ebd5eb3214</td>\n",
       "      <td>lyft_plus</td>\n",
       "      <td>Lyft XL</td>\n",
       "      <td>cheap</td>\n",
       "    </tr>\n",
       "    <tr>\n",
       "      <th>3</th>\n",
       "      <td>1.08</td>\n",
       "      <td>Lyft</td>\n",
       "      <td>1.543590e+12</td>\n",
       "      <td>Northeastern University</td>\n",
       "      <td>Back Bay</td>\n",
       "      <td>1.0</td>\n",
       "      <td>11f9ed79-2c2c-465a-8501-da97893ebcfc</td>\n",
       "      <td>lyft</td>\n",
       "      <td>Lyft</td>\n",
       "      <td>cheap</td>\n",
       "    </tr>\n",
       "    <tr>\n",
       "      <th>4</th>\n",
       "      <td>3.20</td>\n",
       "      <td>Uber</td>\n",
       "      <td>1.543240e+12</td>\n",
       "      <td>Financial District</td>\n",
       "      <td>Northeastern University</td>\n",
       "      <td>1.0</td>\n",
       "      <td>be3939d1-a5ee-43cc-a8ab-6f0da31594c5</td>\n",
       "      <td>55c66225-fbe7-4fd5-9072-eab1ece5e23e</td>\n",
       "      <td>UberX</td>\n",
       "      <td>moderate</td>\n",
       "    </tr>\n",
       "  </tbody>\n",
       "</table>\n",
       "</div>"
      ],
      "text/plain": [
       "   distance cab_type    time_stamp              destination  \\\n",
       "0      2.14     Lyft  1.543230e+12            South Station   \n",
       "1      1.08     Uber  1.543280e+12                North End   \n",
       "2      0.57     Lyft  1.543630e+12            North Station   \n",
       "3      1.08     Lyft  1.543590e+12  Northeastern University   \n",
       "4      3.20     Uber  1.543240e+12       Financial District   \n",
       "\n",
       "                    source  surge_multiplier  \\\n",
       "0            North Station               1.0   \n",
       "1            North Station               1.0   \n",
       "2         Haymarket Square               1.0   \n",
       "3                 Back Bay               1.0   \n",
       "4  Northeastern University               1.0   \n",
       "\n",
       "                                     id                            product_id  \\\n",
       "0  d17c8f8f-5018-4dc1-b86b-0e67849e5f57                           lyft_luxsuv   \n",
       "1  4258d0c6-e1e5-45fb-bcee-d2a02aa5e6b0  997acbb5-e102-41e1-b155-9df7de0a73f2   \n",
       "2  a0a9b20e-d5ed-4eab-b2a5-d6ebd5eb3214                             lyft_plus   \n",
       "3  11f9ed79-2c2c-465a-8501-da97893ebcfc                                  lyft   \n",
       "4  be3939d1-a5ee-43cc-a8ab-6f0da31594c5  55c66225-fbe7-4fd5-9072-eab1ece5e23e   \n",
       "\n",
       "           name RideCategory  \n",
       "0  Lux Black XL    expensive  \n",
       "1      UberPool        cheap  \n",
       "2       Lyft XL        cheap  \n",
       "3          Lyft        cheap  \n",
       "4         UberX     moderate  "
      ]
     },
     "execution_count": 149,
     "metadata": {},
     "output_type": "execute_result"
    }
   ],
   "source": [
    "data.head()"
   ]
  },
  {
   "cell_type": "code",
   "execution_count": 150,
   "metadata": {},
   "outputs": [],
   "source": [
    "data.drop(['time_stamp','destination','source','id','product_id'],axis=1,inplace=True)\n",
    "data.cab_type=data.cab_type.str.lower()\n",
    "data.name=data.name.str.lower()\n",
    "data= pd.get_dummies(data, columns=[\"cab_type\"])\n",
    "# data.drop(['cab_type_lyft'],axis=1,inplace=True)\n",
    "\n",
    "lyft={'lux black xl':6,'lux black':5,'lux':4,'lyft xl':3,'lyft':2,'shared':1}\n",
    "lyft_map=[{'col':'Lyft_Type','mapping':lyft}]\n",
    "\n",
    "data['Lyft_Type']=data['name']\n",
    "encodeing= ce.OrdinalEncoder(cols=['Lyft_Type'],return_df=True,mapping=lyft_map)\n",
    "data=encodeing.fit_transform(data)\n",
    "data.loc[data.Lyft_Type <1, 'Lyft_Type'] = 0\n",
    "\n",
    "uber={'black suv':7,'black':6,'wav':5,'uberxl':4,'uberx':3,'taxi':2,'uberpool':1}\n",
    "uber_map=[{'col':'Uber_Type','mapping':uber}]\n",
    "data['Uber_Type']=data['name']\n",
    "encodeing= ce.OrdinalEncoder(cols=['Uber_Type'],return_df=True,mapping=uber_map)\n",
    "data=encodeing.fit_transform(data)\n",
    "data.loc[data.Uber_Type <1, 'Uber_Type'] = 0\n",
    "\n",
    "data.drop(['name'], axis = 1,inplace=True)\n",
    "Ride={'very expensive':4,'expensive':3,'moderate':2,'cheap':1,'unknown':0}\n",
    "Ride_Category_map=[{'col':'Ride_Category','mapping':Ride}]\n",
    "data['Ride_Category']=data['RideCategory']\n",
    "encodeing= ce.OrdinalEncoder(cols=['Ride_Category'],return_df=True,mapping=Ride_Category_map)\n",
    "data=encodeing.fit_transform(data)\n",
    "data.drop(['RideCategory'],axis=1,inplace=True)\n",
    "\n",
    "X_input=data.loc[:,['distance', 'surge_multiplier','cab_type_lyft','cab_type_uber', 'Lyft_Type', 'Uber_Type']]\n",
    "Y_input=data['Ride_Category']"
   ]
  },
  {
   "cell_type": "code",
   "execution_count": 151,
   "metadata": {},
   "outputs": [
    {
     "name": "stdout",
     "output_type": "stream",
     "text": [
      "   distance  surge_multiplier  cab_type_lyft  cab_type_uber  Lyft_Type  \\\n",
      "0      2.14               1.0              1              0        6.0   \n",
      "1      1.08               1.0              0              1        0.0   \n",
      "2      0.57               1.0              1              0        3.0   \n",
      "3      1.08               1.0              1              0        2.0   \n",
      "4      3.20               1.0              0              1        0.0   \n",
      "\n",
      "   Uber_Type  Ride_Category  \n",
      "0        0.0              3  \n",
      "1        1.0              1  \n",
      "2        0.0              1  \n",
      "3        0.0              1  \n",
      "4        3.0              2  \n"
     ]
    }
   ],
   "source": [
    "print(data.head())"
   ]
  },
  {
   "cell_type": "code",
   "execution_count": 152,
   "metadata": {},
   "outputs": [],
   "source": [
    "pickle_mod=pickle.load(open(\"randomforest\",'rb'))"
   ]
  },
  {
   "cell_type": "code",
   "execution_count": 153,
   "metadata": {},
   "outputs": [],
   "source": [
    "pred=pickle_mod.predict(X_input)"
   ]
  },
  {
   "cell_type": "code",
   "execution_count": 154,
   "metadata": {},
   "outputs": [
    {
     "name": "stdout",
     "output_type": "stream",
     "text": [
      "Accuracy: 0.8799329657260244\n"
     ]
    }
   ],
   "source": [
    "print(\"Accuracy:\",metrics.accuracy_score(Y_input, pred))"
   ]
  }
 ],
 "metadata": {
  "kernelspec": {
   "display_name": "Python 3",
   "language": "python",
   "name": "python3"
  },
  "language_info": {
   "codemirror_mode": {
    "name": "ipython",
    "version": 3
   },
   "file_extension": ".py",
   "mimetype": "text/x-python",
   "name": "python",
   "nbconvert_exporter": "python",
   "pygments_lexer": "ipython3",
   "version": "3.8.5"
  }
 },
 "nbformat": 4,
 "nbformat_minor": 4
}
